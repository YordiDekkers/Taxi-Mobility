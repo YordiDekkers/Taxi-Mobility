{
 "cells": [
  {
   "cell_type": "markdown",
   "metadata": {},
   "source": [
    "# 1. Import libraries"
   ]
  },
  {
   "cell_type": "code",
   "execution_count": 967,
   "metadata": {},
   "outputs": [],
   "source": [
    "import os\n",
    "import path\n",
    "import math\n",
    "import numpy as np\n",
    "import pandas as pd\n",
    "from scipy.stats import boxcox\n",
    "from haversine import haversine, Unit\n",
    "from datetime import datetime\n",
    "from pandas import Timestamp\n",
    "import matplotlib.pyplot as plt\n",
    "import seaborn as sns\n",
    "import xgboost as xgb\n",
    "from sklearn.model_selection import GridSearchCV\n",
    "from sklearn.metrics import mean_absolute_error\n",
    "from sklearn.metrics import mean_squared_error\n",
    "from sklearn.ensemble import RandomForestRegressor\n",
    "from sklearn.linear_model import SGDRegressor\n",
    "from sklearn.cluster import MiniBatchKMeans, KMeans\n",
    "from sklearn.preprocessing import StandardScaler\n",
    "import warnings\n",
    "\n",
    "warnings.filterwarnings(\"ignore\")"
   ]
  },
  {
   "cell_type": "markdown",
   "metadata": {},
   "source": [
    "# 2. Input data"
   ]
  },
  {
   "cell_type": "markdown",
   "metadata": {},
   "source": [
    "### 1. Merge all small files to form a big file. Also add a feature (cab_no) that help distinguish one cab data from other."
   ]
  },
  {
   "cell_type": "code",
   "execution_count": 2,
   "metadata": {},
   "outputs": [],
   "source": [
    "# List of cab data files\n",
    "cabFiles = os.listdir(\"cabspottingdata\")\n",
    "\n",
    "# This will help in distinguishing data from different cabs\n",
    "cabNumber = 1\n",
    "\n",
    "# Open output file in write mode\n",
    "with open(\"allData.txt\", \"w\") as outfile:\n",
    "    # Iterate through list\n",
    "    for cabFile in cabFiles:\n",
    "        # Open each file in read mode\n",
    "        with open(\"cabspottingdata/\" + cabFile, \"r\") as infile:\n",
    "            # Data from a file\n",
    "            lines = infile.read().splitlines()\n",
    "            # Add the cab number to the file data\n",
    "            new_lines = [str(cabNumber) + \" \" + line.strip() for line in lines]\n",
    "            # Write the file data to a output file\n",
    "            outfile.write(\"\\n\".join(new_lines))\n",
    "\n",
    "        # Increment the cab number\n",
    "        cabNumber = cabNumber + 1"
   ]
  },
  {
   "cell_type": "markdown",
   "metadata": {},
   "source": [
    "### 2. Read data from the big merged file into a dataframe"
   ]
  },
  {
   "cell_type": "code",
   "execution_count": 3,
   "metadata": {},
   "outputs": [],
   "source": [
    "# Read the data, no header, with space as separator and ignore errors from wrong data\n",
    "cab_data = pd.read_csv(\n",
    "    \"allData.txt\", error_bad_lines=False, warn_bad_lines=False, sep=\" \", header=None\n",
    ")\n",
    "\n",
    "# Assign column names\n",
    "cab_data.columns = [\"cab_no\", \"latitude\", \"longitude\", \"occupancy\", \"unix_time\"]\n",
    "\n",
    "# Convert Unix time to datatimestamp\n",
    "cab_data[\"date_time\"] = pd.to_datetime(cab_data[\"unix_time\"], unit=\"s\")"
   ]
  },
  {
   "cell_type": "code",
   "execution_count": 4,
   "metadata": {},
   "outputs": [
    {
     "data": {
      "text/html": [
       "<div>\n",
       "<style scoped>\n",
       "    .dataframe tbody tr th:only-of-type {\n",
       "        vertical-align: middle;\n",
       "    }\n",
       "\n",
       "    .dataframe tbody tr th {\n",
       "        vertical-align: top;\n",
       "    }\n",
       "\n",
       "    .dataframe thead th {\n",
       "        text-align: right;\n",
       "    }\n",
       "</style>\n",
       "<table border=\"1\" class=\"dataframe\">\n",
       "  <thead>\n",
       "    <tr style=\"text-align: right;\">\n",
       "      <th></th>\n",
       "      <th>cab_no</th>\n",
       "      <th>latitude</th>\n",
       "      <th>longitude</th>\n",
       "      <th>occupancy</th>\n",
       "      <th>unix_time</th>\n",
       "      <th>date_time</th>\n",
       "    </tr>\n",
       "  </thead>\n",
       "  <tbody>\n",
       "    <tr>\n",
       "      <th>0</th>\n",
       "      <td>1</td>\n",
       "      <td>37.75153</td>\n",
       "      <td>-122.39447</td>\n",
       "      <td>0</td>\n",
       "      <td>1211033530</td>\n",
       "      <td>2008-05-17 14:12:10</td>\n",
       "    </tr>\n",
       "    <tr>\n",
       "      <th>1</th>\n",
       "      <td>1</td>\n",
       "      <td>37.75149</td>\n",
       "      <td>-122.39447</td>\n",
       "      <td>0</td>\n",
       "      <td>1211033614</td>\n",
       "      <td>2008-05-17 14:13:34</td>\n",
       "    </tr>\n",
       "    <tr>\n",
       "      <th>2</th>\n",
       "      <td>1</td>\n",
       "      <td>37.75149</td>\n",
       "      <td>-122.39447</td>\n",
       "      <td>0</td>\n",
       "      <td>1211033674</td>\n",
       "      <td>2008-05-17 14:14:34</td>\n",
       "    </tr>\n",
       "    <tr>\n",
       "      <th>3</th>\n",
       "      <td>1</td>\n",
       "      <td>37.75149</td>\n",
       "      <td>-122.39446</td>\n",
       "      <td>0</td>\n",
       "      <td>1211033735</td>\n",
       "      <td>2008-05-17 14:15:35</td>\n",
       "    </tr>\n",
       "    <tr>\n",
       "      <th>4</th>\n",
       "      <td>1</td>\n",
       "      <td>37.75144</td>\n",
       "      <td>-122.39449</td>\n",
       "      <td>0</td>\n",
       "      <td>1211035303</td>\n",
       "      <td>2008-05-17 14:41:43</td>\n",
       "    </tr>\n",
       "  </tbody>\n",
       "</table>\n",
       "</div>"
      ],
      "text/plain": [
       "   cab_no  latitude  longitude  occupancy   unix_time           date_time\n",
       "0       1  37.75153 -122.39447          0  1211033530 2008-05-17 14:12:10\n",
       "1       1  37.75149 -122.39447          0  1211033614 2008-05-17 14:13:34\n",
       "2       1  37.75149 -122.39447          0  1211033674 2008-05-17 14:14:34\n",
       "3       1  37.75149 -122.39446          0  1211033735 2008-05-17 14:15:35\n",
       "4       1  37.75144 -122.39449          0  1211035303 2008-05-17 14:41:43"
      ]
     },
     "execution_count": 4,
     "metadata": {},
     "output_type": "execute_result"
    }
   ],
   "source": [
    "cab_data.head()"
   ]
  },
  {
   "cell_type": "markdown",
   "metadata": {},
   "source": [
    "# 2. The potential for yearly reduction on CO2 emissions"
   ]
  },
  {
   "cell_type": "markdown",
   "metadata": {},
   "source": [
    "## 2.1 Feature engineering"
   ]
  },
  {
   "cell_type": "markdown",
   "metadata": {},
   "source": [
    "### 1. Create a dataframe with rides or journeys with and without passengers"
   ]
  },
  {
   "cell_type": "markdown",
   "metadata": {},
   "source": [
    "In order to determine the potential of CO2 emissions caused by taxi cabs roaming without passengers, we have to know when the cabs were with passengers and when without. So let's trasform the taxi sensor data to get taxi rides data."
   ]
  },
  {
   "cell_type": "code",
   "execution_count": 5,
   "metadata": {},
   "outputs": [],
   "source": [
    "column_names = [\n",
    "    \"cab_no\",\n",
    "    \"startLatitude\",\n",
    "    \"endLatitude\",\n",
    "    \"startLongitude\",\n",
    "    \"endLongitude\",\n",
    "    \"startTime\",\n",
    "    \"endTime\",\n",
    "    \"occupancy\",\n",
    "]\n",
    "cab_data_rides = pd.DataFrame(columns=column_names)"
   ]
  },
  {
   "cell_type": "code",
   "execution_count": 6,
   "metadata": {},
   "outputs": [
    {
     "name": "stdout",
     "output_type": "stream",
     "text": [
      "processing data for a new cab - cab no =  1\n",
      "First record - cab no =  1\n",
      "processing data for a new cab - cab no =  2\n",
      "First record - cab no =  2\n",
      "processing data for a new cab - cab no =  3\n",
      "First record - cab no =  3\n",
      "processing data for a new cab - cab no =  4\n",
      "First record - cab no =  4\n",
      "processing data for a new cab - cab no =  5\n",
      "First record - cab no =  5\n",
      "processing data for a new cab - cab no =  6\n",
      "First record - cab no =  6\n",
      "processing data for a new cab - cab no =  7\n",
      "First record - cab no =  7\n",
      "processing data for a new cab - cab no =  8\n",
      "First record - cab no =  8\n",
      "processing data for a new cab - cab no =  9\n",
      "First record - cab no =  9\n",
      "processing data for a new cab - cab no =  10\n",
      "First record - cab no =  10\n",
      "processing data for a new cab - cab no =  11\n",
      "First record - cab no =  11\n",
      "processing data for a new cab - cab no =  12\n",
      "First record - cab no =  12\n",
      "processing data for a new cab - cab no =  13\n",
      "First record - cab no =  13\n",
      "processing data for a new cab - cab no =  14\n",
      "First record - cab no =  14\n",
      "processing data for a new cab - cab no =  15\n",
      "First record - cab no =  15\n",
      "processing data for a new cab - cab no =  16\n",
      "First record - cab no =  16\n",
      "processing data for a new cab - cab no =  17\n",
      "First record - cab no =  17\n",
      "processing data for a new cab - cab no =  18\n",
      "First record - cab no =  18\n",
      "processing data for a new cab - cab no =  19\n",
      "First record - cab no =  19\n",
      "processing data for a new cab - cab no =  20\n",
      "First record - cab no =  20\n",
      "processing data for a new cab - cab no =  21\n",
      "First record - cab no =  21\n",
      "processing data for a new cab - cab no =  22\n",
      "First record - cab no =  22\n",
      "processing data for a new cab - cab no =  23\n",
      "First record - cab no =  23\n",
      "processing data for a new cab - cab no =  24\n",
      "First record - cab no =  24\n",
      "processing data for a new cab - cab no =  25\n",
      "First record - cab no =  25\n",
      "processing data for a new cab - cab no =  26\n",
      "First record - cab no =  26\n",
      "processing data for a new cab - cab no =  27\n",
      "First record - cab no =  27\n",
      "processing data for a new cab - cab no =  28\n",
      "First record - cab no =  28\n",
      "processing data for a new cab - cab no =  29\n",
      "First record - cab no =  29\n",
      "processing data for a new cab - cab no =  30\n",
      "First record - cab no =  30\n",
      "processing data for a new cab - cab no =  31\n",
      "First record - cab no =  31\n",
      "processing data for a new cab - cab no =  32\n",
      "First record - cab no =  32\n",
      "processing data for a new cab - cab no =  33\n",
      "First record - cab no =  33\n",
      "processing data for a new cab - cab no =  34\n",
      "First record - cab no =  34\n",
      "processing data for a new cab - cab no =  35\n",
      "First record - cab no =  35\n",
      "processing data for a new cab - cab no =  36\n",
      "First record - cab no =  36\n",
      "processing data for a new cab - cab no =  37\n",
      "First record - cab no =  37\n",
      "processing data for a new cab - cab no =  38\n",
      "First record - cab no =  38\n",
      "processing data for a new cab - cab no =  39\n",
      "First record - cab no =  39\n",
      "processing data for a new cab - cab no =  40\n",
      "First record - cab no =  40\n",
      "processing data for a new cab - cab no =  41\n",
      "First record - cab no =  41\n",
      "processing data for a new cab - cab no =  42\n",
      "First record - cab no =  42\n",
      "processing data for a new cab - cab no =  43\n",
      "First record - cab no =  43\n",
      "processing data for a new cab - cab no =  44\n",
      "First record - cab no =  44\n",
      "processing data for a new cab - cab no =  45\n",
      "First record - cab no =  45\n",
      "processing data for a new cab - cab no =  46\n",
      "First record - cab no =  46\n",
      "processing data for a new cab - cab no =  47\n",
      "First record - cab no =  47\n",
      "processing data for a new cab - cab no =  48\n",
      "First record - cab no =  48\n",
      "processing data for a new cab - cab no =  49\n",
      "First record - cab no =  49\n",
      "processing data for a new cab - cab no =  50\n",
      "First record - cab no =  50\n",
      "processing data for a new cab - cab no =  51\n",
      "First record - cab no =  51\n",
      "processing data for a new cab - cab no =  52\n",
      "First record - cab no =  52\n",
      "processing data for a new cab - cab no =  53\n",
      "First record - cab no =  53\n",
      "processing data for a new cab - cab no =  54\n",
      "First record - cab no =  54\n",
      "processing data for a new cab - cab no =  55\n",
      "First record - cab no =  55\n",
      "processing data for a new cab - cab no =  56\n",
      "First record - cab no =  56\n",
      "processing data for a new cab - cab no =  57\n",
      "First record - cab no =  57\n",
      "processing data for a new cab - cab no =  58\n",
      "First record - cab no =  58\n",
      "processing data for a new cab - cab no =  59\n",
      "First record - cab no =  59\n",
      "processing data for a new cab - cab no =  60\n",
      "First record - cab no =  60\n",
      "processing data for a new cab - cab no =  61\n",
      "First record - cab no =  61\n",
      "processing data for a new cab - cab no =  62\n",
      "First record - cab no =  62\n",
      "processing data for a new cab - cab no =  63\n",
      "First record - cab no =  63\n",
      "processing data for a new cab - cab no =  64\n",
      "First record - cab no =  64\n",
      "processing data for a new cab - cab no =  65\n",
      "First record - cab no =  65\n",
      "processing data for a new cab - cab no =  66\n",
      "First record - cab no =  66\n",
      "processing data for a new cab - cab no =  67\n",
      "First record - cab no =  67\n",
      "processing data for a new cab - cab no =  68\n",
      "First record - cab no =  68\n",
      "processing data for a new cab - cab no =  69\n",
      "First record - cab no =  69\n",
      "processing data for a new cab - cab no =  70\n",
      "First record - cab no =  70\n",
      "processing data for a new cab - cab no =  71\n",
      "First record - cab no =  71\n",
      "processing data for a new cab - cab no =  72\n",
      "First record - cab no =  72\n",
      "processing data for a new cab - cab no =  73\n",
      "First record - cab no =  73\n",
      "processing data for a new cab - cab no =  74\n",
      "First record - cab no =  74\n",
      "processing data for a new cab - cab no =  75\n",
      "First record - cab no =  75\n",
      "processing data for a new cab - cab no =  76\n",
      "First record - cab no =  76\n",
      "processing data for a new cab - cab no =  77\n",
      "First record - cab no =  77\n",
      "processing data for a new cab - cab no =  78\n",
      "First record - cab no =  78\n",
      "processing data for a new cab - cab no =  79\n",
      "First record - cab no =  79\n",
      "processing data for a new cab - cab no =  80\n",
      "First record - cab no =  80\n",
      "processing data for a new cab - cab no =  81\n",
      "First record - cab no =  81\n",
      "processing data for a new cab - cab no =  82\n",
      "First record - cab no =  82\n",
      "processing data for a new cab - cab no =  83\n",
      "First record - cab no =  83\n",
      "processing data for a new cab - cab no =  84\n",
      "First record - cab no =  84\n",
      "processing data for a new cab - cab no =  85\n",
      "First record - cab no =  85\n",
      "processing data for a new cab - cab no =  86\n",
      "First record - cab no =  86\n",
      "processing data for a new cab - cab no =  87\n",
      "First record - cab no =  87\n",
      "processing data for a new cab - cab no =  88\n",
      "First record - cab no =  88\n",
      "processing data for a new cab - cab no =  89\n",
      "First record - cab no =  89\n",
      "processing data for a new cab - cab no =  90\n",
      "First record - cab no =  90\n",
      "processing data for a new cab - cab no =  91\n",
      "First record - cab no =  91\n",
      "processing data for a new cab - cab no =  92\n",
      "First record - cab no =  92\n",
      "processing data for a new cab - cab no =  93\n",
      "First record - cab no =  93\n",
      "processing data for a new cab - cab no =  94\n",
      "First record - cab no =  94\n",
      "processing data for a new cab - cab no =  95\n",
      "First record - cab no =  95\n",
      "processing data for a new cab - cab no =  96\n",
      "First record - cab no =  96\n",
      "processing data for a new cab - cab no =  97\n",
      "First record - cab no =  97\n",
      "processing data for a new cab - cab no =  98\n",
      "First record - cab no =  98\n",
      "processing data for a new cab - cab no =  99\n",
      "First record - cab no =  99\n",
      "processing data for a new cab - cab no =  100\n",
      "First record - cab no =  100\n",
      "processing data for a new cab - cab no =  101\n",
      "First record - cab no =  101\n",
      "processing data for a new cab - cab no =  102\n",
      "First record - cab no =  102\n",
      "processing data for a new cab - cab no =  103\n",
      "First record - cab no =  103\n",
      "processing data for a new cab - cab no =  104\n",
      "First record - cab no =  104\n",
      "processing data for a new cab - cab no =  105\n",
      "First record - cab no =  105\n",
      "processing data for a new cab - cab no =  106\n",
      "First record - cab no =  106\n",
      "processing data for a new cab - cab no =  107\n",
      "First record - cab no =  107\n",
      "processing data for a new cab - cab no =  108\n",
      "First record - cab no =  108\n",
      "processing data for a new cab - cab no =  109\n",
      "First record - cab no =  109\n",
      "processing data for a new cab - cab no =  110\n",
      "First record - cab no =  110\n",
      "processing data for a new cab - cab no =  111\n",
      "First record - cab no =  111\n",
      "processing data for a new cab - cab no =  112\n",
      "First record - cab no =  112\n",
      "processing data for a new cab - cab no =  113\n",
      "First record - cab no =  113\n"
     ]
    },
    {
     "name": "stdout",
     "output_type": "stream",
     "text": [
      "processing data for a new cab - cab no =  114\n",
      "First record - cab no =  114\n",
      "processing data for a new cab - cab no =  115\n",
      "First record - cab no =  115\n",
      "processing data for a new cab - cab no =  116\n",
      "First record - cab no =  116\n",
      "processing data for a new cab - cab no =  117\n",
      "First record - cab no =  117\n",
      "processing data for a new cab - cab no =  118\n",
      "First record - cab no =  118\n",
      "processing data for a new cab - cab no =  119\n",
      "First record - cab no =  119\n",
      "processing data for a new cab - cab no =  120\n",
      "First record - cab no =  120\n",
      "processing data for a new cab - cab no =  121\n",
      "First record - cab no =  121\n",
      "processing data for a new cab - cab no =  122\n",
      "First record - cab no =  122\n",
      "processing data for a new cab - cab no =  123\n",
      "First record - cab no =  123\n",
      "processing data for a new cab - cab no =  124\n",
      "First record - cab no =  124\n",
      "processing data for a new cab - cab no =  125\n",
      "First record - cab no =  125\n",
      "processing data for a new cab - cab no =  126\n",
      "First record - cab no =  126\n",
      "processing data for a new cab - cab no =  127\n",
      "First record - cab no =  127\n",
      "processing data for a new cab - cab no =  128\n",
      "First record - cab no =  128\n",
      "processing data for a new cab - cab no =  129\n",
      "First record - cab no =  129\n",
      "processing data for a new cab - cab no =  130\n",
      "First record - cab no =  130\n",
      "processing data for a new cab - cab no =  131\n",
      "First record - cab no =  131\n",
      "processing data for a new cab - cab no =  132\n",
      "First record - cab no =  132\n",
      "processing data for a new cab - cab no =  133\n",
      "First record - cab no =  133\n",
      "processing data for a new cab - cab no =  134\n",
      "First record - cab no =  134\n",
      "processing data for a new cab - cab no =  135\n",
      "First record - cab no =  135\n",
      "processing data for a new cab - cab no =  136\n",
      "First record - cab no =  136\n",
      "processing data for a new cab - cab no =  137\n",
      "First record - cab no =  137\n",
      "processing data for a new cab - cab no =  138\n",
      "First record - cab no =  138\n",
      "processing data for a new cab - cab no =  139\n",
      "First record - cab no =  139\n",
      "processing data for a new cab - cab no =  140\n",
      "First record - cab no =  140\n",
      "processing data for a new cab - cab no =  141\n",
      "First record - cab no =  141\n",
      "processing data for a new cab - cab no =  142\n",
      "First record - cab no =  142\n",
      "processing data for a new cab - cab no =  143\n",
      "First record - cab no =  143\n",
      "processing data for a new cab - cab no =  144\n",
      "First record - cab no =  144\n",
      "processing data for a new cab - cab no =  145\n",
      "First record - cab no =  145\n",
      "processing data for a new cab - cab no =  146\n",
      "First record - cab no =  146\n",
      "processing data for a new cab - cab no =  147\n",
      "First record - cab no =  147\n",
      "processing data for a new cab - cab no =  148\n",
      "First record - cab no =  148\n",
      "processing data for a new cab - cab no =  149\n",
      "First record - cab no =  149\n",
      "processing data for a new cab - cab no =  150\n",
      "First record - cab no =  150\n",
      "processing data for a new cab - cab no =  151\n",
      "First record - cab no =  151\n",
      "processing data for a new cab - cab no =  152\n",
      "First record - cab no =  152\n",
      "processing data for a new cab - cab no =  153\n",
      "First record - cab no =  153\n",
      "processing data for a new cab - cab no =  154\n",
      "First record - cab no =  154\n",
      "processing data for a new cab - cab no =  155\n",
      "First record - cab no =  155\n",
      "processing data for a new cab - cab no =  156\n",
      "First record - cab no =  156\n",
      "processing data for a new cab - cab no =  157\n",
      "First record - cab no =  157\n",
      "processing data for a new cab - cab no =  158\n",
      "First record - cab no =  158\n",
      "processing data for a new cab - cab no =  159\n",
      "First record - cab no =  159\n",
      "processing data for a new cab - cab no =  160\n",
      "First record - cab no =  160\n",
      "processing data for a new cab - cab no =  161\n",
      "First record - cab no =  161\n",
      "processing data for a new cab - cab no =  162\n",
      "First record - cab no =  162\n",
      "processing data for a new cab - cab no =  163\n",
      "First record - cab no =  163\n",
      "processing data for a new cab - cab no =  164\n",
      "First record - cab no =  164\n",
      "processing data for a new cab - cab no =  165\n",
      "First record - cab no =  165\n",
      "processing data for a new cab - cab no =  166\n",
      "First record - cab no =  166\n",
      "processing data for a new cab - cab no =  167\n",
      "First record - cab no =  167\n",
      "processing data for a new cab - cab no =  168\n",
      "First record - cab no =  168\n",
      "processing data for a new cab - cab no =  169\n",
      "First record - cab no =  169\n",
      "processing data for a new cab - cab no =  170\n",
      "First record - cab no =  170\n",
      "processing data for a new cab - cab no =  171\n",
      "First record - cab no =  171\n",
      "processing data for a new cab - cab no =  172\n",
      "First record - cab no =  172\n",
      "processing data for a new cab - cab no =  173\n",
      "First record - cab no =  173\n",
      "processing data for a new cab - cab no =  174\n",
      "First record - cab no =  174\n",
      "processing data for a new cab - cab no =  175\n",
      "First record - cab no =  175\n",
      "processing data for a new cab - cab no =  176\n",
      "First record - cab no =  176\n",
      "processing data for a new cab - cab no =  177\n",
      "First record - cab no =  177\n",
      "processing data for a new cab - cab no =  178\n",
      "First record - cab no =  178\n",
      "processing data for a new cab - cab no =  179\n",
      "First record - cab no =  179\n",
      "processing data for a new cab - cab no =  180\n",
      "First record - cab no =  180\n",
      "processing data for a new cab - cab no =  181\n",
      "First record - cab no =  181\n",
      "processing data for a new cab - cab no =  182\n",
      "First record - cab no =  182\n",
      "processing data for a new cab - cab no =  183\n",
      "First record - cab no =  183\n",
      "processing data for a new cab - cab no =  184\n",
      "First record - cab no =  184\n",
      "processing data for a new cab - cab no =  185\n",
      "First record - cab no =  185\n",
      "processing data for a new cab - cab no =  186\n",
      "First record - cab no =  186\n",
      "processing data for a new cab - cab no =  187\n",
      "First record - cab no =  187\n",
      "processing data for a new cab - cab no =  188\n",
      "First record - cab no =  188\n",
      "processing data for a new cab - cab no =  189\n",
      "First record - cab no =  189\n",
      "processing data for a new cab - cab no =  190\n",
      "First record - cab no =  190\n",
      "processing data for a new cab - cab no =  191\n",
      "First record - cab no =  191\n",
      "processing data for a new cab - cab no =  192\n",
      "First record - cab no =  192\n",
      "processing data for a new cab - cab no =  193\n",
      "First record - cab no =  193\n",
      "processing data for a new cab - cab no =  194\n",
      "First record - cab no =  194\n",
      "processing data for a new cab - cab no =  195\n",
      "First record - cab no =  195\n",
      "processing data for a new cab - cab no =  196\n",
      "First record - cab no =  196\n",
      "processing data for a new cab - cab no =  197\n",
      "First record - cab no =  197\n",
      "processing data for a new cab - cab no =  198\n",
      "First record - cab no =  198\n",
      "processing data for a new cab - cab no =  199\n",
      "First record - cab no =  199\n",
      "processing data for a new cab - cab no =  200\n",
      "First record - cab no =  200\n",
      "processing data for a new cab - cab no =  201\n",
      "First record - cab no =  201\n",
      "processing data for a new cab - cab no =  202\n",
      "First record - cab no =  202\n",
      "processing data for a new cab - cab no =  203\n",
      "First record - cab no =  203\n",
      "processing data for a new cab - cab no =  204\n",
      "First record - cab no =  204\n",
      "processing data for a new cab - cab no =  205\n",
      "First record - cab no =  205\n",
      "processing data for a new cab - cab no =  206\n",
      "First record - cab no =  206\n",
      "processing data for a new cab - cab no =  207\n",
      "First record - cab no =  207\n",
      "processing data for a new cab - cab no =  208\n",
      "First record - cab no =  208\n",
      "processing data for a new cab - cab no =  209\n",
      "First record - cab no =  209\n",
      "processing data for a new cab - cab no =  210\n",
      "First record - cab no =  210\n",
      "processing data for a new cab - cab no =  211\n",
      "First record - cab no =  211\n",
      "processing data for a new cab - cab no =  212\n",
      "First record - cab no =  212\n",
      "processing data for a new cab - cab no =  213\n",
      "First record - cab no =  213\n",
      "processing data for a new cab - cab no =  214\n",
      "First record - cab no =  214\n",
      "processing data for a new cab - cab no =  215\n",
      "First record - cab no =  215\n",
      "processing data for a new cab - cab no =  216\n",
      "First record - cab no =  216\n",
      "processing data for a new cab - cab no =  217\n",
      "First record - cab no =  217\n",
      "processing data for a new cab - cab no =  218\n",
      "First record - cab no =  218\n",
      "processing data for a new cab - cab no =  219\n",
      "First record - cab no =  219\n",
      "processing data for a new cab - cab no =  220\n",
      "First record - cab no =  220\n",
      "processing data for a new cab - cab no =  221\n",
      "First record - cab no =  221\n",
      "processing data for a new cab - cab no =  222\n",
      "First record - cab no =  222\n",
      "processing data for a new cab - cab no =  223\n",
      "First record - cab no =  223\n"
     ]
    },
    {
     "name": "stdout",
     "output_type": "stream",
     "text": [
      "processing data for a new cab - cab no =  224\n",
      "First record - cab no =  224\n",
      "processing data for a new cab - cab no =  225\n",
      "First record - cab no =  225\n",
      "processing data for a new cab - cab no =  226\n",
      "First record - cab no =  226\n",
      "processing data for a new cab - cab no =  227\n",
      "First record - cab no =  227\n",
      "processing data for a new cab - cab no =  228\n",
      "First record - cab no =  228\n",
      "processing data for a new cab - cab no =  229\n",
      "First record - cab no =  229\n",
      "processing data for a new cab - cab no =  230\n",
      "First record - cab no =  230\n",
      "processing data for a new cab - cab no =  231\n",
      "First record - cab no =  231\n",
      "processing data for a new cab - cab no =  232\n",
      "First record - cab no =  232\n",
      "processing data for a new cab - cab no =  233\n",
      "First record - cab no =  233\n",
      "processing data for a new cab - cab no =  234\n",
      "First record - cab no =  234\n",
      "processing data for a new cab - cab no =  235\n",
      "First record - cab no =  235\n",
      "processing data for a new cab - cab no =  236\n",
      "First record - cab no =  236\n",
      "processing data for a new cab - cab no =  237\n",
      "First record - cab no =  237\n",
      "processing data for a new cab - cab no =  238\n",
      "First record - cab no =  238\n",
      "processing data for a new cab - cab no =  239\n",
      "First record - cab no =  239\n",
      "processing data for a new cab - cab no =  240\n",
      "First record - cab no =  240\n",
      "processing data for a new cab - cab no =  241\n",
      "First record - cab no =  241\n",
      "processing data for a new cab - cab no =  242\n",
      "First record - cab no =  242\n",
      "processing data for a new cab - cab no =  243\n",
      "First record - cab no =  243\n",
      "processing data for a new cab - cab no =  244\n",
      "First record - cab no =  244\n",
      "processing data for a new cab - cab no =  245\n",
      "First record - cab no =  245\n",
      "processing data for a new cab - cab no =  246\n",
      "First record - cab no =  246\n",
      "processing data for a new cab - cab no =  247\n",
      "First record - cab no =  247\n",
      "processing data for a new cab - cab no =  248\n",
      "First record - cab no =  248\n",
      "processing data for a new cab - cab no =  249\n",
      "First record - cab no =  249\n",
      "processing data for a new cab - cab no =  250\n",
      "First record - cab no =  250\n",
      "processing data for a new cab - cab no =  251\n",
      "First record - cab no =  251\n",
      "processing data for a new cab - cab no =  252\n",
      "First record - cab no =  252\n",
      "processing data for a new cab - cab no =  253\n",
      "First record - cab no =  253\n",
      "processing data for a new cab - cab no =  254\n",
      "First record - cab no =  254\n",
      "processing data for a new cab - cab no =  255\n",
      "First record - cab no =  255\n",
      "processing data for a new cab - cab no =  256\n",
      "First record - cab no =  256\n",
      "processing data for a new cab - cab no =  257\n",
      "First record - cab no =  257\n",
      "processing data for a new cab - cab no =  258\n",
      "First record - cab no =  258\n",
      "processing data for a new cab - cab no =  259\n",
      "First record - cab no =  259\n",
      "processing data for a new cab - cab no =  260\n",
      "First record - cab no =  260\n",
      "processing data for a new cab - cab no =  261\n",
      "First record - cab no =  261\n",
      "processing data for a new cab - cab no =  262\n",
      "First record - cab no =  262\n",
      "processing data for a new cab - cab no =  263\n",
      "First record - cab no =  263\n",
      "processing data for a new cab - cab no =  264\n",
      "First record - cab no =  264\n",
      "processing data for a new cab - cab no =  265\n",
      "First record - cab no =  265\n",
      "processing data for a new cab - cab no =  266\n",
      "First record - cab no =  266\n",
      "processing data for a new cab - cab no =  267\n",
      "First record - cab no =  267\n",
      "processing data for a new cab - cab no =  268\n",
      "First record - cab no =  268\n",
      "processing data for a new cab - cab no =  269\n",
      "First record - cab no =  269\n",
      "processing data for a new cab - cab no =  270\n",
      "First record - cab no =  270\n",
      "processing data for a new cab - cab no =  271\n",
      "First record - cab no =  271\n",
      "processing data for a new cab - cab no =  272\n",
      "First record - cab no =  272\n",
      "processing data for a new cab - cab no =  273\n",
      "First record - cab no =  273\n",
      "processing data for a new cab - cab no =  274\n",
      "First record - cab no =  274\n",
      "processing data for a new cab - cab no =  275\n",
      "First record - cab no =  275\n",
      "processing data for a new cab - cab no =  276\n",
      "First record - cab no =  276\n",
      "processing data for a new cab - cab no =  277\n",
      "First record - cab no =  277\n",
      "processing data for a new cab - cab no =  278\n",
      "First record - cab no =  278\n",
      "processing data for a new cab - cab no =  279\n",
      "First record - cab no =  279\n",
      "processing data for a new cab - cab no =  280\n",
      "First record - cab no =  280\n",
      "processing data for a new cab - cab no =  281\n",
      "First record - cab no =  281\n",
      "processing data for a new cab - cab no =  282\n",
      "First record - cab no =  282\n",
      "processing data for a new cab - cab no =  283\n",
      "First record - cab no =  283\n",
      "processing data for a new cab - cab no =  284\n",
      "First record - cab no =  284\n",
      "processing data for a new cab - cab no =  285\n",
      "First record - cab no =  285\n",
      "processing data for a new cab - cab no =  286\n",
      "First record - cab no =  286\n",
      "processing data for a new cab - cab no =  287\n",
      "First record - cab no =  287\n",
      "processing data for a new cab - cab no =  288\n",
      "First record - cab no =  288\n",
      "processing data for a new cab - cab no =  289\n",
      "First record - cab no =  289\n",
      "processing data for a new cab - cab no =  290\n",
      "First record - cab no =  290\n",
      "processing data for a new cab - cab no =  291\n",
      "First record - cab no =  291\n",
      "processing data for a new cab - cab no =  292\n",
      "First record - cab no =  292\n",
      "processing data for a new cab - cab no =  293\n",
      "First record - cab no =  293\n",
      "processing data for a new cab - cab no =  294\n",
      "First record - cab no =  294\n",
      "processing data for a new cab - cab no =  295\n",
      "First record - cab no =  295\n",
      "processing data for a new cab - cab no =  296\n",
      "First record - cab no =  296\n",
      "processing data for a new cab - cab no =  297\n",
      "First record - cab no =  297\n",
      "processing data for a new cab - cab no =  298\n",
      "First record - cab no =  298\n",
      "processing data for a new cab - cab no =  299\n",
      "First record - cab no =  299\n",
      "processing data for a new cab - cab no =  300\n",
      "First record - cab no =  300\n",
      "processing data for a new cab - cab no =  301\n",
      "First record - cab no =  301\n",
      "processing data for a new cab - cab no =  302\n",
      "First record - cab no =  302\n",
      "processing data for a new cab - cab no =  303\n",
      "First record - cab no =  303\n",
      "processing data for a new cab - cab no =  304\n",
      "First record - cab no =  304\n",
      "processing data for a new cab - cab no =  305\n",
      "First record - cab no =  305\n",
      "processing data for a new cab - cab no =  306\n",
      "First record - cab no =  306\n",
      "processing data for a new cab - cab no =  307\n",
      "First record - cab no =  307\n",
      "processing data for a new cab - cab no =  308\n",
      "First record - cab no =  308\n",
      "processing data for a new cab - cab no =  309\n",
      "First record - cab no =  309\n",
      "processing data for a new cab - cab no =  310\n",
      "First record - cab no =  310\n",
      "processing data for a new cab - cab no =  311\n",
      "First record - cab no =  311\n",
      "processing data for a new cab - cab no =  312\n",
      "First record - cab no =  312\n",
      "processing data for a new cab - cab no =  313\n",
      "First record - cab no =  313\n",
      "processing data for a new cab - cab no =  314\n",
      "First record - cab no =  314\n",
      "processing data for a new cab - cab no =  315\n",
      "First record - cab no =  315\n",
      "processing data for a new cab - cab no =  316\n",
      "First record - cab no =  316\n",
      "processing data for a new cab - cab no =  317\n",
      "First record - cab no =  317\n",
      "processing data for a new cab - cab no =  318\n",
      "First record - cab no =  318\n",
      "processing data for a new cab - cab no =  319\n",
      "First record - cab no =  319\n",
      "processing data for a new cab - cab no =  320\n",
      "First record - cab no =  320\n",
      "processing data for a new cab - cab no =  321\n",
      "First record - cab no =  321\n",
      "processing data for a new cab - cab no =  322\n",
      "First record - cab no =  322\n",
      "processing data for a new cab - cab no =  323\n",
      "First record - cab no =  323\n",
      "processing data for a new cab - cab no =  324\n",
      "First record - cab no =  324\n",
      "processing data for a new cab - cab no =  325\n",
      "First record - cab no =  325\n",
      "processing data for a new cab - cab no =  326\n",
      "First record - cab no =  326\n",
      "processing data for a new cab - cab no =  327\n",
      "First record - cab no =  327\n",
      "processing data for a new cab - cab no =  328\n",
      "First record - cab no =  328\n",
      "processing data for a new cab - cab no =  329\n",
      "First record - cab no =  329\n",
      "processing data for a new cab - cab no =  330\n",
      "First record - cab no =  330\n",
      "processing data for a new cab - cab no =  331\n",
      "First record - cab no =  331\n",
      "processing data for a new cab - cab no =  332\n",
      "First record - cab no =  332\n",
      "processing data for a new cab - cab no =  333\n",
      "First record - cab no =  333\n"
     ]
    },
    {
     "name": "stdout",
     "output_type": "stream",
     "text": [
      "processing data for a new cab - cab no =  334\n",
      "First record - cab no =  334\n",
      "processing data for a new cab - cab no =  335\n",
      "First record - cab no =  335\n",
      "processing data for a new cab - cab no =  336\n",
      "First record - cab no =  336\n",
      "processing data for a new cab - cab no =  337\n",
      "First record - cab no =  337\n",
      "processing data for a new cab - cab no =  338\n",
      "First record - cab no =  338\n",
      "processing data for a new cab - cab no =  339\n",
      "First record - cab no =  339\n",
      "processing data for a new cab - cab no =  340\n",
      "First record - cab no =  340\n",
      "processing data for a new cab - cab no =  341\n",
      "First record - cab no =  341\n",
      "processing data for a new cab - cab no =  342\n",
      "First record - cab no =  342\n",
      "processing data for a new cab - cab no =  343\n",
      "First record - cab no =  343\n",
      "processing data for a new cab - cab no =  344\n",
      "First record - cab no =  344\n",
      "processing data for a new cab - cab no =  345\n",
      "First record - cab no =  345\n",
      "processing data for a new cab - cab no =  346\n",
      "First record - cab no =  346\n",
      "processing data for a new cab - cab no =  347\n",
      "First record - cab no =  347\n",
      "processing data for a new cab - cab no =  348\n",
      "First record - cab no =  348\n",
      "processing data for a new cab - cab no =  349\n",
      "First record - cab no =  349\n",
      "processing data for a new cab - cab no =  350\n",
      "First record - cab no =  350\n",
      "processing data for a new cab - cab no =  351\n",
      "First record - cab no =  351\n",
      "processing data for a new cab - cab no =  352\n",
      "First record - cab no =  352\n",
      "processing data for a new cab - cab no =  353\n",
      "First record - cab no =  353\n",
      "processing data for a new cab - cab no =  354\n",
      "First record - cab no =  354\n",
      "processing data for a new cab - cab no =  355\n",
      "First record - cab no =  355\n",
      "processing data for a new cab - cab no =  356\n",
      "First record - cab no =  356\n",
      "processing data for a new cab - cab no =  357\n",
      "First record - cab no =  357\n",
      "processing data for a new cab - cab no =  358\n",
      "First record - cab no =  358\n",
      "processing data for a new cab - cab no =  359\n",
      "First record - cab no =  359\n",
      "processing data for a new cab - cab no =  360\n",
      "First record - cab no =  360\n",
      "processing data for a new cab - cab no =  361\n",
      "First record - cab no =  361\n",
      "processing data for a new cab - cab no =  362\n",
      "First record - cab no =  362\n",
      "processing data for a new cab - cab no =  363\n",
      "First record - cab no =  363\n",
      "processing data for a new cab - cab no =  364\n",
      "First record - cab no =  364\n",
      "processing data for a new cab - cab no =  365\n",
      "First record - cab no =  365\n",
      "processing data for a new cab - cab no =  366\n",
      "First record - cab no =  366\n",
      "processing data for a new cab - cab no =  367\n",
      "First record - cab no =  367\n",
      "processing data for a new cab - cab no =  368\n",
      "First record - cab no =  368\n",
      "processing data for a new cab - cab no =  369\n",
      "First record - cab no =  369\n",
      "processing data for a new cab - cab no =  370\n",
      "First record - cab no =  370\n",
      "processing data for a new cab - cab no =  371\n",
      "First record - cab no =  371\n",
      "processing data for a new cab - cab no =  372\n",
      "First record - cab no =  372\n",
      "processing data for a new cab - cab no =  373\n",
      "First record - cab no =  373\n",
      "processing data for a new cab - cab no =  374\n",
      "First record - cab no =  374\n",
      "processing data for a new cab - cab no =  375\n",
      "First record - cab no =  375\n",
      "processing data for a new cab - cab no =  376\n",
      "First record - cab no =  376\n",
      "processing data for a new cab - cab no =  377\n",
      "First record - cab no =  377\n",
      "processing data for a new cab - cab no =  378\n",
      "First record - cab no =  378\n",
      "processing data for a new cab - cab no =  379\n",
      "First record - cab no =  379\n",
      "processing data for a new cab - cab no =  380\n",
      "First record - cab no =  380\n",
      "processing data for a new cab - cab no =  381\n",
      "First record - cab no =  381\n",
      "processing data for a new cab - cab no =  382\n",
      "First record - cab no =  382\n",
      "processing data for a new cab - cab no =  383\n",
      "First record - cab no =  383\n",
      "processing data for a new cab - cab no =  384\n",
      "First record - cab no =  384\n",
      "processing data for a new cab - cab no =  385\n",
      "First record - cab no =  385\n",
      "processing data for a new cab - cab no =  386\n",
      "First record - cab no =  386\n",
      "processing data for a new cab - cab no =  387\n",
      "First record - cab no =  387\n",
      "processing data for a new cab - cab no =  388\n",
      "First record - cab no =  388\n",
      "processing data for a new cab - cab no =  389\n",
      "First record - cab no =  389\n",
      "processing data for a new cab - cab no =  390\n",
      "First record - cab no =  390\n",
      "processing data for a new cab - cab no =  391\n",
      "First record - cab no =  391\n",
      "processing data for a new cab - cab no =  392\n",
      "First record - cab no =  392\n",
      "processing data for a new cab - cab no =  393\n",
      "First record - cab no =  393\n",
      "processing data for a new cab - cab no =  394\n",
      "First record - cab no =  394\n",
      "processing data for a new cab - cab no =  395\n",
      "First record - cab no =  395\n",
      "processing data for a new cab - cab no =  396\n",
      "First record - cab no =  396\n",
      "processing data for a new cab - cab no =  397\n",
      "First record - cab no =  397\n",
      "processing data for a new cab - cab no =  398\n",
      "First record - cab no =  398\n",
      "processing data for a new cab - cab no =  399\n",
      "First record - cab no =  399\n",
      "processing data for a new cab - cab no =  400\n",
      "First record - cab no =  400\n",
      "processing data for a new cab - cab no =  401\n",
      "First record - cab no =  401\n",
      "processing data for a new cab - cab no =  402\n",
      "First record - cab no =  402\n",
      "processing data for a new cab - cab no =  403\n",
      "First record - cab no =  403\n",
      "processing data for a new cab - cab no =  404\n",
      "First record - cab no =  404\n",
      "processing data for a new cab - cab no =  405\n",
      "First record - cab no =  405\n",
      "processing data for a new cab - cab no =  406\n",
      "First record - cab no =  406\n",
      "processing data for a new cab - cab no =  407\n",
      "First record - cab no =  407\n",
      "processing data for a new cab - cab no =  408\n",
      "First record - cab no =  408\n",
      "processing data for a new cab - cab no =  409\n",
      "First record - cab no =  409\n",
      "processing data for a new cab - cab no =  410\n",
      "First record - cab no =  410\n",
      "processing data for a new cab - cab no =  411\n",
      "First record - cab no =  411\n",
      "processing data for a new cab - cab no =  412\n",
      "First record - cab no =  412\n",
      "processing data for a new cab - cab no =  413\n",
      "First record - cab no =  413\n",
      "processing data for a new cab - cab no =  414\n",
      "First record - cab no =  414\n",
      "processing data for a new cab - cab no =  415\n",
      "First record - cab no =  415\n",
      "processing data for a new cab - cab no =  416\n",
      "First record - cab no =  416\n",
      "processing data for a new cab - cab no =  417\n",
      "First record - cab no =  417\n",
      "processing data for a new cab - cab no =  418\n",
      "First record - cab no =  418\n",
      "processing data for a new cab - cab no =  419\n",
      "First record - cab no =  419\n",
      "processing data for a new cab - cab no =  420\n",
      "First record - cab no =  420\n",
      "processing data for a new cab - cab no =  421\n",
      "First record - cab no =  421\n",
      "processing data for a new cab - cab no =  422\n",
      "First record - cab no =  422\n",
      "processing data for a new cab - cab no =  423\n",
      "First record - cab no =  423\n",
      "processing data for a new cab - cab no =  424\n",
      "First record - cab no =  424\n",
      "processing data for a new cab - cab no =  425\n",
      "First record - cab no =  425\n",
      "processing data for a new cab - cab no =  426\n",
      "First record - cab no =  426\n",
      "processing data for a new cab - cab no =  427\n",
      "First record - cab no =  427\n",
      "processing data for a new cab - cab no =  428\n",
      "First record - cab no =  428\n",
      "processing data for a new cab - cab no =  429\n",
      "First record - cab no =  429\n",
      "processing data for a new cab - cab no =  430\n",
      "First record - cab no =  430\n",
      "processing data for a new cab - cab no =  431\n",
      "First record - cab no =  431\n",
      "processing data for a new cab - cab no =  432\n",
      "First record - cab no =  432\n",
      "processing data for a new cab - cab no =  433\n",
      "First record - cab no =  433\n",
      "processing data for a new cab - cab no =  434\n",
      "First record - cab no =  434\n",
      "processing data for a new cab - cab no =  435\n",
      "First record - cab no =  435\n",
      "processing data for a new cab - cab no =  436\n",
      "First record - cab no =  436\n",
      "processing data for a new cab - cab no =  437\n",
      "First record - cab no =  437\n",
      "processing data for a new cab - cab no =  438\n",
      "First record - cab no =  438\n",
      "processing data for a new cab - cab no =  439\n",
      "First record - cab no =  439\n",
      "processing data for a new cab - cab no =  440\n",
      "First record - cab no =  440\n",
      "processing data for a new cab - cab no =  441\n",
      "First record - cab no =  441\n",
      "processing data for a new cab - cab no =  442\n",
      "First record - cab no =  442\n",
      "processing data for a new cab - cab no =  443\n",
      "First record - cab no =  443\n"
     ]
    },
    {
     "name": "stdout",
     "output_type": "stream",
     "text": [
      "processing data for a new cab - cab no =  444\n",
      "First record - cab no =  444\n",
      "processing data for a new cab - cab no =  445\n",
      "First record - cab no =  445\n",
      "processing data for a new cab - cab no =  446\n",
      "First record - cab no =  446\n",
      "processing data for a new cab - cab no =  447\n",
      "First record - cab no =  447\n",
      "processing data for a new cab - cab no =  448\n",
      "First record - cab no =  448\n",
      "processing data for a new cab - cab no =  449\n",
      "First record - cab no =  449\n",
      "processing data for a new cab - cab no =  450\n",
      "First record - cab no =  450\n",
      "processing data for a new cab - cab no =  451\n",
      "First record - cab no =  451\n",
      "processing data for a new cab - cab no =  452\n",
      "First record - cab no =  452\n",
      "processing data for a new cab - cab no =  453\n",
      "First record - cab no =  453\n",
      "processing data for a new cab - cab no =  454\n",
      "First record - cab no =  454\n",
      "processing data for a new cab - cab no =  455\n",
      "First record - cab no =  455\n",
      "processing data for a new cab - cab no =  456\n",
      "First record - cab no =  456\n",
      "processing data for a new cab - cab no =  457\n",
      "First record - cab no =  457\n",
      "processing data for a new cab - cab no =  458\n",
      "First record - cab no =  458\n",
      "processing data for a new cab - cab no =  459\n",
      "First record - cab no =  459\n",
      "processing data for a new cab - cab no =  460\n",
      "First record - cab no =  460\n",
      "processing data for a new cab - cab no =  461\n",
      "First record - cab no =  461\n",
      "processing data for a new cab - cab no =  462\n",
      "First record - cab no =  462\n",
      "processing data for a new cab - cab no =  463\n",
      "First record - cab no =  463\n",
      "processing data for a new cab - cab no =  464\n",
      "First record - cab no =  464\n",
      "processing data for a new cab - cab no =  465\n",
      "First record - cab no =  465\n",
      "processing data for a new cab - cab no =  466\n",
      "First record - cab no =  466\n",
      "processing data for a new cab - cab no =  467\n",
      "First record - cab no =  467\n",
      "processing data for a new cab - cab no =  468\n",
      "First record - cab no =  468\n",
      "processing data for a new cab - cab no =  469\n",
      "First record - cab no =  469\n",
      "processing data for a new cab - cab no =  470\n",
      "First record - cab no =  470\n",
      "processing data for a new cab - cab no =  471\n",
      "First record - cab no =  471\n",
      "processing data for a new cab - cab no =  472\n",
      "First record - cab no =  472\n",
      "processing data for a new cab - cab no =  473\n",
      "First record - cab no =  473\n",
      "processing data for a new cab - cab no =  474\n",
      "First record - cab no =  474\n",
      "processing data for a new cab - cab no =  475\n",
      "First record - cab no =  475\n",
      "processing data for a new cab - cab no =  476\n",
      "First record - cab no =  476\n",
      "processing data for a new cab - cab no =  477\n",
      "First record - cab no =  477\n",
      "processing data for a new cab - cab no =  478\n",
      "First record - cab no =  478\n",
      "processing data for a new cab - cab no =  479\n",
      "First record - cab no =  479\n",
      "processing data for a new cab - cab no =  480\n",
      "First record - cab no =  480\n",
      "processing data for a new cab - cab no =  481\n",
      "First record - cab no =  481\n",
      "processing data for a new cab - cab no =  482\n",
      "First record - cab no =  482\n",
      "processing data for a new cab - cab no =  483\n",
      "First record - cab no =  483\n",
      "processing data for a new cab - cab no =  484\n",
      "First record - cab no =  484\n",
      "processing data for a new cab - cab no =  485\n",
      "First record - cab no =  485\n",
      "processing data for a new cab - cab no =  486\n",
      "First record - cab no =  486\n",
      "processing data for a new cab - cab no =  487\n",
      "First record - cab no =  487\n",
      "processing data for a new cab - cab no =  488\n",
      "First record - cab no =  488\n",
      "processing data for a new cab - cab no =  489\n",
      "First record - cab no =  489\n",
      "processing data for a new cab - cab no =  490\n",
      "First record - cab no =  490\n",
      "processing data for a new cab - cab no =  491\n",
      "First record - cab no =  491\n",
      "processing data for a new cab - cab no =  492\n",
      "First record - cab no =  492\n",
      "processing data for a new cab - cab no =  493\n",
      "First record - cab no =  493\n",
      "processing data for a new cab - cab no =  494\n",
      "First record - cab no =  494\n",
      "processing data for a new cab - cab no =  495\n",
      "First record - cab no =  495\n",
      "processing data for a new cab - cab no =  496\n",
      "First record - cab no =  496\n",
      "processing data for a new cab - cab no =  497\n",
      "First record - cab no =  497\n",
      "processing data for a new cab - cab no =  498\n",
      "First record - cab no =  498\n",
      "processing data for a new cab - cab no =  499\n",
      "First record - cab no =  499\n",
      "processing data for a new cab - cab no =  500\n",
      "First record - cab no =  500\n",
      "processing data for a new cab - cab no =  501\n",
      "First record - cab no =  501\n",
      "processing data for a new cab - cab no =  502\n",
      "First record - cab no =  502\n",
      "processing data for a new cab - cab no =  503\n",
      "First record - cab no =  503\n",
      "processing data for a new cab - cab no =  504\n",
      "First record - cab no =  504\n",
      "processing data for a new cab - cab no =  505\n",
      "First record - cab no =  505\n",
      "processing data for a new cab - cab no =  506\n",
      "First record - cab no =  506\n",
      "processing data for a new cab - cab no =  507\n",
      "First record - cab no =  507\n",
      "processing data for a new cab - cab no =  508\n",
      "First record - cab no =  508\n",
      "processing data for a new cab - cab no =  509\n",
      "First record - cab no =  509\n",
      "processing data for a new cab - cab no =  510\n",
      "First record - cab no =  510\n",
      "processing data for a new cab - cab no =  511\n",
      "First record - cab no =  511\n",
      "processing data for a new cab - cab no =  512\n",
      "First record - cab no =  512\n",
      "processing data for a new cab - cab no =  513\n",
      "First record - cab no =  513\n",
      "processing data for a new cab - cab no =  514\n",
      "First record - cab no =  514\n",
      "processing data for a new cab - cab no =  515\n",
      "First record - cab no =  515\n",
      "processing data for a new cab - cab no =  516\n",
      "First record - cab no =  516\n",
      "processing data for a new cab - cab no =  517\n",
      "First record - cab no =  517\n",
      "processing data for a new cab - cab no =  518\n",
      "First record - cab no =  518\n",
      "processing data for a new cab - cab no =  519\n",
      "First record - cab no =  519\n",
      "processing data for a new cab - cab no =  520\n",
      "First record - cab no =  520\n",
      "processing data for a new cab - cab no =  521\n",
      "First record - cab no =  521\n",
      "processing data for a new cab - cab no =  522\n",
      "First record - cab no =  522\n",
      "processing data for a new cab - cab no =  523\n",
      "First record - cab no =  523\n",
      "processing data for a new cab - cab no =  524\n",
      "First record - cab no =  524\n",
      "processing data for a new cab - cab no =  525\n",
      "First record - cab no =  525\n",
      "processing data for a new cab - cab no =  526\n",
      "First record - cab no =  526\n",
      "processing data for a new cab - cab no =  527\n",
      "First record - cab no =  527\n",
      "processing data for a new cab - cab no =  528\n",
      "First record - cab no =  528\n",
      "processing data for a new cab - cab no =  529\n",
      "First record - cab no =  529\n",
      "processing data for a new cab - cab no =  530\n",
      "First record - cab no =  530\n",
      "processing data for a new cab - cab no =  531\n",
      "First record - cab no =  531\n",
      "processing data for a new cab - cab no =  532\n",
      "First record - cab no =  532\n",
      "processing data for a new cab - cab no =  533\n",
      "First record - cab no =  533\n",
      "processing data for a new cab - cab no =  534\n",
      "First record - cab no =  534\n",
      "processing data for a new cab - cab no =  535\n",
      "First record - cab no =  535\n",
      "processing data for a new cab - cab no =  536\n",
      "First record - cab no =  536\n",
      "processing data for a new cab - cab no =  537\n",
      "First record - cab no =  537\n"
     ]
    }
   ],
   "source": [
    "cab_nos = cab_data[\"cab_no\"].unique()\n",
    "\n",
    "for cab_no in cab_nos:\n",
    "    single_cab_data = cab_data[cab_data.cab_no == cab_no].sort_values(\n",
    "        by=[\"cab_no\", \"date_time\"]\n",
    "    )\n",
    "\n",
    "    occupancy, startLatitude, endLatitude, startLongitude, endLongitude, startTime, endTime = (\n",
    "        None,\n",
    "        None,\n",
    "        None,\n",
    "        None,\n",
    "        None,\n",
    "        None,\n",
    "        None,\n",
    "    )\n",
    "\n",
    "    print(\"processing data for a new cab - cab no = \", cab_no)\n",
    "    for index, row in single_cab_data.iterrows():\n",
    "        if occupancy == None:\n",
    "            print(\"First record - cab no = \", cab_no)\n",
    "            # For the first record of a cab, assign the start point and end point of the ride\n",
    "            startLatitude, startLongitude, occupancy, startTime = (\n",
    "                row[\"latitude\"],\n",
    "                row[\"longitude\"],\n",
    "                row[\"occupancy\"],\n",
    "                row[\"date_time\"],\n",
    "            )\n",
    "            endLatitude, endLongitude, endTime = (\n",
    "                row[\"latitude\"],\n",
    "                row[\"longitude\"],\n",
    "                row[\"date_time\"],\n",
    "            )\n",
    "\n",
    "        elif occupancy == row[\"occupancy\"]:\n",
    "            # if the occupancy is same as that of the previous record, just update the end points of the ride\n",
    "            endLatitude, endLongitude, endTime = (\n",
    "                row[\"latitude\"],\n",
    "                row[\"longitude\"],\n",
    "                row[\"date_time\"],\n",
    "            )\n",
    "\n",
    "        elif occupancy != row[\"occupancy\"]:\n",
    "            # Change in occupancy means that the ride status has changed i.e. previous ride has ended.\n",
    "            endLatitude, endLongitude, endTime = (\n",
    "                row[\"latitude\"],\n",
    "                row[\"longitude\"],\n",
    "                row[\"date_time\"],\n",
    "            )\n",
    "\n",
    "            # if the occupancy is different from that of the previous record, then insert the previous ride data into the dataframe\n",
    "            df = {\n",
    "                \"cab_no\": row[\"cab_no\"],\n",
    "                \"startLatitude\": startLatitude,\n",
    "                \"endLatitude\": endLatitude,\n",
    "                \"startLongitude\": startLongitude,\n",
    "                \"endLongitude\": endLongitude,\n",
    "                \"startTime\": startTime,\n",
    "                \"endTime\": endTime,\n",
    "                \"occupancy\": occupancy,\n",
    "            }\n",
    "            cab_data_rides = cab_data_rides.append(df, ignore_index=True)\n",
    "\n",
    "            # then assign the start point and end point (already done in first step) of a different ride.\n",
    "            startLatitude, startLongitude, occupancy, startTime = (\n",
    "                row[\"latitude\"],\n",
    "                row[\"longitude\"],\n",
    "                row[\"occupancy\"],\n",
    "                row[\"date_time\"],\n",
    "            )\n",
    "\n",
    "    # Insert final ride data\n",
    "    df = {\n",
    "        \"cab_no\": row[\"cab_no\"],\n",
    "        \"startLatitude\": startLatitude,\n",
    "        \"endLatitude\": endLatitude,\n",
    "        \"startLongitude\": startLongitude,\n",
    "        \"endLongitude\": endLongitude,\n",
    "        \"startTime\": startTime,\n",
    "        \"endTime\": endTime,\n",
    "        \"occupancy\": occupancy,\n",
    "    }\n",
    "    cab_data_rides = cab_data_rides.append(df, ignore_index=True)"
   ]
  },
  {
   "cell_type": "markdown",
   "metadata": {},
   "source": [
    "**Save the data in a CSV file to avoid reprocessing in future.**"
   ]
  },
  {
   "cell_type": "code",
   "execution_count": 980,
   "metadata": {},
   "outputs": [],
   "source": [
    "cab_data_rides.to_csv(\"cab_data_rides.csv\", index=False)"
   ]
  },
  {
   "cell_type": "code",
   "execution_count": 283,
   "metadata": {},
   "outputs": [],
   "source": [
    "#cab_data_rides = pd.read_csv(\"cab_data_rides.csv\", parse_dates=[\"startTime\", \"endTime\"])"
   ]
  },
  {
   "cell_type": "code",
   "execution_count": 981,
   "metadata": {},
   "outputs": [
    {
     "data": {
      "text/html": [
       "<div>\n",
       "<style scoped>\n",
       "    .dataframe tbody tr th:only-of-type {\n",
       "        vertical-align: middle;\n",
       "    }\n",
       "\n",
       "    .dataframe tbody tr th {\n",
       "        vertical-align: top;\n",
       "    }\n",
       "\n",
       "    .dataframe thead th {\n",
       "        text-align: right;\n",
       "    }\n",
       "</style>\n",
       "<table border=\"1\" class=\"dataframe\">\n",
       "  <thead>\n",
       "    <tr style=\"text-align: right;\">\n",
       "      <th></th>\n",
       "      <th>cab_no</th>\n",
       "      <th>startLatitude</th>\n",
       "      <th>endLatitude</th>\n",
       "      <th>startLongitude</th>\n",
       "      <th>endLongitude</th>\n",
       "      <th>startTime</th>\n",
       "      <th>endTime</th>\n",
       "      <th>occupancy</th>\n",
       "      <th>trip_distance_miles</th>\n",
       "      <th>trip_duration_minutes</th>\n",
       "      <th>speed_miles_per_hour</th>\n",
       "      <th>day_of_week</th>\n",
       "      <th>isWeekend</th>\n",
       "      <th>phase_of_day</th>\n",
       "    </tr>\n",
       "  </thead>\n",
       "  <tbody>\n",
       "    <tr>\n",
       "      <th>0</th>\n",
       "      <td>1</td>\n",
       "      <td>37.75153</td>\n",
       "      <td>37.74977</td>\n",
       "      <td>-122.39447</td>\n",
       "      <td>-122.39724</td>\n",
       "      <td>2008-05-17 14:12:10</td>\n",
       "      <td>2008-05-17 14:51:10</td>\n",
       "      <td>0</td>\n",
       "      <td>0.19</td>\n",
       "      <td>39.00</td>\n",
       "      <td>0.29</td>\n",
       "      <td>Saturday</td>\n",
       "      <td>1</td>\n",
       "      <td>Afternoon</td>\n",
       "    </tr>\n",
       "    <tr>\n",
       "      <th>1</th>\n",
       "      <td>1</td>\n",
       "      <td>37.74977</td>\n",
       "      <td>37.75580</td>\n",
       "      <td>-122.39724</td>\n",
       "      <td>-122.41441</td>\n",
       "      <td>2008-05-17 14:51:10</td>\n",
       "      <td>2008-05-17 14:56:00</td>\n",
       "      <td>1</td>\n",
       "      <td>1.03</td>\n",
       "      <td>4.83</td>\n",
       "      <td>12.80</td>\n",
       "      <td>Saturday</td>\n",
       "      <td>1</td>\n",
       "      <td>Afternoon</td>\n",
       "    </tr>\n",
       "  </tbody>\n",
       "</table>\n",
       "</div>"
      ],
      "text/plain": [
       "   cab_no  startLatitude  endLatitude  startLongitude  endLongitude  \\\n",
       "0       1       37.75153     37.74977      -122.39447    -122.39724   \n",
       "1       1       37.74977     37.75580      -122.39724    -122.41441   \n",
       "\n",
       "            startTime             endTime  occupancy  trip_distance_miles  \\\n",
       "0 2008-05-17 14:12:10 2008-05-17 14:51:10          0                 0.19   \n",
       "1 2008-05-17 14:51:10 2008-05-17 14:56:00          1                 1.03   \n",
       "\n",
       "   trip_duration_minutes  speed_miles_per_hour day_of_week  isWeekend  \\\n",
       "0                  39.00                  0.29    Saturday          1   \n",
       "1                   4.83                 12.80    Saturday          1   \n",
       "\n",
       "  phase_of_day  \n",
       "0    Afternoon  \n",
       "1    Afternoon  "
      ]
     },
     "execution_count": 981,
     "metadata": {},
     "output_type": "execute_result"
    }
   ],
   "source": [
    "cab_data_rides.head(2)"
   ]
  },
  {
   "cell_type": "markdown",
   "metadata": {},
   "source": [
    "### 2. Create a new feature for 'trip distance' (straight line) during the start and end coordinates."
   ]
  },
  {
   "cell_type": "markdown",
   "metadata": {},
   "source": [
    "In order to determine the potential of CO2 emissions caused by taxi cabs roaming without passengers, we have to find the distance travelled by cabs when without passengers."
   ]
  },
  {
   "cell_type": "code",
   "execution_count": 285,
   "metadata": {},
   "outputs": [],
   "source": [
    "# Calculate trip distance in miles\n",
    "def calculateDistance(cab_data_ride):\n",
    "    return round(\n",
    "        haversine(\n",
    "            (cab_data_ride.startLatitude, cab_data_ride.startLongitude),\n",
    "            (cab_data_ride.endLatitude, cab_data_ride.endLongitude),\n",
    "            unit=Unit.MILES,\n",
    "        ),\n",
    "        2,\n",
    "    )\n",
    "\n",
    "\n",
    "cab_data_rides[\"trip_distance_miles\"] = cab_data_rides.apply(calculateDistance, axis=1)"
   ]
  },
  {
   "cell_type": "markdown",
   "metadata": {},
   "source": [
    "## 2.2 EDA"
   ]
  },
  {
   "cell_type": "markdown",
   "metadata": {},
   "source": [
    "### 1. Analyze the 'trip distance'\n",
    "\n",
    "Let's analyze the trip distance for the rides where cab is unoccupied with customers."
   ]
  },
  {
   "cell_type": "code",
   "execution_count": 286,
   "metadata": {},
   "outputs": [
    {
     "data": {
      "text/plain": [
       "0"
      ]
     },
     "execution_count": 286,
     "metadata": {},
     "output_type": "execute_result"
    }
   ],
   "source": [
    "cab_data_rides[cab_data_rides.occupancy == 0].trip_distance_miles.isnull().sum()"
   ]
  },
  {
   "cell_type": "markdown",
   "metadata": {},
   "source": [
    "So there is no empty values in the trip distance field."
   ]
  },
  {
   "cell_type": "code",
   "execution_count": 287,
   "metadata": {},
   "outputs": [
    {
     "data": {
      "text/plain": [
       "23480"
      ]
     },
     "execution_count": 287,
     "metadata": {},
     "output_type": "execute_result"
    }
   ],
   "source": [
    "(cab_data_rides[cab_data_rides.occupancy == 0].trip_distance_miles == 0).sum()"
   ]
  },
  {
   "cell_type": "markdown",
   "metadata": {},
   "source": [
    "The trip distance when a cab is unoccupied can be zero. After dropping a passenger at a place, the cab can stand there until it finds a new passenger."
   ]
  },
  {
   "cell_type": "markdown",
   "metadata": {},
   "source": [
    "Let's analyze the distributioon of trip distances for unoccupied trips to find extreme outliers (impossible)."
   ]
  },
  {
   "cell_type": "code",
   "execution_count": 288,
   "metadata": {},
   "outputs": [
    {
     "data": {
      "image/png": "[encoded data removed]",
      "text/plain": [
       "<Figure size 720x432 with 1 Axes>"
      ]
     },
     "metadata": {
      "needs_background": "light"
     },
     "output_type": "display_data"
    },
    {
     "data": {
      "image/png": "[encoded data removed]",
      "text/plain": [
       "<Figure size 864x576 with 1 Axes>"
      ]
     },
     "metadata": {
      "needs_background": "light"
     },
     "output_type": "display_data"
    }
   ],
   "source": [
    "plt.figure(figsize=(10, 6))\n",
    "sns.boxplot(\n",
    "    \"trip_distance_miles\",\n",
    "    data=cab_data_rides[cab_data_rides.occupancy == 0],\n",
    "    orient=\"v\",\n",
    ")\n",
    "plt.tick_params(labelsize=20)\n",
    "plt.ylabel(\"Trip Distance(miles) when unoccupied\", fontsize=20)\n",
    "plt.show()\n",
    "\n",
    "plt.figure(figsize=(12, 8))\n",
    "sns.kdeplot(\n",
    "    cab_data_rides[cab_data_rides.occupancy == 0].trip_distance_miles.values,\n",
    "    shade=True,\n",
    "    cumulative=False,\n",
    ")\n",
    "plt.tick_params(labelsize=20)\n",
    "plt.xlabel(\"Trip distance (Miles)\", fontsize=20)\n",
    "plt.title(\"PDF of Distance\", fontsize=20)\n",
    "plt.show()"
   ]
  },
  {
   "cell_type": "code",
   "execution_count": 289,
   "metadata": {},
   "outputs": [
    {
     "name": "stdout",
     "output_type": "stream",
     "text": [
      "0th percentile value of Trip Distance is 0.0miles\n",
      "10th percentile value of Trip Distance is 0.03miles\n",
      "20th percentile value of Trip Distance is 0.12miles\n",
      "30th percentile value of Trip Distance is 0.24miles\n",
      "40th percentile value of Trip Distance is 0.37miles\n",
      "50th percentile value of Trip Distance is 0.53miles\n",
      "60th percentile value of Trip Distance is 0.74miles\n",
      "70th percentile value of Trip Distance is 1.04miles\n",
      "80th percentile value of Trip Distance is 1.57miles\n",
      "90th percentile value of Trip Distance is 3.26miles\n",
      "100th percentile value of Trip Distance is 865.37miles\n",
      "###############################\n",
      "90th percentile value of Trip Distance is 3.26miles\n",
      "91th percentile value of Trip Distance is 3.79miles\n",
      "92th percentile value of Trip Distance is 4.74miles\n",
      "93th percentile value of Trip Distance is 6.75miles\n",
      "94th percentile value of Trip Distance is 8.58miles\n",
      "95th percentile value of Trip Distance is 9.73miles\n",
      "96th percentile value of Trip Distance is 10.8miles\n",
      "97th percentile value of Trip Distance is 11.4miles\n",
      "98th percentile value of Trip Distance is 11.86miles\n",
      "99th percentile value of Trip Distance is 12.439999999999998miles\n",
      "100th percentile value of Trip Distance is 865.37miles\n",
      "###############################\n",
      "99.1th percentile value of Trip Distance is 12.58miles\n",
      "99.2th percentile value of Trip Distance is 12.73232000000018miles\n",
      "99.3th percentile value of Trip Distance is 12.92miles\n",
      "99.4th percentile value of Trip Distance is 13.129999999999999miles\n",
      "99.5th percentile value of Trip Distance is 13.36miles\n",
      "99.6th percentile value of Trip Distance is 14.57miles\n",
      "99.7th percentile value of Trip Distance is 17.11miles\n",
      "99.8th percentile value of Trip Distance is 19.90116000000038miles\n",
      "99.9th percentile value of Trip Distance is 25.057790000000388miles\n",
      "100.0th percentile value of Trip Distance is 865.37miles\n"
     ]
    }
   ],
   "source": [
    "quantile_trip_distance_miles = cab_data_rides[\n",
    "    cab_data_rides.occupancy == 0\n",
    "].trip_distance_miles.quantile(np.round(np.arange(0.00, 1.01, 0.01), 2))\n",
    "qValues = np.round(np.arange(0.00, 1.01, 0.1), 2)\n",
    "for i in qValues:\n",
    "    print(\n",
    "        \"{}th percentile value of Trip Distance is {}miles\".format(\n",
    "            (int(i * 100)), quantile_trip_distance_miles[i]\n",
    "        )\n",
    "    )\n",
    "\n",
    "print(\"###############################\")\n",
    "qValues = np.round(np.arange(0.90, 1.01, 0.01), 2)\n",
    "for i in qValues:\n",
    "    print(\n",
    "        \"{}th percentile value of Trip Distance is {}miles\".format(\n",
    "            (int(i * 100)), quantile_trip_distance_miles[i]\n",
    "        )\n",
    "    )\n",
    "\n",
    "print(\"###############################\")\n",
    "qValues = np.round(np.arange(0.991, 1.001, 0.001), 4)\n",
    "quantile_trip_distance_miles = cab_data_rides[\n",
    "    cab_data_rides.occupancy == 0\n",
    "].trip_distance_miles.quantile(qValues)\n",
    "for i in qValues:\n",
    "    print(\n",
    "        \"{}th percentile value of Trip Distance is {}miles\".format(\n",
    "            (i * 100), quantile_trip_distance_miles[i]\n",
    "        )\n",
    "    )"
   ]
  },
  {
   "cell_type": "markdown",
   "metadata": {},
   "source": [
    "<b>Observations:</b>Till 99.9th percentile, value of trip distance when the cabs were unoccupied is (25.05 miles). On 100th percentile values are huge deviation, with a trip distance of 865.37 miles. However, the trip of that long distance is quite possible.\n",
    "\n",
    "Afterall this challenge-1 is all about a simple calculation. We are not going to creating any ML model, which are usually influenced by outliers. So we don't need to handle outliers in this challenge."
   ]
  },
  {
   "cell_type": "markdown",
   "metadata": {},
   "source": [
    "## 2.3 Final calculation"
   ]
  },
  {
   "cell_type": "markdown",
   "metadata": {},
   "source": [
    "### 1. Calculate total distance travelled when the cabs were not occupied."
   ]
  },
  {
   "cell_type": "code",
   "execution_count": 290,
   "metadata": {},
   "outputs": [
    {
     "name": "stdout",
     "output_type": "stream",
     "text": [
      "Number of days for which data is available =  23\n",
      "Average distance (miles) covered by each taxi cab in a month while unoccupied =  1715.9478260869564\n"
     ]
    }
   ],
   "source": [
    "# Total distance covered by each cab when unoccupied\n",
    "distance_unoccupied_cab = (\n",
    "    cab_data_rides[cab_data_rides.occupancy == 0]\n",
    "    .groupby([\"cab_no\"])\n",
    "    .agg({\"trip_distance_miles\": \"sum\"})\n",
    ")\n",
    "distance_unoccupied_cab.reset_index(inplace=True)\n",
    "\n",
    "# Number of days of cab data\n",
    "no_of_days = (cab_data.date_time.max() - cab_data.date_time.min()).days\n",
    "\n",
    "# Average distance covered by a cab when unoccupied (in miles/month per cab)\n",
    "avg_dist_unoccupied_cab_month = (\n",
    "    round(distance_unoccupied_cab.trip_distance_miles.mean(), 2) / no_of_days * 30\n",
    ")\n",
    "\n",
    "print(\"Number of days for which data is available = \", no_of_days)\n",
    "print(\n",
    "    \"Average distance (miles) covered by each taxi cab in a month while unoccupied = \",\n",
    "    avg_dist_unoccupied_cab_month,\n",
    ")"
   ]
  },
  {
   "cell_type": "markdown",
   "metadata": {},
   "source": [
    "### 2. Calculate total co2 emissions, caused by cabs roaming without passengers."
   ]
  },
  {
   "cell_type": "code",
   "execution_count": 291,
   "metadata": {},
   "outputs": [],
   "source": [
    "# CO2 emission per mile (in grams/mile)\n",
    "co2_emissions_mile = 404\n",
    "\n",
    "# Number of cabs\n",
    "no_of_cabs = cab_data_rides.cab_no.unique().size\n",
    "\n",
    "# CO2 emissions from all taxis in a year because of distance travelled when unoccupied (in grams)\n",
    "co2_emissions_year = round(\n",
    "    no_of_cabs * avg_dist_unoccupied_cab_month * co2_emissions_mile * 12, 2\n",
    ")"
   ]
  },
  {
   "cell_type": "markdown",
   "metadata": {},
   "source": [
    "### 3. Calculate total co2 emissions, caused by cabs roaming without passengers, taking into consideration the change in cab fleet."
   ]
  },
  {
   "cell_type": "code",
   "execution_count": 292,
   "metadata": {},
   "outputs": [
    {
     "name": "stdout",
     "output_type": "stream",
     "text": [
      "Expected CO2 emmisions (grams) in next year from all taxis while unoccupied (no fleet change) =  4467257387.69\n",
      "Expected CO2 emmisions (grams) in next year from all taxis while unoccupied (10% fleet change) =  2404178965.74\n",
      "Expected CO2 emissions reduction with change in cab fleet (%) =  46\n"
     ]
    }
   ],
   "source": [
    "# taxi cab fleet is changing at the rate of 10% per month (from combustion enginepowered vehicles to electric vehicles)\n",
    "cab_fleet_change_rate = 0.1\n",
    "\n",
    "# CO2 emissions from all taxis in a year because of distance travelled when unoccupied (in grams) considering change in fleet\n",
    "co2_emissions_year_change_cab_fleet = 0\n",
    "\n",
    "# Changed taxi numbers considering the change in fleet\n",
    "changed_no_of_cabs = no_of_cabs\n",
    "\n",
    "for month in range(1, 13):\n",
    "    changed_no_of_cabs = changed_no_of_cabs * (1 - cab_fleet_change_rate)\n",
    "    co2_emissions_month_change_cab_fleet = round(\n",
    "        changed_no_of_cabs * avg_dist_unoccupied_cab_month * co2_emissions_mile, 2\n",
    "    )\n",
    "    co2_emissions_year_change_cab_fleet = round(\n",
    "        co2_emissions_year_change_cab_fleet + co2_emissions_month_change_cab_fleet, 2\n",
    "    )\n",
    "\n",
    "print(\n",
    "    \"Expected CO2 emmisions (grams) in next year from all taxis while unoccupied (no fleet change) = \",\n",
    "    co2_emissions_year,\n",
    ")\n",
    "print(\n",
    "    \"Expected CO2 emmisions (grams) in next year from all taxis while unoccupied (10% fleet change) = \",\n",
    "    co2_emissions_year_change_cab_fleet,\n",
    ")\n",
    "\n",
    "co2_emissions_reduction_percentage = round(\n",
    "    (co2_emissions_year - co2_emissions_year_change_cab_fleet)\n",
    "    / co2_emissions_year\n",
    "    * 100\n",
    ")\n",
    "print(\n",
    "    \"Expected CO2 emissions reduction with change in cab fleet (%) = \",\n",
    "    co2_emissions_reduction_percentage,\n",
    ")"
   ]
  },
  {
   "cell_type": "markdown",
   "metadata": {},
   "source": [
    "# 3. Identify clusters of taxi cabs\n",
    "\n",
    "There is always a goal/reason behind a user group segmentation process. As we aren't given one, let's make one. Based on this goal, we will do feature engineering, transformation, data cleaning and modeling.\n",
    "\n",
    "Segmentation goal:\n",
    "We want to create a reward, awareness and penalty program for all the taxi drivers based on their driving behaviour.\n",
    "When a taxi driver does well, we will reward him/her. When the driver doesn't do well, we will give him/her a penalty point and give him awareness training. When a taxi driver is neither doing good or bad, we just give them awareness training to improve his/her driving behaviour."
   ]
  },
  {
   "cell_type": "code",
   "execution_count": 293,
   "metadata": {},
   "outputs": [
    {
     "data": {
      "text/html": [
       "<div>\n",
       "<style scoped>\n",
       "    .dataframe tbody tr th:only-of-type {\n",
       "        vertical-align: middle;\n",
       "    }\n",
       "\n",
       "    .dataframe tbody tr th {\n",
       "        vertical-align: top;\n",
       "    }\n",
       "\n",
       "    .dataframe thead th {\n",
       "        text-align: right;\n",
       "    }\n",
       "</style>\n",
       "<table border=\"1\" class=\"dataframe\">\n",
       "  <thead>\n",
       "    <tr style=\"text-align: right;\">\n",
       "      <th></th>\n",
       "      <th>cab_no</th>\n",
       "      <th>startLatitude</th>\n",
       "      <th>endLatitude</th>\n",
       "      <th>startLongitude</th>\n",
       "      <th>endLongitude</th>\n",
       "      <th>startTime</th>\n",
       "      <th>endTime</th>\n",
       "      <th>occupancy</th>\n",
       "      <th>trip_distance_miles</th>\n",
       "    </tr>\n",
       "  </thead>\n",
       "  <tbody>\n",
       "    <tr>\n",
       "      <th>0</th>\n",
       "      <td>1</td>\n",
       "      <td>37.75153</td>\n",
       "      <td>37.74977</td>\n",
       "      <td>-122.39447</td>\n",
       "      <td>-122.39724</td>\n",
       "      <td>2008-05-17 14:12:10</td>\n",
       "      <td>2008-05-17 14:51:10</td>\n",
       "      <td>0</td>\n",
       "      <td>0.19</td>\n",
       "    </tr>\n",
       "    <tr>\n",
       "      <th>1</th>\n",
       "      <td>1</td>\n",
       "      <td>37.74977</td>\n",
       "      <td>37.75580</td>\n",
       "      <td>-122.39724</td>\n",
       "      <td>-122.41441</td>\n",
       "      <td>2008-05-17 14:51:10</td>\n",
       "      <td>2008-05-17 14:56:00</td>\n",
       "      <td>1</td>\n",
       "      <td>1.03</td>\n",
       "    </tr>\n",
       "    <tr>\n",
       "      <th>2</th>\n",
       "      <td>1</td>\n",
       "      <td>37.75580</td>\n",
       "      <td>37.75053</td>\n",
       "      <td>-122.41441</td>\n",
       "      <td>-122.42086</td>\n",
       "      <td>2008-05-17 14:56:00</td>\n",
       "      <td>2008-05-17 15:18:06</td>\n",
       "      <td>0</td>\n",
       "      <td>0.51</td>\n",
       "    </tr>\n",
       "    <tr>\n",
       "      <th>3</th>\n",
       "      <td>1</td>\n",
       "      <td>37.75053</td>\n",
       "      <td>37.75177</td>\n",
       "      <td>-122.42086</td>\n",
       "      <td>-122.43095</td>\n",
       "      <td>2008-05-17 15:18:06</td>\n",
       "      <td>2008-05-17 15:21:50</td>\n",
       "      <td>1</td>\n",
       "      <td>0.56</td>\n",
       "    </tr>\n",
       "    <tr>\n",
       "      <th>4</th>\n",
       "      <td>1</td>\n",
       "      <td>37.75177</td>\n",
       "      <td>37.77173</td>\n",
       "      <td>-122.43095</td>\n",
       "      <td>-122.41838</td>\n",
       "      <td>2008-05-17 15:21:50</td>\n",
       "      <td>2008-05-17 15:43:51</td>\n",
       "      <td>0</td>\n",
       "      <td>1.54</td>\n",
       "    </tr>\n",
       "  </tbody>\n",
       "</table>\n",
       "</div>"
      ],
      "text/plain": [
       "   cab_no  startLatitude  endLatitude  startLongitude  endLongitude  \\\n",
       "0       1       37.75153     37.74977      -122.39447    -122.39724   \n",
       "1       1       37.74977     37.75580      -122.39724    -122.41441   \n",
       "2       1       37.75580     37.75053      -122.41441    -122.42086   \n",
       "3       1       37.75053     37.75177      -122.42086    -122.43095   \n",
       "4       1       37.75177     37.77173      -122.43095    -122.41838   \n",
       "\n",
       "            startTime             endTime  occupancy  trip_distance_miles  \n",
       "0 2008-05-17 14:12:10 2008-05-17 14:51:10          0                 0.19  \n",
       "1 2008-05-17 14:51:10 2008-05-17 14:56:00          1                 1.03  \n",
       "2 2008-05-17 14:56:00 2008-05-17 15:18:06          0                 0.51  \n",
       "3 2008-05-17 15:18:06 2008-05-17 15:21:50          1                 0.56  \n",
       "4 2008-05-17 15:21:50 2008-05-17 15:43:51          0                 1.54  "
      ]
     },
     "execution_count": 293,
     "metadata": {},
     "output_type": "execute_result"
    }
   ],
   "source": [
    "cab_data_rides.head()"
   ]
  },
  {
   "cell_type": "markdown",
   "metadata": {},
   "source": [
    "## 3.1 Feature engineering (Creating new features)"
   ]
  },
  {
   "cell_type": "markdown",
   "metadata": {},
   "source": [
    "Before we do a EDA and data cleaning, let's do so simple feature engineering on Ride data available. These new data will help us during the EDA and data cleaning."
   ]
  },
  {
   "cell_type": "markdown",
   "metadata": {},
   "source": [
    "### 3.1.1 TRIP DURATION in minutes using startTime and endTime of the trip"
   ]
  },
  {
   "cell_type": "code",
   "execution_count": 294,
   "metadata": {},
   "outputs": [],
   "source": [
    "# Trip duration in minutes\n",
    "def calculateTimeDifference(cab_data_ride):\n",
    "    return round((cab_data_ride.endTime - cab_data_ride.startTime).seconds / 60, 2)\n",
    "\n",
    "\n",
    "cab_data_rides[\"trip_duration_minutes\"] = cab_data_rides.apply(\n",
    "    calculateTimeDifference, axis=1\n",
    ")"
   ]
  },
  {
   "cell_type": "markdown",
   "metadata": {},
   "source": [
    "### 3.1.2 TRIP SPEED using the distance and time of the trip."
   ]
  },
  {
   "cell_type": "code",
   "execution_count": 295,
   "metadata": {},
   "outputs": [],
   "source": [
    "cab_data_rides[\"speed_miles_per_hour\"] = round(\n",
    "    cab_data_rides[\"trip_distance_miles\"]\n",
    "    / (cab_data_rides[\"trip_duration_minutes\"] / 60),\n",
    "    2,\n",
    ")"
   ]
  },
  {
   "cell_type": "markdown",
   "metadata": {},
   "source": [
    "### 3.1.3 DAY OF THE WEEK using the trip start time."
   ]
  },
  {
   "cell_type": "code",
   "execution_count": 296,
   "metadata": {},
   "outputs": [],
   "source": [
    "day_name = [\n",
    "    \"Monday\",\n",
    "    \"Tuesday\",\n",
    "    \"Wednesday\",\n",
    "    \"Thursday\",\n",
    "    \"Friday\",\n",
    "    \"Saturday\",\n",
    "    \"Sunday\",\n",
    "]\n",
    "\n",
    "\n",
    "def calculateDayOfWeek(cab_data_ride):\n",
    "    return day_name[cab_data_ride.startTime.dayofweek]\n",
    "\n",
    "\n",
    "cab_data_rides[\"day_of_week\"] = cab_data_rides.apply(calculateDayOfWeek, axis=1)"
   ]
  },
  {
   "cell_type": "markdown",
   "metadata": {},
   "source": [
    "### 3.1.4 IS TRIP ON WEEKEND using the day of the week of the trip."
   ]
  },
  {
   "cell_type": "code",
   "execution_count": 297,
   "metadata": {},
   "outputs": [],
   "source": [
    "def checkIfWeekend(cab_data_ride):\n",
    "    if cab_data_ride.day_of_week in [\"Saturday\", \"Sunday\"]:\n",
    "        return 1\n",
    "    else:\n",
    "        return 0\n",
    "\n",
    "\n",
    "cab_data_rides[\"isWeekend\"] = cab_data_rides.apply(checkIfWeekend, axis=1)"
   ]
  },
  {
   "cell_type": "markdown",
   "metadata": {},
   "source": [
    "### 3.1.5 PHASE OF THE DAY using the hour of the trip time."
   ]
  },
  {
   "cell_type": "code",
   "execution_count": 298,
   "metadata": {},
   "outputs": [],
   "source": [
    "def calculatePhaseOfDay(cab_data_ride):\n",
    "    if 5 <= cab_data_ride.startTime.hour <= 11:\n",
    "        return \"Morning\"\n",
    "    elif 12 <= cab_data_ride.startTime.hour <= 16:\n",
    "        return \"Afternoon\"\n",
    "    elif 17 <= cab_data_ride.startTime.hour <= 20:\n",
    "        return \"Evening\"\n",
    "    else:\n",
    "        return \"night\"\n",
    "\n",
    "\n",
    "cab_data_rides[\"phase_of_day\"] = cab_data_rides.apply(calculatePhaseOfDay, axis=1)"
   ]
  },
  {
   "cell_type": "code",
   "execution_count": 299,
   "metadata": {},
   "outputs": [
    {
     "data": {
      "text/html": [
       "<div>\n",
       "<style scoped>\n",
       "    .dataframe tbody tr th:only-of-type {\n",
       "        vertical-align: middle;\n",
       "    }\n",
       "\n",
       "    .dataframe tbody tr th {\n",
       "        vertical-align: top;\n",
       "    }\n",
       "\n",
       "    .dataframe thead th {\n",
       "        text-align: right;\n",
       "    }\n",
       "</style>\n",
       "<table border=\"1\" class=\"dataframe\">\n",
       "  <thead>\n",
       "    <tr style=\"text-align: right;\">\n",
       "      <th></th>\n",
       "      <th>cab_no</th>\n",
       "      <th>startLatitude</th>\n",
       "      <th>endLatitude</th>\n",
       "      <th>startLongitude</th>\n",
       "      <th>endLongitude</th>\n",
       "      <th>startTime</th>\n",
       "      <th>endTime</th>\n",
       "      <th>occupancy</th>\n",
       "      <th>trip_distance_miles</th>\n",
       "      <th>trip_duration_minutes</th>\n",
       "      <th>speed_miles_per_hour</th>\n",
       "      <th>day_of_week</th>\n",
       "      <th>isWeekend</th>\n",
       "      <th>phase_of_day</th>\n",
       "    </tr>\n",
       "  </thead>\n",
       "  <tbody>\n",
       "    <tr>\n",
       "      <th>0</th>\n",
       "      <td>1</td>\n",
       "      <td>37.75153</td>\n",
       "      <td>37.74977</td>\n",
       "      <td>-122.39447</td>\n",
       "      <td>-122.39724</td>\n",
       "      <td>2008-05-17 14:12:10</td>\n",
       "      <td>2008-05-17 14:51:10</td>\n",
       "      <td>0</td>\n",
       "      <td>0.19</td>\n",
       "      <td>39.00</td>\n",
       "      <td>0.29</td>\n",
       "      <td>Saturday</td>\n",
       "      <td>1</td>\n",
       "      <td>Afternoon</td>\n",
       "    </tr>\n",
       "    <tr>\n",
       "      <th>1</th>\n",
       "      <td>1</td>\n",
       "      <td>37.74977</td>\n",
       "      <td>37.75580</td>\n",
       "      <td>-122.39724</td>\n",
       "      <td>-122.41441</td>\n",
       "      <td>2008-05-17 14:51:10</td>\n",
       "      <td>2008-05-17 14:56:00</td>\n",
       "      <td>1</td>\n",
       "      <td>1.03</td>\n",
       "      <td>4.83</td>\n",
       "      <td>12.80</td>\n",
       "      <td>Saturday</td>\n",
       "      <td>1</td>\n",
       "      <td>Afternoon</td>\n",
       "    </tr>\n",
       "  </tbody>\n",
       "</table>\n",
       "</div>"
      ],
      "text/plain": [
       "   cab_no  startLatitude  endLatitude  startLongitude  endLongitude  \\\n",
       "0       1       37.75153     37.74977      -122.39447    -122.39724   \n",
       "1       1       37.74977     37.75580      -122.39724    -122.41441   \n",
       "\n",
       "            startTime             endTime  occupancy  trip_distance_miles  \\\n",
       "0 2008-05-17 14:12:10 2008-05-17 14:51:10          0                 0.19   \n",
       "1 2008-05-17 14:51:10 2008-05-17 14:56:00          1                 1.03   \n",
       "\n",
       "   trip_duration_minutes  speed_miles_per_hour day_of_week  isWeekend  \\\n",
       "0                  39.00                  0.29    Saturday          1   \n",
       "1                   4.83                 12.80    Saturday          1   \n",
       "\n",
       "  phase_of_day  \n",
       "0    Afternoon  \n",
       "1    Afternoon  "
      ]
     },
     "execution_count": 299,
     "metadata": {},
     "output_type": "execute_result"
    }
   ],
   "source": [
    "cab_data_rides.head(2)"
   ]
  },
  {
   "cell_type": "markdown",
   "metadata": {},
   "source": [
    "## 3.2 Data cleaning"
   ]
  },
  {
   "cell_type": "markdown",
   "metadata": {},
   "source": [
    "### 3.2.1 NULL check and handle"
   ]
  },
  {
   "cell_type": "code",
   "execution_count": 300,
   "metadata": {},
   "outputs": [
    {
     "data": {
      "text/plain": [
       "cab_no                    0\n",
       "startLatitude             0\n",
       "endLatitude               0\n",
       "startLongitude            0\n",
       "endLongitude              0\n",
       "startTime                 0\n",
       "endTime                   0\n",
       "occupancy                 0\n",
       "trip_distance_miles       0\n",
       "trip_duration_minutes     0\n",
       "speed_miles_per_hour     28\n",
       "day_of_week               0\n",
       "isWeekend                 0\n",
       "phase_of_day              0\n",
       "dtype: int64"
      ]
     },
     "execution_count": 300,
     "metadata": {},
     "output_type": "execute_result"
    }
   ],
   "source": [
    "cab_data_rides.isnull().sum()"
   ]
  },
  {
   "cell_type": "markdown",
   "metadata": {},
   "source": [
    "There are 28 records where the speed_miles_per_hour is null or not available. Let's see those records."
   ]
  },
  {
   "cell_type": "code",
   "execution_count": 302,
   "metadata": {},
   "outputs": [
    {
     "data": {
      "text/html": [
       "<div>\n",
       "<style scoped>\n",
       "    .dataframe tbody tr th:only-of-type {\n",
       "        vertical-align: middle;\n",
       "    }\n",
       "\n",
       "    .dataframe tbody tr th {\n",
       "        vertical-align: top;\n",
       "    }\n",
       "\n",
       "    .dataframe thead th {\n",
       "        text-align: right;\n",
       "    }\n",
       "</style>\n",
       "<table border=\"1\" class=\"dataframe\">\n",
       "  <thead>\n",
       "    <tr style=\"text-align: right;\">\n",
       "      <th></th>\n",
       "      <th>cab_no</th>\n",
       "      <th>startLatitude</th>\n",
       "      <th>endLatitude</th>\n",
       "      <th>startLongitude</th>\n",
       "      <th>endLongitude</th>\n",
       "      <th>startTime</th>\n",
       "      <th>endTime</th>\n",
       "      <th>occupancy</th>\n",
       "      <th>trip_distance_miles</th>\n",
       "      <th>trip_duration_minutes</th>\n",
       "      <th>speed_miles_per_hour</th>\n",
       "      <th>day_of_week</th>\n",
       "      <th>isWeekend</th>\n",
       "      <th>phase_of_day</th>\n",
       "    </tr>\n",
       "  </thead>\n",
       "  <tbody>\n",
       "    <tr>\n",
       "      <th>5800</th>\n",
       "      <td>4</td>\n",
       "      <td>37.76127</td>\n",
       "      <td>37.76127</td>\n",
       "      <td>-122.39841</td>\n",
       "      <td>-122.39841</td>\n",
       "      <td>2008-06-10 09:06:16</td>\n",
       "      <td>2008-06-10 09:06:16</td>\n",
       "      <td>0</td>\n",
       "      <td>0.0</td>\n",
       "      <td>0.0</td>\n",
       "      <td>NaN</td>\n",
       "      <td>Tuesday</td>\n",
       "      <td>0</td>\n",
       "      <td>Morning</td>\n",
       "    </tr>\n",
       "    <tr>\n",
       "      <th>14586</th>\n",
       "      <td>9</td>\n",
       "      <td>37.78666</td>\n",
       "      <td>37.78666</td>\n",
       "      <td>-122.39856</td>\n",
       "      <td>-122.39856</td>\n",
       "      <td>2008-06-09 18:02:50</td>\n",
       "      <td>2008-06-09 18:02:50</td>\n",
       "      <td>0</td>\n",
       "      <td>0.0</td>\n",
       "      <td>0.0</td>\n",
       "      <td>NaN</td>\n",
       "      <td>Monday</td>\n",
       "      <td>0</td>\n",
       "      <td>Evening</td>\n",
       "    </tr>\n",
       "  </tbody>\n",
       "</table>\n",
       "</div>"
      ],
      "text/plain": [
       "       cab_no  startLatitude  endLatitude  startLongitude  endLongitude  \\\n",
       "5800        4       37.76127     37.76127      -122.39841    -122.39841   \n",
       "14586       9       37.78666     37.78666      -122.39856    -122.39856   \n",
       "\n",
       "                startTime             endTime  occupancy  trip_distance_miles  \\\n",
       "5800  2008-06-10 09:06:16 2008-06-10 09:06:16          0                  0.0   \n",
       "14586 2008-06-09 18:02:50 2008-06-09 18:02:50          0                  0.0   \n",
       "\n",
       "       trip_duration_minutes  speed_miles_per_hour day_of_week  isWeekend  \\\n",
       "5800                     0.0                   NaN     Tuesday          0   \n",
       "14586                    0.0                   NaN      Monday          0   \n",
       "\n",
       "      phase_of_day  \n",
       "5800       Morning  \n",
       "14586      Evening  "
      ]
     },
     "execution_count": 302,
     "metadata": {},
     "output_type": "execute_result"
    }
   ],
   "source": [
    "cab_data_rides[cab_data_rides.speed_miles_per_hour.isnull()].head(2)"
   ]
  },
  {
   "cell_type": "markdown",
   "metadata": {},
   "source": [
    "There records corresponds to the trips with a \n",
    "1. Trip duration of zero minute i.e. trip start time = trip end time. \n",
    "2. Trip start coordinates are same as trip end coordinates. This means circular trips.\n",
    "\n",
    "These is error data, hence can be removed."
   ]
  },
  {
   "cell_type": "code",
   "execution_count": 303,
   "metadata": {},
   "outputs": [],
   "source": [
    "cab_data_rides_clean = cab_data_rides.copy()\n",
    "cab_data_rides_clean.drop(\n",
    "    cab_data_rides_clean[cab_data_rides_clean.speed_miles_per_hour.isnull()].index,\n",
    "    inplace=True,\n",
    ")"
   ]
  },
  {
   "cell_type": "code",
   "execution_count": 304,
   "metadata": {},
   "outputs": [
    {
     "data": {
      "text/plain": [
       "0"
      ]
     },
     "execution_count": 304,
     "metadata": {},
     "output_type": "execute_result"
    }
   ],
   "source": [
    "cab_data_rides_clean.speed_miles_per_hour.isnull().sum()"
   ]
  },
  {
   "cell_type": "markdown",
   "metadata": {},
   "source": [
    "### 3.2.2. Handle invalid values"
   ]
  },
  {
   "cell_type": "markdown",
   "metadata": {},
   "source": [
    "**TRIP START POINT and TRIP END POINT**\n",
    "\n",
    "Let's see if there are any trips with same start longitude-latitude and end longitude-latidue can't be same. Such trips are possible, and occurs in case of circular rides. As the distance of the ride can't be accurately calculated, so we can get ride of such records."
   ]
  },
  {
   "cell_type": "code",
   "execution_count": 305,
   "metadata": {},
   "outputs": [
    {
     "data": {
      "text/plain": [
       "6831"
      ]
     },
     "execution_count": 305,
     "metadata": {},
     "output_type": "execute_result"
    }
   ],
   "source": [
    "(\n",
    "    (cab_data_rides_clean.startLongitude == cab_data_rides_clean.endLongitude)\n",
    "    & (cab_data_rides_clean.startLatitude == cab_data_rides_clean.endLatitude)\n",
    ").sum()"
   ]
  },
  {
   "cell_type": "markdown",
   "metadata": {},
   "source": [
    "There are 6831 trips which have same pickup and dropoff points."
   ]
  },
  {
   "cell_type": "code",
   "execution_count": 306,
   "metadata": {},
   "outputs": [],
   "source": [
    "cab_data_rides_clean.drop(\n",
    "    cab_data_rides_clean[\n",
    "        (\n",
    "            (cab_data_rides_clean.startLongitude == cab_data_rides_clean.endLongitude)\n",
    "            & (cab_data_rides_clean.startLatitude == cab_data_rides_clean.endLatitude)\n",
    "        )\n",
    "    ].index,\n",
    "    inplace=True,\n",
    ")"
   ]
  },
  {
   "cell_type": "code",
   "execution_count": 307,
   "metadata": {},
   "outputs": [
    {
     "data": {
      "text/plain": [
       "0"
      ]
     },
     "execution_count": 307,
     "metadata": {},
     "output_type": "execute_result"
    }
   ],
   "source": [
    "(\n",
    "    (cab_data_rides_clean.startLongitude == cab_data_rides_clean.endLongitude)\n",
    "    & (cab_data_rides_clean.startLatitude == cab_data_rides_clean.endLatitude)\n",
    ").sum()"
   ]
  },
  {
   "cell_type": "markdown",
   "metadata": {},
   "source": [
    "**TRIP START TIME and TRIP END TIME**\n",
    "\n",
    "The trip start time and end time can't be same. Let's see if there are any such trips. If there are any, we can remove such records."
   ]
  },
  {
   "cell_type": "code",
   "execution_count": 308,
   "metadata": {},
   "outputs": [
    {
     "data": {
      "text/plain": [
       "0"
      ]
     },
     "execution_count": 308,
     "metadata": {},
     "output_type": "execute_result"
    }
   ],
   "source": [
    "(cab_data_rides_clean.startTime == cab_data_rides_clean.endTime).sum()"
   ]
  },
  {
   "cell_type": "markdown",
   "metadata": {},
   "source": [
    "**TRIP DISTANCE**"
   ]
  },
  {
   "cell_type": "code",
   "execution_count": 309,
   "metadata": {},
   "outputs": [
    {
     "data": {
      "text/plain": [
       "21775"
      ]
     },
     "execution_count": 309,
     "metadata": {},
     "output_type": "execute_result"
    }
   ],
   "source": [
    "(cab_data_rides_clean.trip_distance_miles == 0).sum()"
   ]
  },
  {
   "cell_type": "code",
   "execution_count": 310,
   "metadata": {},
   "outputs": [
    {
     "data": {
      "text/html": [
       "<div>\n",
       "<style scoped>\n",
       "    .dataframe tbody tr th:only-of-type {\n",
       "        vertical-align: middle;\n",
       "    }\n",
       "\n",
       "    .dataframe tbody tr th {\n",
       "        vertical-align: top;\n",
       "    }\n",
       "\n",
       "    .dataframe thead th {\n",
       "        text-align: right;\n",
       "    }\n",
       "</style>\n",
       "<table border=\"1\" class=\"dataframe\">\n",
       "  <thead>\n",
       "    <tr style=\"text-align: right;\">\n",
       "      <th></th>\n",
       "      <th>cab_no</th>\n",
       "      <th>startLatitude</th>\n",
       "      <th>endLatitude</th>\n",
       "      <th>startLongitude</th>\n",
       "      <th>endLongitude</th>\n",
       "      <th>startTime</th>\n",
       "      <th>endTime</th>\n",
       "      <th>occupancy</th>\n",
       "      <th>trip_distance_miles</th>\n",
       "      <th>trip_duration_minutes</th>\n",
       "      <th>speed_miles_per_hour</th>\n",
       "      <th>day_of_week</th>\n",
       "      <th>isWeekend</th>\n",
       "      <th>phase_of_day</th>\n",
       "    </tr>\n",
       "  </thead>\n",
       "  <tbody>\n",
       "    <tr>\n",
       "      <th>23</th>\n",
       "      <td>1</td>\n",
       "      <td>37.77697</td>\n",
       "      <td>37.77697</td>\n",
       "      <td>-122.39523</td>\n",
       "      <td>-122.39521</td>\n",
       "      <td>2008-05-17 19:22:22</td>\n",
       "      <td>2008-05-17 19:22:32</td>\n",
       "      <td>1</td>\n",
       "      <td>0.0</td>\n",
       "      <td>0.17</td>\n",
       "      <td>0.0</td>\n",
       "      <td>Saturday</td>\n",
       "      <td>1</td>\n",
       "      <td>Evening</td>\n",
       "    </tr>\n",
       "    <tr>\n",
       "      <th>30</th>\n",
       "      <td>1</td>\n",
       "      <td>37.80679</td>\n",
       "      <td>37.80682</td>\n",
       "      <td>-122.40576</td>\n",
       "      <td>-122.40583</td>\n",
       "      <td>2008-05-17 20:22:17</td>\n",
       "      <td>2008-05-17 20:22:22</td>\n",
       "      <td>0</td>\n",
       "      <td>0.0</td>\n",
       "      <td>0.08</td>\n",
       "      <td>0.0</td>\n",
       "      <td>Saturday</td>\n",
       "      <td>1</td>\n",
       "      <td>Evening</td>\n",
       "    </tr>\n",
       "  </tbody>\n",
       "</table>\n",
       "</div>"
      ],
      "text/plain": [
       "    cab_no  startLatitude  endLatitude  startLongitude  endLongitude  \\\n",
       "23       1       37.77697     37.77697      -122.39523    -122.39521   \n",
       "30       1       37.80679     37.80682      -122.40576    -122.40583   \n",
       "\n",
       "             startTime             endTime  occupancy  trip_distance_miles  \\\n",
       "23 2008-05-17 19:22:22 2008-05-17 19:22:32          1                  0.0   \n",
       "30 2008-05-17 20:22:17 2008-05-17 20:22:22          0                  0.0   \n",
       "\n",
       "    trip_duration_minutes  speed_miles_per_hour day_of_week  isWeekend  \\\n",
       "23                   0.17                   0.0    Saturday          1   \n",
       "30                   0.08                   0.0    Saturday          1   \n",
       "\n",
       "   phase_of_day  \n",
       "23      Evening  \n",
       "30      Evening  "
      ]
     },
     "execution_count": 310,
     "metadata": {},
     "output_type": "execute_result"
    }
   ],
   "source": [
    "cab_data_rides_clean[cab_data_rides_clean.trip_distance_miles == 0].head(2)"
   ]
  },
  {
   "cell_type": "markdown",
   "metadata": {},
   "source": [
    "After looking at the data, it is quite evident that these rides have start and end coordinates that differ on 4th decimal. This causes the distance to be zero. We can remove these trips to prevent any data biases."
   ]
  },
  {
   "cell_type": "code",
   "execution_count": 311,
   "metadata": {},
   "outputs": [],
   "source": [
    "cab_data_rides_clean.drop(\n",
    "    cab_data_rides_clean[cab_data_rides_clean.trip_distance_miles == 0].index,\n",
    "    inplace=True,\n",
    ")"
   ]
  },
  {
   "cell_type": "code",
   "execution_count": 312,
   "metadata": {},
   "outputs": [
    {
     "data": {
      "text/plain": [
       "0"
      ]
     },
     "execution_count": 312,
     "metadata": {},
     "output_type": "execute_result"
    }
   ],
   "source": [
    "(cab_data_rides_clean.trip_distance_miles == 0).sum()"
   ]
  },
  {
   "cell_type": "markdown",
   "metadata": {},
   "source": [
    "**TRIP DURATION**\n",
    "\n",
    "There should be no trips with zero trip duration. If there are any, we should remove those."
   ]
  },
  {
   "cell_type": "code",
   "execution_count": 313,
   "metadata": {},
   "outputs": [
    {
     "data": {
      "text/plain": [
       "0"
      ]
     },
     "execution_count": 313,
     "metadata": {},
     "output_type": "execute_result"
    }
   ],
   "source": [
    "(cab_data_rides_clean.trip_duration_minutes == 0).sum()"
   ]
  },
  {
   "cell_type": "markdown",
   "metadata": {},
   "source": [
    "**TRIP SPEED**\n",
    "\n",
    "There should be no trips with zero trip speed. If there are any, we should remove those."
   ]
  },
  {
   "cell_type": "code",
   "execution_count": 314,
   "metadata": {},
   "outputs": [
    {
     "data": {
      "text/plain": [
       "22"
      ]
     },
     "execution_count": 314,
     "metadata": {},
     "output_type": "execute_result"
    }
   ],
   "source": [
    "(cab_data_rides_clean.speed_miles_per_hour == 0).sum()"
   ]
  },
  {
   "cell_type": "code",
   "execution_count": 315,
   "metadata": {},
   "outputs": [],
   "source": [
    "cab_data_rides_clean.drop(cab_data_rides_clean[cab_data_rides_clean.speed_miles_per_hour == 0].index, inplace=True)"
   ]
  },
  {
   "cell_type": "code",
   "execution_count": 316,
   "metadata": {},
   "outputs": [
    {
     "data": {
      "text/plain": [
       "0"
      ]
     },
     "execution_count": 316,
     "metadata": {},
     "output_type": "execute_result"
    }
   ],
   "source": [
    "(cab_data_rides_clean.speed_miles_per_hour == 0).sum()"
   ]
  },
  {
   "cell_type": "markdown",
   "metadata": {},
   "source": [
    "### 3.2.3 Handle outliers"
   ]
  },
  {
   "cell_type": "markdown",
   "metadata": {},
   "source": [
    "**TRIP DURATION**"
   ]
  },
  {
   "cell_type": "code",
   "execution_count": 317,
   "metadata": {},
   "outputs": [
    {
     "data": {
      "image/png": "[encoded data removed]",
      "text/plain": [
       "<Figure size 720x432 with 1 Axes>"
      ]
     },
     "metadata": {
      "needs_background": "light"
     },
     "output_type": "display_data"
    }
   ],
   "source": [
    "plt.figure(figsize=(10, 6))\n",
    "sns.boxplot(\"trip_duration_minutes\", data=cab_data_rides_clean, orient=\"v\")\n",
    "plt.tick_params(labelsize=20)\n",
    "plt.ylabel(\"Trip Duration(minutes)\", fontsize=20)\n",
    "plt.show()"
   ]
  },
  {
   "cell_type": "code",
   "execution_count": 318,
   "metadata": {},
   "outputs": [
    {
     "name": "stdout",
     "output_type": "stream",
     "text": [
      "0th percentile value of Trip Duration is 0.02 min\n",
      "10th percentile value of Trip Duration is 1.85 min\n",
      "20th percentile value of Trip Duration is 3.67 min\n",
      "30th percentile value of Trip Duration is 5.200000000000001 min\n",
      "40th percentile value of Trip Duration is 6.68 min\n",
      "50th percentile value of Trip Duration is 8.35 min\n",
      "60th percentile value of Trip Duration is 10.35 min\n",
      "70th percentile value of Trip Duration is 13.08 min\n",
      "80th percentile value of Trip Duration is 17.55 min\n",
      "90th percentile value of Trip Duration is 27.25 min\n",
      "100th percentile value of Trip Duration is 1435.15 min\n",
      "###############################\n",
      "90th percentile value of Trip Duration is 27.25 min\n",
      "91th percentile value of Trip Duration is 29.42 min\n",
      "92th percentile value of Trip Duration is 32.2 min\n",
      "93th percentile value of Trip Duration is 36.03 min\n",
      "94th percentile value of Trip Duration is 41.37 min\n",
      "95th percentile value of Trip Duration is 49.17 min\n",
      "96th percentile value of Trip Duration is 60.77000000000001 min\n",
      "97th percentile value of Trip Duration is 78.98 min\n",
      "98th percentile value of Trip Duration is 112.20000000000002 min\n",
      "99th percentile value of Trip Duration is 235.48280000000028 min\n",
      "100th percentile value of Trip Duration is 1435.15 min\n"
     ]
    }
   ],
   "source": [
    "quantile_trip_duration_minutes = cab_data_rides_clean.trip_duration_minutes.quantile(\n",
    "    np.round(np.arange(0.00, 1.01, 0.01), 2)\n",
    ")\n",
    "qValues = np.round(np.arange(0.00, 1.01, 0.1), 2)\n",
    "for i in qValues:\n",
    "    print(\n",
    "        \"{}th percentile value of Trip Duration is {} min\".format(\n",
    "            (int(i * 100)), quantile_trip_duration_minutes[i]\n",
    "        )\n",
    "    )\n",
    "\n",
    "print(\"###############################\")\n",
    "qValues = np.round(np.arange(0.90, 1.01, 0.01), 2)\n",
    "for i in qValues:\n",
    "    print(\n",
    "        \"{}th percentile value of Trip Duration is {} min\".format(\n",
    "            (int(i * 100)), quantile_trip_duration_minutes[i]\n",
    "        )\n",
    "    )"
   ]
  },
  {
   "cell_type": "markdown",
   "metadata": {},
   "source": [
    "<b>Observations:</b>Till 99th percentile value of trip duration (235 min or approx 4 hours), everything looks legit. On 100th percentile values are huge deviation, with a trip duration of 1435 mins or 24 hours.\n",
    "\n",
    "Let's assume that for the safety of both driver and rider, the maximum allowed single trip duration is 4 hours i.e 240 mins.\n",
    "\n",
    "Based on this, let's remove these outliers."
   ]
  },
  {
   "cell_type": "code",
   "execution_count": 319,
   "metadata": {},
   "outputs": [
    {
     "name": "stdout",
     "output_type": "stream",
     "text": [
      "No of records removed =  8824\n"
     ]
    }
   ],
   "source": [
    "prev_count = cab_data_rides_clean.shape[0]\n",
    "cab_data_rides_clean.drop(\n",
    "    cab_data_rides_clean[cab_data_rides_clean.trip_duration_minutes > 240].index,\n",
    "    inplace=True,\n",
    ")\n",
    "\n",
    "print(\"No of records removed = \", prev_count - cab_data_rides_clean.shape[0])"
   ]
  },
  {
   "cell_type": "code",
   "execution_count": 320,
   "metadata": {},
   "outputs": [
    {
     "data": {
      "image/png": "[encoded data removed]",
      "text/plain": [
       "<Figure size 720x432 with 1 Axes>"
      ]
     },
     "metadata": {
      "needs_background": "light"
     },
     "output_type": "display_data"
    }
   ],
   "source": [
    "plt.figure(figsize=(10, 6))\n",
    "sns.boxplot(\"trip_duration_minutes\", data=cab_data_rides_clean, orient=\"v\")\n",
    "plt.tick_params(labelsize=20)\n",
    "plt.ylabel(\"Trip Duration(minutes)\", fontsize=20)\n",
    "plt.show()"
   ]
  },
  {
   "cell_type": "markdown",
   "metadata": {},
   "source": [
    "Let's see the distribution of trip duration."
   ]
  },
  {
   "cell_type": "code",
   "execution_count": 321,
   "metadata": {},
   "outputs": [
    {
     "data": {
      "image/png": "[encoded data removed]",
      "text/plain": [
       "<Figure size 864x576 with 1 Axes>"
      ]
     },
     "metadata": {
      "needs_background": "light"
     },
     "output_type": "display_data"
    }
   ],
   "source": [
    "plt.figure(figsize=(12, 8))\n",
    "sns.kdeplot(\n",
    "    cab_data_rides_clean.trip_duration_minutes.values, shade=True, cumulative=False\n",
    ")\n",
    "plt.tick_params(labelsize=20)\n",
    "plt.xlabel(\"Trip Duration (Minutes)\", fontsize=20)\n",
    "plt.title(\"PDF of Trip Duration\", fontsize=20)\n",
    "plt.show()"
   ]
  },
  {
   "cell_type": "markdown",
   "metadata": {},
   "source": [
    "**TRIP SPEED**"
   ]
  },
  {
   "cell_type": "code",
   "execution_count": 322,
   "metadata": {},
   "outputs": [],
   "source": [
    "def changingLabels(num):\n",
    "    if num < 10 ** 3:\n",
    "        return num\n",
    "    elif num >= 10 ** 3 and num < 10 ** 6:\n",
    "        return str(num / 10 ** 3) + \"k\"\n",
    "    elif num >= 10 ** 6 and num < 10 ** 9:\n",
    "        return str(num / 10 ** 6) + \"M\"\n",
    "    else:\n",
    "        return str(num / 10 ** 9) + \"B\""
   ]
  },
  {
   "cell_type": "code",
   "execution_count": 323,
   "metadata": {},
   "outputs": [
    {
     "data": {
      "image/png": "[encoded data removed]",
      "text/plain": [
       "<Figure size 720x432 with 1 Axes>"
      ]
     },
     "metadata": {
      "needs_background": "light"
     },
     "output_type": "display_data"
    }
   ],
   "source": [
    "fig = plt.figure(figsize=(10, 6))\n",
    "ax = sns.boxplot(\"speed_miles_per_hour\", data=cab_data_rides_clean, orient=\"v\")\n",
    "\n",
    "ax.set_yticklabels([changingLabels(num) for num in ax.get_yticks()])\n",
    "plt.tick_params(labelsize=20)\n",
    "plt.ylabel(\"Speed(Miles/hr)\", fontsize=20)\n",
    "plt.show()"
   ]
  },
  {
   "cell_type": "code",
   "execution_count": 324,
   "metadata": {},
   "outputs": [
    {
     "name": "stdout",
     "output_type": "stream",
     "text": [
      "0th percentile value of speed is 0.01 miles/hr\n",
      "10th percentile value of speed is 2.18 miles/hr\n",
      "20th percentile value of speed is 4.04 miles/hr\n",
      "30th percentile value of speed is 5.65 miles/hr\n",
      "40th percentile value of speed is 7.05 miles/hr\n",
      "50th percentile value of speed is 8.33 miles/hr\n",
      "60th percentile value of speed is 9.62 miles/hr\n",
      "70th percentile value of speed is 11.08 miles/hr\n",
      "80th percentile value of speed is 13.09 miles/hr\n",
      "90th percentile value of speed is 18.38 miles/hr\n",
      "100th percentile value of speed is 702330.0 miles/hr\n",
      "###############################\n",
      "91th percentile value of speed is 19.97 miles/hr\n",
      "92th percentile value of speed is 21.77 miles/hr\n",
      "93th percentile value of speed is 24.409999999999997 miles/hr\n",
      "94th percentile value of speed is 27.4 miles/hr\n",
      "95th percentile value of speed is 30.0 miles/hr\n",
      "96th percentile value of speed is 32.73 miles/hr\n",
      "97th percentile value of speed is 35.67 miles/hr\n",
      "98th percentile value of speed is 39.28 miles/hr\n",
      "99th percentile value of speed is 46.15 miles/hr\n",
      "100th percentile value of speed is 702330.0 miles/hr\n",
      "###############################\n",
      "99.1th percentile value of speed is 47.76141999999992 miles/hr\n",
      "99.2th percentile value of speed is 49.71000000000001 miles/hr\n",
      "99.3th percentile value of speed is 53.33 miles/hr\n",
      "99.4th percentile value of speed is 60.0 miles/hr\n",
      "99.5th percentile value of speed is 63.383799999998885 miles/hr\n",
      "99.6th percentile value of speed is 80.0 miles/hr\n",
      "99.7th percentile value of speed is 111.0 miles/hr\n",
      "99.8th percentile value of speed is 160.0 miles/hr\n",
      "99.9th percentile value of speed is 300.0 miles/hr\n",
      "100.0th percentile value of speed is 702330.0 miles/hr\n"
     ]
    }
   ],
   "source": [
    "quantile_speed = cab_data_rides_clean.speed_miles_per_hour.quantile(\n",
    "    np.round(np.arange(0.00, 1.01, 0.01), 2)\n",
    ")\n",
    "\n",
    "qValues = np.round(np.arange(0.00, 1.01, 0.1), 4)\n",
    "for i in qValues:\n",
    "    print(\n",
    "        \"{}th percentile value of speed is {} miles/hr\".format(\n",
    "            int(i * 100), quantile_speed[i]\n",
    "        )\n",
    "    )\n",
    "\n",
    "print(\"###############################\")\n",
    "qValues = np.round(np.arange(0.91, 1.01, 0.01), 3)\n",
    "for i in qValues:\n",
    "    print(\n",
    "        \"{}th percentile value of speed is {} miles/hr\".format(\n",
    "            int(i * 100), quantile_speed[i]\n",
    "        )\n",
    "    )\n",
    "\n",
    "print(\"###############################\")\n",
    "qValues = np.round(np.arange(0.991, 1.001, 0.001), 4)\n",
    "quantile_speed = cab_data_rides_clean.speed_miles_per_hour.quantile(qValues)\n",
    "for i in qValues:\n",
    "    print(\n",
    "        \"{}th percentile value of speed is {} miles/hr\".format(\n",
    "            (i * 100), quantile_speed[i]\n",
    "        )\n",
    "    )"
   ]
  },
  {
   "cell_type": "markdown",
   "metadata": {},
   "source": [
    "<b>Observations:</b> Here, 100th percentile value of a speed is 41940.0 miles/hr which is BIZZARE. Furthermore, zero speed in a trip is impossible. The 99.6th percentile value of speed is 80 miles/hr, which is possible. \n",
    "\n",
    "SF allows a maximum speed of 100 miles/hour for taxi cabs (Assumption). \n",
    "So, we are removing all the data points where speed is greater than 100 miles/hr. "
   ]
  },
  {
   "cell_type": "code",
   "execution_count": 325,
   "metadata": {},
   "outputs": [
    {
     "name": "stdout",
     "output_type": "stream",
     "text": [
      "No of records removed =  2805\n"
     ]
    }
   ],
   "source": [
    "prev_count = cab_data_rides_clean.shape[0]\n",
    "cab_data_rides_clean.drop(\n",
    "    cab_data_rides_clean[cab_data_rides_clean.speed_miles_per_hour > 100].index,\n",
    "    inplace=True,\n",
    ")\n",
    "\n",
    "print(\"No of records removed = \", prev_count - cab_data_rides_clean.shape[0])"
   ]
  },
  {
   "cell_type": "code",
   "execution_count": 326,
   "metadata": {},
   "outputs": [
    {
     "data": {
      "image/png": "[encoded data removed]",
      "text/plain": [
       "<Figure size 720x432 with 1 Axes>"
      ]
     },
     "metadata": {
      "needs_background": "light"
     },
     "output_type": "display_data"
    }
   ],
   "source": [
    "fig = plt.figure(figsize=(10, 6))\n",
    "ax = sns.boxplot(\"speed_miles_per_hour\", data=cab_data_rides_clean, orient=\"v\")\n",
    "\n",
    "ax.set_yticklabels([changingLabels(num) for num in ax.get_yticks()])\n",
    "plt.tick_params(labelsize=20)\n",
    "plt.ylabel(\"Speed(Miles/hr)\", fontsize=20)\n",
    "plt.show()"
   ]
  },
  {
   "cell_type": "code",
   "execution_count": 327,
   "metadata": {},
   "outputs": [
    {
     "data": {
      "image/png": "[encoded data removed]",
      "text/plain": [
       "<Figure size 864x576 with 1 Axes>"
      ]
     },
     "metadata": {
      "needs_background": "light"
     },
     "output_type": "display_data"
    }
   ],
   "source": [
    "plt.figure(figsize=(12, 8))\n",
    "sns.kdeplot(\n",
    "    cab_data_rides_clean.speed_miles_per_hour.values, shade=True, cumulative=False\n",
    ")\n",
    "plt.tick_params(labelsize=20)\n",
    "plt.xlabel(\"Speed (Miles/hour)\", fontsize=20)\n",
    "plt.title(\"PDF of Speed\", fontsize=20)\n",
    "plt.show()"
   ]
  },
  {
   "cell_type": "code",
   "execution_count": 328,
   "metadata": {},
   "outputs": [
    {
     "name": "stdout",
     "output_type": "stream",
     "text": [
      "Average Speed of Taxis around NYC =  10.02\n",
      "Distance (miles) covered of Taxis around SF per 10 minutes = 1.67 per 10 minutes.\n"
     ]
    }
   ],
   "source": [
    "print(\n",
    "    \"Average Speed of Taxis around NYC = \",\n",
    "    round(\n",
    "        sum(cab_data_rides_clean.speed_miles_per_hour) / cab_data_rides_clean.shape[0],\n",
    "        2,\n",
    "    ),\n",
    ")\n",
    "print(\n",
    "    \"Distance (miles) covered of Taxis around SF per 10 minutes = \"\n",
    "    + str(\n",
    "        round(\n",
    "            sum(cab_data_rides_clean.speed_miles_per_hour)\n",
    "            / cab_data_rides_clean.shape[0],\n",
    "            2,\n",
    "        )\n",
    "        / 6\n",
    "    )\n",
    "    + \" per 10 minutes.\"\n",
    ")"
   ]
  },
  {
   "cell_type": "markdown",
   "metadata": {},
   "source": [
    "The avg speed in SF is 10 miles/hr, so a cab driver can travel 1.7 miles per 10 min on avg."
   ]
  },
  {
   "cell_type": "markdown",
   "metadata": {},
   "source": [
    "**TRIP DISTANCE**"
   ]
  },
  {
   "cell_type": "code",
   "execution_count": 329,
   "metadata": {},
   "outputs": [
    {
     "data": {
      "image/png": "[encoded data removed]",
      "text/plain": [
       "<Figure size 720x432 with 1 Axes>"
      ]
     },
     "metadata": {
      "needs_background": "light"
     },
     "output_type": "display_data"
    }
   ],
   "source": [
    "plt.figure(figsize=(10, 6))\n",
    "sns.boxplot(\"trip_distance_miles\", data=cab_data_rides_clean, orient=\"v\")\n",
    "plt.tick_params(labelsize=20)\n",
    "plt.ylabel(\"Trip distance(miles)\", fontsize=20)\n",
    "plt.show()"
   ]
  },
  {
   "cell_type": "code",
   "execution_count": 330,
   "metadata": {},
   "outputs": [
    {
     "name": "stdout",
     "output_type": "stream",
     "text": [
      "0th percentile value of distance is 0.01miles\n",
      "10th percentile value of distance is 0.14miles\n",
      "20th percentile value of distance is 0.34miles\n",
      "30th percentile value of distance is 0.54miles\n",
      "40th percentile value of distance is 0.75miles\n",
      "50th percentile value of distance is 0.99miles\n",
      "60th percentile value of distance is 1.29miles\n",
      "70th percentile value of distance is 1.69miles\n",
      "80th percentile value of distance is 2.35miles\n",
      "90th percentile value of distance is 4.72miles\n",
      "100th percentile value of distance is 181.78miles\n",
      "###############################\n",
      "91 percentile value of distance is 5.9miles\n",
      "92 percentile value of distance is 7.99miles\n",
      "93 percentile value of distance is 9.46miles\n",
      "94 percentile value of distance is 10.49miles\n",
      "95 percentile value of distance is 11.23miles\n",
      "96 percentile value of distance is 11.69miles\n",
      "97 percentile value of distance is 11.92miles\n",
      "98 percentile value of distance is 12.239999999999998miles\n",
      "99 percentile value of distance is 12.89miles\n",
      "100 percentile value of distance is 181.78miles\n",
      "###############################\n",
      "99.1 percentile value of distance is 13.0miles\n",
      "99.2 percentile value of distance is 13.11miles\n",
      "99.3 percentile value of distance is 13.22miles\n",
      "99.4 percentile value of distance is 13.32miles\n",
      "99.5 percentile value of distance is 13.76miles\n",
      "99.6 percentile value of distance is 15.43miles\n",
      "99.7 percentile value of distance is 17.39miles\n",
      "99.8 percentile value of distance is 19.86miles\n",
      "99.9 percentile value of distance is 24.41miles\n",
      "100.0 percentile value of distance is 181.78miles\n"
     ]
    }
   ],
   "source": [
    "quantile_speed = cab_data_rides_clean.trip_distance_miles.quantile(\n",
    "    np.round(np.arange(0.00, 1.01, 0.01), 2)\n",
    ")\n",
    "\n",
    "qValues = np.round(np.arange(0.00, 1.01, 0.1), 4)\n",
    "for i in qValues:\n",
    "    print(\n",
    "        \"{}th percentile value of distance is {}miles\".format(\n",
    "            int(i * 100), quantile_speed[i]\n",
    "        )\n",
    "    )\n",
    "\n",
    "print(\"###############################\")\n",
    "qValues = np.round(np.arange(0.91, 1.01, 0.01), 3)\n",
    "for i in qValues:\n",
    "    print(\n",
    "        \"{} percentile value of distance is {}miles\".format(\n",
    "            int(i * 100), quantile_speed[i]\n",
    "        )\n",
    "    )\n",
    "\n",
    "print(\"###############################\")\n",
    "qValues = np.round(np.arange(0.991, 1.001, 0.001), 4)\n",
    "quantile_speed = cab_data_rides_clean.trip_distance_miles.quantile(qValues)\n",
    "for i in qValues:\n",
    "    print(\n",
    "        \"{} percentile value of distance is {}miles\".format(\n",
    "            (i * 100), quantile_speed[i]\n",
    "        )\n",
    "    )"
   ]
  },
  {
   "cell_type": "markdown",
   "metadata": {},
   "source": [
    "<b>Observations:</b> After removing huge outliers from features such as trip duration and speed, it seems that the outliers for the distance feature have been automatically removed. The distance data in the quantiles looks legit. So, we don't need to remove any outliers."
   ]
  },
  {
   "cell_type": "code",
   "execution_count": 331,
   "metadata": {},
   "outputs": [
    {
     "data": {
      "image/png": "[encoded data removed]",
      "text/plain": [
       "<Figure size 864x576 with 1 Axes>"
      ]
     },
     "metadata": {
      "needs_background": "light"
     },
     "output_type": "display_data"
    }
   ],
   "source": [
    "plt.figure(figsize=(12, 8))\n",
    "sns.kdeplot(\n",
    "    cab_data_rides_clean.trip_distance_miles.values, shade=True, cumulative=False\n",
    ")\n",
    "plt.tick_params(labelsize=20)\n",
    "plt.xlabel(\"Distance (Miles)\", fontsize=20)\n",
    "plt.title(\"PDF of Distance\", fontsize=20)\n",
    "plt.show()"
   ]
  },
  {
   "cell_type": "markdown",
   "metadata": {},
   "source": [
    "## 3.3 EDA\n",
    "\n",
    "Let's do multivariate analysis to see corelation between features."
   ]
  },
  {
   "cell_type": "markdown",
   "metadata": {},
   "source": [
    "### 3.3.1 OCCUPANCY vs TRIP DISTANCE\n",
    "\n",
    "Let's see the average distance travelled per trip when the taxi is occupied and when it is unoccupied."
   ]
  },
  {
   "cell_type": "code",
   "execution_count": 332,
   "metadata": {},
   "outputs": [
    {
     "name": "stdout",
     "output_type": "stream",
     "text": [
      "[1.54462351 2.54224195]\n"
     ]
    },
    {
     "data": {
      "image/png": "[encoded data removed]",
      "text/plain": [
       "<Figure size 864x576 with 1 Axes>"
      ]
     },
     "metadata": {
      "needs_background": "light"
     },
     "output_type": "display_data"
    }
   ],
   "source": [
    "occupancy_distance = cab_data_rides_clean.groupby(\"occupancy\").agg(\n",
    "    {\"trip_distance_miles\": \"mean\"}\n",
    ")\n",
    "occupancy_distance.reset_index(inplace=True)\n",
    "occupancy_distance.rename(\n",
    "    columns={\"trip_distance_miles\": \"mean_trip_distance_miles\"}, inplace=True\n",
    ")\n",
    "print(occupancy_distance.mean_trip_distance_miles.values)\n",
    "\n",
    "# Visualize through Bar plot\n",
    "plt.figure(figsize=(12, 8))\n",
    "plt.bar(\n",
    "    [\"Unoccupied\", \"Occupied\"],\n",
    "    occupancy_distance.mean_trip_distance_miles.values,\n",
    "    color=(\"red\", \"green\"),\n",
    ")\n",
    "plt.xlabel(\"Occupancy\", fontweight=\"bold\")\n",
    "plt.ylabel(\"Mean trip distance in miles\", fontweight=\"bold\")\n",
    "plt.title(\"Occupancy vs Trip distance\")\n",
    "plt.show()"
   ]
  },
  {
   "cell_type": "markdown",
   "metadata": {},
   "source": [
    "Average distance travelled by a taxi when occupied is 2.5 miles and when unoccupied is 1.5 miles. This is a nice deviation."
   ]
  },
  {
   "cell_type": "markdown",
   "metadata": {},
   "source": [
    "### 3.3.2 OCCUPANCY vs TRIP DURATION\n",
    "\n",
    "Let's see the average time spent per trip when the taxi is occupied and when it is unoccupied."
   ]
  },
  {
   "cell_type": "code",
   "execution_count": 333,
   "metadata": {},
   "outputs": [
    {
     "name": "stdout",
     "output_type": "stream",
     "text": [
      "[16.57379782 10.87757515]\n"
     ]
    },
    {
     "data": {
      "image/png": "[encoded data removed]",
      "text/plain": [
       "<Figure size 864x576 with 1 Axes>"
      ]
     },
     "metadata": {
      "needs_background": "light"
     },
     "output_type": "display_data"
    }
   ],
   "source": [
    "occupancy_duration = cab_data_rides_clean.groupby(\"occupancy\").agg(\n",
    "    {\"trip_duration_minutes\": \"mean\"}\n",
    ")\n",
    "occupancy_duration.reset_index(inplace=True)\n",
    "occupancy_duration.rename(\n",
    "    columns={\"trip_duration_minutes\": \"mean_trip_duration_minutes\"}, inplace=True\n",
    ")\n",
    "print(occupancy_duration.mean_trip_duration_minutes.values)\n",
    "\n",
    "# Visualize through Bar plot\n",
    "plt.figure(figsize=(12, 8))\n",
    "plt.bar(\n",
    "    [\"Unoccupied\", \"Occupied\"],\n",
    "    occupancy_duration.mean_trip_duration_minutes.values,\n",
    "    color=(\"red\", \"green\"),\n",
    ")\n",
    "plt.xlabel(\"Occupancy\", fontweight=\"bold\")\n",
    "plt.ylabel(\"Mean trip duration in minutes\", fontweight=\"bold\")\n",
    "plt.title(\"Occupancy vs Trip duration\")\n",
    "plt.show()"
   ]
  },
  {
   "cell_type": "markdown",
   "metadata": {},
   "source": [
    "Average trip duration of a taxi when occupied is around 11 minutes and when unoccupied is 16.5 minutes. This means that the taxis spend around 1.5 times the time they spend with passengers."
   ]
  },
  {
   "cell_type": "markdown",
   "metadata": {},
   "source": [
    "### 3.3.3 OCCUPANCY vs TRIP SPEED\n",
    "\n",
    "Let's see the average speed per trip when the taxi is occupied and when it is unoccupied."
   ]
  },
  {
   "cell_type": "code",
   "execution_count": 334,
   "metadata": {},
   "outputs": [
    {
     "name": "stdout",
     "output_type": "stream",
     "text": [
      "[ 7.28398711 12.59465033]\n"
     ]
    },
    {
     "data": {
      "image/png": "[encoded data removed]",
      "text/plain": [
       "<Figure size 864x576 with 1 Axes>"
      ]
     },
     "metadata": {
      "needs_background": "light"
     },
     "output_type": "display_data"
    }
   ],
   "source": [
    "occupancy_speed = cab_data_rides_clean.groupby(\"occupancy\").agg(\n",
    "    {\"speed_miles_per_hour\": \"mean\"}\n",
    ")\n",
    "occupancy_speed.reset_index(inplace=True)\n",
    "occupancy_speed.rename(\n",
    "    columns={\"speed_miles_per_hour\": \"mean_speed_miles_per_hour\"}, inplace=True\n",
    ")\n",
    "print(occupancy_speed.mean_speed_miles_per_hour.values)\n",
    "\n",
    "# Visualize through Bar plot\n",
    "plt.figure(figsize=(12, 8))\n",
    "plt.bar(\n",
    "    [\"Unoccupied\", \"Occupied\"],\n",
    "    occupancy_speed.mean_speed_miles_per_hour.values,\n",
    "    color=(\"red\", \"green\"),\n",
    ")\n",
    "plt.xlabel(\"Occupancy\", fontweight=\"bold\")\n",
    "plt.ylabel(\"Mean trip speed in miles/hour\", fontweight=\"bold\")\n",
    "plt.title(\"Occupancy vs Trip speed\")\n",
    "plt.show()"
   ]
  },
  {
   "cell_type": "markdown",
   "metadata": {},
   "source": [
    "Average trip speed of a taxi when occupied is around 12.6 miles/hour and when unoccupied is 7.3 miles/hour. This means that the taxis are much slower when without passenger than with passengers."
   ]
  },
  {
   "cell_type": "markdown",
   "metadata": {},
   "source": [
    "### 3.3.4 DEMAND vs DAY OF THE WEEK\n",
    "\n",
    "Let's see on which day of the week, the demand of taxis are more. Here we are only considering the trips when there are occupied by passengers."
   ]
  },
  {
   "cell_type": "code",
   "execution_count": 335,
   "metadata": {},
   "outputs": [
    {
     "data": {
      "image/png": "[encoded data removed]",
      "text/plain": [
       "<Figure size 864x576 with 1 Axes>"
      ]
     },
     "metadata": {
      "needs_background": "light"
     },
     "output_type": "display_data"
    }
   ],
   "source": [
    "occupancy_dayOfTheWeek = (\n",
    "    cab_data_rides_clean[cab_data_rides_clean.occupancy == 1]\n",
    "    .groupby(\"day_of_week\")\n",
    "    .agg({\"phase_of_day\": \"count\"})\n",
    ")\n",
    "occupancy_dayOfTheWeek.reset_index(inplace=True)\n",
    "occupancy_dayOfTheWeek.rename(columns={\"phase_of_day\": \"trip_count\"}, inplace=True)\n",
    "occupancy_dayOfTheWeek.sort_values(by=\"trip_count\", inplace=True)\n",
    "\n",
    "# Visualize through Bar plot\n",
    "plt.figure(figsize=(12, 8))\n",
    "plt.bar(\n",
    "    occupancy_dayOfTheWeek.day_of_week.values, occupancy_dayOfTheWeek.trip_count.values\n",
    ")\n",
    "plt.xlabel(\"Day of the week\", fontweight=\"bold\")\n",
    "plt.ylabel(\"Trip count per day\", fontweight=\"bold\")\n",
    "plt.title(\"Demand vs Day of the week\")\n",
    "plt.show()"
   ]
  },
  {
   "cell_type": "markdown",
   "metadata": {},
   "source": [
    "It looks like that the weekend has more demand than other days of the week."
   ]
  },
  {
   "cell_type": "markdown",
   "metadata": {},
   "source": [
    "### 3.3.5 DEMAND vs WEEKDAY-WEEKEND\n",
    "\n",
    "Let's see how the demand of taxis varies over weekdays and weekend. Here we are only considering the trips when there are occupied by passengers."
   ]
  },
  {
   "cell_type": "code",
   "execution_count": 336,
   "metadata": {},
   "outputs": [
    {
     "name": "stdout",
     "output_type": "stream",
     "text": [
      "[86545 56980]\n"
     ]
    },
    {
     "data": {
      "image/png": "[encoded data removed]",
      "text/plain": [
       "<Figure size 864x576 with 1 Axes>"
      ]
     },
     "metadata": {
      "needs_background": "light"
     },
     "output_type": "display_data"
    }
   ],
   "source": [
    "occupancy_isWeekend = (\n",
    "    cab_data_rides_clean[cab_data_rides_clean.occupancy == 1]\n",
    "    .groupby(\"isWeekend\")\n",
    "    .agg({\"phase_of_day\": \"count\"})\n",
    ")\n",
    "occupancy_isWeekend.reset_index(inplace=True)\n",
    "occupancy_isWeekend.rename(columns={\"phase_of_day\": \"trip_count\"}, inplace=True)\n",
    "occupancy_isWeekend.sort_values(by=\"trip_count\", inplace=True)\n",
    "\n",
    "occupancy_isWeekend.loc[occupancy_isWeekend.isWeekend == 1, \"trip_count\"] = math.floor(\n",
    "    occupancy_isWeekend[occupancy_isWeekend.isWeekend == 1].trip_count / 2\n",
    ")\n",
    "occupancy_isWeekend.loc[occupancy_isWeekend.isWeekend == 0, \"trip_count\"] = math.floor(\n",
    "    occupancy_isWeekend[occupancy_isWeekend.isWeekend == 0].trip_count / 5\n",
    ")\n",
    "print(occupancy_isWeekend.trip_count.values)\n",
    "\n",
    "# Visualize through Bar plot\n",
    "plt.figure(figsize=(12, 8))\n",
    "plt.bar(\n",
    "    [\"Weekend\", \"Weekday\"],\n",
    "    occupancy_isWeekend.trip_count.values,\n",
    "    color=(\"red\", \"green\"),\n",
    ")\n",
    "plt.xlabel(\"Weekend-Weekday\", fontweight=\"bold\")\n",
    "plt.ylabel(\"Trip count per day\", fontweight=\"bold\")\n",
    "plt.title(\"Demand vs Weekday-Weekend\")\n",
    "plt.show()"
   ]
  },
  {
   "cell_type": "markdown",
   "metadata": {},
   "source": [
    "It looks like that the demand from passengers are 1.5 times on weekends in comparison to weekdays."
   ]
  },
  {
   "cell_type": "markdown",
   "metadata": {},
   "source": [
    "### 3.3.6 DEMAND vs PHASE OF THE DAY\n",
    "\n",
    "Let's see how the demand of taxis varies over different phases of the day. Here we are only considering the trips when there are occupied by passengers."
   ]
  },
  {
   "cell_type": "code",
   "execution_count": 339,
   "metadata": {},
   "outputs": [
    {
     "name": "stdout",
     "output_type": "stream",
     "text": [
      "[ 65346  77366 125417 189866]\n"
     ]
    },
    {
     "data": {
      "image/png": "[encoded data removed]",
      "text/plain": [
       "<Figure size 864x576 with 1 Axes>"
      ]
     },
     "metadata": {
      "needs_background": "light"
     },
     "output_type": "display_data"
    }
   ],
   "source": [
    "occupancy_phaseOfTheDay = (\n",
    "    cab_data_rides_clean[cab_data_rides_clean.occupancy == 1]\n",
    "    .groupby(\"phase_of_day\")\n",
    "    .agg({\"day_of_week\": \"count\"})\n",
    ")\n",
    "occupancy_phaseOfTheDay.reset_index(inplace=True)\n",
    "occupancy_phaseOfTheDay.rename(columns={\"day_of_week\": \"trip_count\"}, inplace=True)\n",
    "occupancy_phaseOfTheDay.sort_values(by=\"trip_count\", inplace=True)\n",
    "print(occupancy_phaseOfTheDay.trip_count.values)\n",
    "\n",
    "# Visualize through Bar plot\n",
    "plt.figure(figsize=(12, 8))\n",
    "plt.bar(\n",
    "    occupancy_phaseOfTheDay.phase_of_day.values,\n",
    "    occupancy_phaseOfTheDay.trip_count.values,\n",
    "    color=(\"red\", \"green\", \"blue\", \"yellow\"),\n",
    ")\n",
    "plt.xlabel(\"Phase of the day\", fontweight=\"bold\")\n",
    "plt.ylabel(\"Trip count\", fontweight=\"bold\")\n",
    "plt.title(\"Demand vs Phase of the day\")\n",
    "plt.show()"
   ]
  },
  {
   "cell_type": "markdown",
   "metadata": {},
   "source": [
    "It looks like that the demand from passengers are the higher during NIGHT (from 21:00 till 5:00) and MORNING (from 5:00 till 12:00). The demand is least during AFTERNOON (from 12:00 till 17:00) and EVENING (from 17:00 till 21:00)"
   ]
  },
  {
   "cell_type": "code",
   "execution_count": 386,
   "metadata": {},
   "outputs": [
    {
     "data": {
      "text/plain": [
       "<matplotlib.axes._subplots.AxesSubplot at 0x2658bcabba8>"
      ]
     },
     "execution_count": 386,
     "metadata": {},
     "output_type": "execute_result"
    },
    {
     "data": {
      "image/png": "[encoded data removed]",
      "text/plain": [
       "<Figure size 864x576 with 1 Axes>"
      ]
     },
     "metadata": {
      "needs_background": "light"
     },
     "output_type": "display_data"
    }
   ],
   "source": [
    "occupancy_dayOfWeek_phaseOfTheDay = (\n",
    "    cab_data_rides_clean[cab_data_rides_clean.occupancy == 1]\n",
    "    .groupby([\"day_of_week\", \"phase_of_day\"])\n",
    "    .agg({\"isWeekend\": \"count\"})\n",
    ")\n",
    "occupancy_dayOfWeek_phaseOfTheDay.reset_index(inplace=True)\n",
    "occupancy_dayOfWeek_phaseOfTheDay.rename(\n",
    "    columns={\"isWeekend\": \"trip_count\"}, inplace=True\n",
    ")\n",
    "\n",
    "pivot_df = occupancy_dayOfWeek_phaseOfTheDay.pivot(\n",
    "    index=\"day_of_week\", columns=\"phase_of_day\", values=\"trip_count\"\n",
    ")\n",
    "pivot_df.loc[:, [\"Morning\", \"Afternoon\", \"Evening\", \"night\"]].plot.bar(\n",
    "    stacked=True, color=(\"red\", \"green\", \"blue\", \"yellow\"), figsize=(12, 8)\n",
    ")"
   ]
  },
  {
   "cell_type": "code",
   "execution_count": 541,
   "metadata": {},
   "outputs": [],
   "source": [
    "# Save file for backup\n",
    "cab_data_rides_clean.to_csv(\"cab_data_rides_clean.csv\", index=False)"
   ]
  },
  {
   "cell_type": "code",
   "execution_count": null,
   "metadata": {},
   "outputs": [],
   "source": [
    "#cab_data_rides_clean = pd.read_csv(\"cab_data_rides_clean.csv\", parse_dates=[\"startTime\", \"endTime\"])"
   ]
  },
  {
   "cell_type": "markdown",
   "metadata": {},
   "source": [
    "## 3.4 Data transformation"
   ]
  },
  {
   "cell_type": "markdown",
   "metadata": {},
   "source": [
    "### 3.4.1 Calculate ride behaviour of taxis"
   ]
  },
  {
   "cell_type": "markdown",
   "metadata": {},
   "source": [
    "In order to segment the taxi cab driver, we need to find properties/behaviour per taxi driver. The properties/behaviour can be further divided into two parts. One part being the behaviour of driver when with passengers and other being without passengers."
   ]
  },
  {
   "cell_type": "code",
   "execution_count": 562,
   "metadata": {},
   "outputs": [],
   "source": [
    "# Separation of passenger occupied rides and unoccupied rides\n",
    "cab_data_rides_clean_occupied = cab_data_rides_clean[\n",
    "    cab_data_rides_clean.occupancy == 1\n",
    "]\n",
    "cab_data_rides_clean_unoccupied = cab_data_rides_clean[\n",
    "    cab_data_rides_clean.occupancy == 0\n",
    "]"
   ]
  },
  {
   "cell_type": "markdown",
   "metadata": {},
   "source": [
    "Here we calculate taxi cab's driving properties/behaviour when it is with passengers."
   ]
  },
  {
   "cell_type": "code",
   "execution_count": 563,
   "metadata": {},
   "outputs": [
    {
     "data": {
      "text/html": [
       "<div>\n",
       "<style scoped>\n",
       "    .dataframe tbody tr th:only-of-type {\n",
       "        vertical-align: middle;\n",
       "    }\n",
       "\n",
       "    .dataframe tbody tr th {\n",
       "        vertical-align: top;\n",
       "    }\n",
       "\n",
       "    .dataframe thead th {\n",
       "        text-align: right;\n",
       "    }\n",
       "</style>\n",
       "<table border=\"1\" class=\"dataframe\">\n",
       "  <thead>\n",
       "    <tr style=\"text-align: right;\">\n",
       "      <th></th>\n",
       "      <th>cab_no</th>\n",
       "      <th>trip_count</th>\n",
       "      <th>mean_trip_distance_occupied</th>\n",
       "      <th>mean_trip_duration_occupied</th>\n",
       "      <th>mean_speed_occupied</th>\n",
       "    </tr>\n",
       "  </thead>\n",
       "  <tbody>\n",
       "    <tr>\n",
       "      <th>0</th>\n",
       "      <td>1</td>\n",
       "      <td>934</td>\n",
       "      <td>2.176210</td>\n",
       "      <td>9.982002</td>\n",
       "      <td>11.966103</td>\n",
       "    </tr>\n",
       "    <tr>\n",
       "      <th>1</th>\n",
       "      <td>2</td>\n",
       "      <td>24</td>\n",
       "      <td>1.774167</td>\n",
       "      <td>9.888333</td>\n",
       "      <td>10.549167</td>\n",
       "    </tr>\n",
       "  </tbody>\n",
       "</table>\n",
       "</div>"
      ],
      "text/plain": [
       "   cab_no  trip_count  mean_trip_distance_occupied  \\\n",
       "0       1         934                     2.176210   \n",
       "1       2          24                     1.774167   \n",
       "\n",
       "   mean_trip_duration_occupied  mean_speed_occupied  \n",
       "0                     9.982002            11.966103  \n",
       "1                     9.888333            10.549167  "
      ]
     },
     "execution_count": 563,
     "metadata": {},
     "output_type": "execute_result"
    }
   ],
   "source": [
    "# Properties/behaviour of taxis during the rides when occupied by passengers\n",
    "cab_occupied_general = cab_data_rides_clean_occupied.groupby(\"cab_no\").agg(\n",
    "    {\n",
    "        \"startLatitude\": \"count\",\n",
    "        \"trip_distance_miles\": \"mean\",\n",
    "        \"trip_duration_minutes\": \"mean\",\n",
    "        \"speed_miles_per_hour\": \"mean\",\n",
    "    }\n",
    ")\n",
    "cab_occupied_general.reset_index(inplace=True)\n",
    "cab_occupied_general.rename(\n",
    "    columns={\n",
    "        \"startLatitude\": \"trip_count\",\n",
    "        \"trip_distance_miles\": \"mean_trip_distance_occupied\",\n",
    "        \"trip_duration_minutes\": \"mean_trip_duration_occupied\",\n",
    "        \"speed_miles_per_hour\": \"mean_speed_occupied\",\n",
    "    },\n",
    "    inplace=True,\n",
    ")\n",
    "cab_occupied_general.head(2)"
   ]
  },
  {
   "cell_type": "markdown",
   "metadata": {},
   "source": [
    "Here we calculate taxi cab's driving properties/behaviour when it is looking for passengers i.e. unoccupied."
   ]
  },
  {
   "cell_type": "code",
   "execution_count": 564,
   "metadata": {},
   "outputs": [
    {
     "data": {
      "text/html": [
       "<div>\n",
       "<style scoped>\n",
       "    .dataframe tbody tr th:only-of-type {\n",
       "        vertical-align: middle;\n",
       "    }\n",
       "\n",
       "    .dataframe tbody tr th {\n",
       "        vertical-align: top;\n",
       "    }\n",
       "\n",
       "    .dataframe thead th {\n",
       "        text-align: right;\n",
       "    }\n",
       "</style>\n",
       "<table border=\"1\" class=\"dataframe\">\n",
       "  <thead>\n",
       "    <tr style=\"text-align: right;\">\n",
       "      <th></th>\n",
       "      <th>cab_no</th>\n",
       "      <th>sum_trip_distance_unoccupied</th>\n",
       "      <th>sum_trip_duration_unoccupied</th>\n",
       "      <th>sum_speed_unoccupied</th>\n",
       "    </tr>\n",
       "  </thead>\n",
       "  <tbody>\n",
       "    <tr>\n",
       "      <th>0</th>\n",
       "      <td>1</td>\n",
       "      <td>1085.69</td>\n",
       "      <td>12288.45</td>\n",
       "      <td>6096.36</td>\n",
       "    </tr>\n",
       "    <tr>\n",
       "      <th>1</th>\n",
       "      <td>2</td>\n",
       "      <td>25.52</td>\n",
       "      <td>621.23</td>\n",
       "      <td>248.30</td>\n",
       "    </tr>\n",
       "  </tbody>\n",
       "</table>\n",
       "</div>"
      ],
      "text/plain": [
       "   cab_no  sum_trip_distance_unoccupied  sum_trip_duration_unoccupied  \\\n",
       "0       1                       1085.69                      12288.45   \n",
       "1       2                         25.52                        621.23   \n",
       "\n",
       "   sum_speed_unoccupied  \n",
       "0               6096.36  \n",
       "1                248.30  "
      ]
     },
     "execution_count": 564,
     "metadata": {},
     "output_type": "execute_result"
    }
   ],
   "source": [
    "# Properties/behaviour of taxis during the rides when not occupied by passengers\n",
    "cab_unoccupied_general = cab_data_rides_clean_unoccupied.groupby(\"cab_no\").agg(\n",
    "    {\n",
    "        \"trip_distance_miles\": \"sum\",\n",
    "        \"trip_duration_minutes\": \"sum\",\n",
    "        \"speed_miles_per_hour\": \"sum\",\n",
    "    }\n",
    ")\n",
    "cab_unoccupied_general.reset_index(inplace=True)\n",
    "cab_unoccupied_general.rename(\n",
    "    columns={\n",
    "        \"trip_distance_miles\": \"sum_trip_distance_unoccupied\",\n",
    "        \"trip_duration_minutes\": \"sum_trip_duration_unoccupied\",\n",
    "        \"speed_miles_per_hour\": \"sum_speed_unoccupied\",\n",
    "    },\n",
    "    inplace=True,\n",
    ")\n",
    "cab_unoccupied_general.head(2)"
   ]
  },
  {
   "cell_type": "markdown",
   "metadata": {},
   "source": [
    "Here we join taxi cab's driving properties/behaviour when it is with passengers and without passengers."
   ]
  },
  {
   "cell_type": "code",
   "execution_count": 565,
   "metadata": {},
   "outputs": [
    {
     "data": {
      "text/html": [
       "<div>\n",
       "<style scoped>\n",
       "    .dataframe tbody tr th:only-of-type {\n",
       "        vertical-align: middle;\n",
       "    }\n",
       "\n",
       "    .dataframe tbody tr th {\n",
       "        vertical-align: top;\n",
       "    }\n",
       "\n",
       "    .dataframe thead th {\n",
       "        text-align: right;\n",
       "    }\n",
       "</style>\n",
       "<table border=\"1\" class=\"dataframe\">\n",
       "  <thead>\n",
       "    <tr style=\"text-align: right;\">\n",
       "      <th></th>\n",
       "      <th>cab_no</th>\n",
       "      <th>trip_count</th>\n",
       "      <th>mean_trip_distance_occupied</th>\n",
       "      <th>mean_trip_duration_occupied</th>\n",
       "      <th>mean_speed_occupied</th>\n",
       "      <th>mean_trip_distance_unoccupied</th>\n",
       "      <th>mean_trip_duration_unoccupied</th>\n",
       "      <th>mean_speed_unoccupied</th>\n",
       "    </tr>\n",
       "  </thead>\n",
       "  <tbody>\n",
       "    <tr>\n",
       "      <th>0</th>\n",
       "      <td>1</td>\n",
       "      <td>934</td>\n",
       "      <td>2.176210</td>\n",
       "      <td>9.982002</td>\n",
       "      <td>11.966103</td>\n",
       "      <td>1.162409</td>\n",
       "      <td>13.156799</td>\n",
       "      <td>6.527152</td>\n",
       "    </tr>\n",
       "    <tr>\n",
       "      <th>1</th>\n",
       "      <td>2</td>\n",
       "      <td>24</td>\n",
       "      <td>1.774167</td>\n",
       "      <td>9.888333</td>\n",
       "      <td>10.549167</td>\n",
       "      <td>1.063333</td>\n",
       "      <td>25.884583</td>\n",
       "      <td>10.345833</td>\n",
       "    </tr>\n",
       "  </tbody>\n",
       "</table>\n",
       "</div>"
      ],
      "text/plain": [
       "   cab_no  trip_count  mean_trip_distance_occupied  \\\n",
       "0       1         934                     2.176210   \n",
       "1       2          24                     1.774167   \n",
       "\n",
       "   mean_trip_duration_occupied  mean_speed_occupied  \\\n",
       "0                     9.982002            11.966103   \n",
       "1                     9.888333            10.549167   \n",
       "\n",
       "   mean_trip_distance_unoccupied  mean_trip_duration_unoccupied  \\\n",
       "0                       1.162409                      13.156799   \n",
       "1                       1.063333                      25.884583   \n",
       "\n",
       "   mean_speed_unoccupied  \n",
       "0               6.527152  \n",
       "1              10.345833  "
      ]
     },
     "execution_count": 565,
     "metadata": {},
     "output_type": "execute_result"
    }
   ],
   "source": [
    "# Join these two separate properies of taxis in one dataframe\n",
    "cab_all_properties = cab_occupied_general.merge(\n",
    "    cab_unoccupied_general, how=\"inner\", left_on=\"cab_no\", right_on=\"cab_no\"\n",
    ")\n",
    "\n",
    "cab_all_properties[\"mean_trip_distance_unoccupied\"] = (\n",
    "    cab_all_properties[\"sum_trip_distance_unoccupied\"]\n",
    "    / cab_all_properties[\"trip_count\"]\n",
    ")\n",
    "cab_all_properties[\"mean_trip_duration_unoccupied\"] = (\n",
    "    cab_all_properties[\"sum_trip_duration_unoccupied\"]\n",
    "    / cab_all_properties[\"trip_count\"]\n",
    ")\n",
    "cab_all_properties[\"mean_speed_unoccupied\"] = (\n",
    "    cab_all_properties[\"sum_speed_unoccupied\"] / cab_all_properties[\"trip_count\"]\n",
    ")\n",
    "cab_all_properties.drop(\n",
    "    [\n",
    "        \"sum_trip_distance_unoccupied\",\n",
    "        \"sum_trip_duration_unoccupied\",\n",
    "        \"sum_speed_unoccupied\",\n",
    "    ],\n",
    "    axis=1,\n",
    "    inplace=True,\n",
    ")\n",
    "\n",
    "cab_all_properties.head(2)"
   ]
  },
  {
   "cell_type": "markdown",
   "metadata": {},
   "source": [
    "Here we calculate taxi cabs are fulfilling the customer demands during the peak times (weekend and morning/night phases of the day)."
   ]
  },
  {
   "cell_type": "code",
   "execution_count": 566,
   "metadata": {},
   "outputs": [
    {
     "data": {
      "text/html": [
       "<div>\n",
       "<style scoped>\n",
       "    .dataframe tbody tr th:only-of-type {\n",
       "        vertical-align: middle;\n",
       "    }\n",
       "\n",
       "    .dataframe tbody tr th {\n",
       "        vertical-align: top;\n",
       "    }\n",
       "\n",
       "    .dataframe thead th {\n",
       "        text-align: right;\n",
       "    }\n",
       "</style>\n",
       "<table border=\"1\" class=\"dataframe\">\n",
       "  <thead>\n",
       "    <tr style=\"text-align: right;\">\n",
       "      <th></th>\n",
       "      <th>cab_no</th>\n",
       "      <th>trip_count_high_demand</th>\n",
       "    </tr>\n",
       "  </thead>\n",
       "  <tbody>\n",
       "    <tr>\n",
       "      <th>0</th>\n",
       "      <td>1</td>\n",
       "      <td>724</td>\n",
       "    </tr>\n",
       "    <tr>\n",
       "      <th>1</th>\n",
       "      <td>2</td>\n",
       "      <td>17</td>\n",
       "    </tr>\n",
       "  </tbody>\n",
       "</table>\n",
       "</div>"
      ],
      "text/plain": [
       "   cab_no  trip_count_high_demand\n",
       "0       1                     724\n",
       "1       2                      17"
      ]
     },
     "execution_count": 566,
     "metadata": {},
     "output_type": "execute_result"
    }
   ],
   "source": [
    "# Properties/behaviour of taxis during the rides during the weekend (high demand)\n",
    "cab_demand_fulfilment = (\n",
    "    cab_data_rides_clean_occupied[\n",
    "        (cab_data_rides_clean_occupied.isWeekend == 1)\n",
    "        | (\n",
    "            (cab_data_rides_clean_occupied.phase_of_day == \"night\")\n",
    "            | (cab_data_rides_clean_occupied.phase_of_day == \"Morning\")\n",
    "        )\n",
    "    ]\n",
    "    .groupby([\"cab_no\"])\n",
    "    .agg({\"startLatitude\": \"count\"})\n",
    ")\n",
    "cab_demand_fulfilment.reset_index(inplace=True)\n",
    "cab_demand_fulfilment.rename(\n",
    "    columns={\"startLatitude\": \"trip_count_high_demand\"}, inplace=True\n",
    ")\n",
    "cab_demand_fulfilment.head(2)"
   ]
  },
  {
   "cell_type": "markdown",
   "metadata": {},
   "source": [
    "Here we join the weekend demand fulfilment properties of the cab to previous properties gathered."
   ]
  },
  {
   "cell_type": "code",
   "execution_count": 567,
   "metadata": {},
   "outputs": [
    {
     "data": {
      "text/html": [
       "<div>\n",
       "<style scoped>\n",
       "    .dataframe tbody tr th:only-of-type {\n",
       "        vertical-align: middle;\n",
       "    }\n",
       "\n",
       "    .dataframe tbody tr th {\n",
       "        vertical-align: top;\n",
       "    }\n",
       "\n",
       "    .dataframe thead th {\n",
       "        text-align: right;\n",
       "    }\n",
       "</style>\n",
       "<table border=\"1\" class=\"dataframe\">\n",
       "  <thead>\n",
       "    <tr style=\"text-align: right;\">\n",
       "      <th></th>\n",
       "      <th>cab_no</th>\n",
       "      <th>trip_count</th>\n",
       "      <th>mean_trip_distance_occupied</th>\n",
       "      <th>mean_trip_duration_occupied</th>\n",
       "      <th>mean_speed_occupied</th>\n",
       "      <th>mean_trip_distance_unoccupied</th>\n",
       "      <th>mean_trip_duration_unoccupied</th>\n",
       "      <th>mean_speed_unoccupied</th>\n",
       "      <th>demand_fulfilment_index</th>\n",
       "    </tr>\n",
       "  </thead>\n",
       "  <tbody>\n",
       "    <tr>\n",
       "      <th>0</th>\n",
       "      <td>1</td>\n",
       "      <td>934</td>\n",
       "      <td>2.176210</td>\n",
       "      <td>9.982002</td>\n",
       "      <td>11.966103</td>\n",
       "      <td>1.162409</td>\n",
       "      <td>13.156799</td>\n",
       "      <td>6.527152</td>\n",
       "      <td>0.775161</td>\n",
       "    </tr>\n",
       "    <tr>\n",
       "      <th>1</th>\n",
       "      <td>2</td>\n",
       "      <td>24</td>\n",
       "      <td>1.774167</td>\n",
       "      <td>9.888333</td>\n",
       "      <td>10.549167</td>\n",
       "      <td>1.063333</td>\n",
       "      <td>25.884583</td>\n",
       "      <td>10.345833</td>\n",
       "      <td>0.708333</td>\n",
       "    </tr>\n",
       "    <tr>\n",
       "      <th>2</th>\n",
       "      <td>3</td>\n",
       "      <td>874</td>\n",
       "      <td>4.086247</td>\n",
       "      <td>12.374359</td>\n",
       "      <td>17.084211</td>\n",
       "      <td>3.052757</td>\n",
       "      <td>22.120229</td>\n",
       "      <td>8.956659</td>\n",
       "      <td>0.736842</td>\n",
       "    </tr>\n",
       "    <tr>\n",
       "      <th>3</th>\n",
       "      <td>4</td>\n",
       "      <td>1019</td>\n",
       "      <td>2.660039</td>\n",
       "      <td>11.284544</td>\n",
       "      <td>12.788587</td>\n",
       "      <td>1.431923</td>\n",
       "      <td>18.753288</td>\n",
       "      <td>6.595790</td>\n",
       "      <td>0.814524</td>\n",
       "    </tr>\n",
       "    <tr>\n",
       "      <th>4</th>\n",
       "      <td>5</td>\n",
       "      <td>391</td>\n",
       "      <td>2.465780</td>\n",
       "      <td>11.043939</td>\n",
       "      <td>12.399744</td>\n",
       "      <td>1.348798</td>\n",
       "      <td>14.042967</td>\n",
       "      <td>7.115294</td>\n",
       "      <td>0.787724</td>\n",
       "    </tr>\n",
       "  </tbody>\n",
       "</table>\n",
       "</div>"
      ],
      "text/plain": [
       "   cab_no  trip_count  mean_trip_distance_occupied  \\\n",
       "0       1         934                     2.176210   \n",
       "1       2          24                     1.774167   \n",
       "2       3         874                     4.086247   \n",
       "3       4        1019                     2.660039   \n",
       "4       5         391                     2.465780   \n",
       "\n",
       "   mean_trip_duration_occupied  mean_speed_occupied  \\\n",
       "0                     9.982002            11.966103   \n",
       "1                     9.888333            10.549167   \n",
       "2                    12.374359            17.084211   \n",
       "3                    11.284544            12.788587   \n",
       "4                    11.043939            12.399744   \n",
       "\n",
       "   mean_trip_distance_unoccupied  mean_trip_duration_unoccupied  \\\n",
       "0                       1.162409                      13.156799   \n",
       "1                       1.063333                      25.884583   \n",
       "2                       3.052757                      22.120229   \n",
       "3                       1.431923                      18.753288   \n",
       "4                       1.348798                      14.042967   \n",
       "\n",
       "   mean_speed_unoccupied  demand_fulfilment_index  \n",
       "0               6.527152                 0.775161  \n",
       "1              10.345833                 0.708333  \n",
       "2               8.956659                 0.736842  \n",
       "3               6.595790                 0.814524  \n",
       "4               7.115294                 0.787724  "
      ]
     },
     "execution_count": 567,
     "metadata": {},
     "output_type": "execute_result"
    }
   ],
   "source": [
    "# Join these weekend demand property to the mail properties dataframe\n",
    "cab_all_properties = cab_all_properties.merge(\n",
    "    cab_demand_fulfilment, how=\"inner\", left_on=\"cab_no\", right_on=\"cab_no\"\n",
    ")\n",
    "cab_all_properties[\"demand_fulfilment_index\"] = (\n",
    "    cab_all_properties[\"trip_count_high_demand\"] / cab_all_properties[\"trip_count\"]\n",
    ")\n",
    "cab_all_properties.drop([\"trip_count_high_demand\"], axis=1, inplace=True)\n",
    "cab_all_properties.head()"
   ]
  },
  {
   "cell_type": "code",
   "execution_count": 548,
   "metadata": {},
   "outputs": [],
   "source": [
    "# Save file for backup\n",
    "cab_all_properties.to_csv(\"cab_all_properties.csv\", index=False)"
   ]
  },
  {
   "cell_type": "code",
   "execution_count": 982,
   "metadata": {},
   "outputs": [
    {
     "data": {
      "text/plain": [
       "Index(['cab_no', 'trip_count', 'mean_trip_distance_occupied',\n",
       "       'mean_trip_duration_occupied', 'mean_speed_occupied',\n",
       "       'mean_trip_distance_unoccupied', 'mean_trip_duration_unoccupied',\n",
       "       'mean_speed_unoccupied', 'demand_fulfilment_index', 'cluster_label'],\n",
       "      dtype='object')"
      ]
     },
     "execution_count": 982,
     "metadata": {},
     "output_type": "execute_result"
    }
   ],
   "source": [
    "cab_all_properties.columns"
   ]
  },
  {
   "cell_type": "markdown",
   "metadata": {},
   "source": [
    "### 3.4.2 Handling the skewness of the data"
   ]
  },
  {
   "cell_type": "code",
   "execution_count": 572,
   "metadata": {},
   "outputs": [
    {
     "data": {
      "text/plain": [
       "cab_no                          -0.003277\n",
       "trip_count                      -0.589665\n",
       "mean_trip_distance_occupied      1.888654\n",
       "mean_trip_duration_occupied      1.810136\n",
       "mean_speed_occupied              1.687257\n",
       "mean_trip_distance_unoccupied    2.392466\n",
       "mean_trip_duration_unoccupied    1.671041\n",
       "mean_speed_unoccupied            1.520182\n",
       "demand_fulfilment_index         -0.188288\n",
       "dtype: float64"
      ]
     },
     "execution_count": 572,
     "metadata": {},
     "output_type": "execute_result"
    }
   ],
   "source": [
    "cab_all_properties.skew()"
   ]
  },
  {
   "cell_type": "markdown",
   "metadata": {},
   "source": [
    "Skewness = 0 --> symmetrical distribution \n",
    "\n",
    "Skewness < 0 --> Negative skewed or left skewed or tail towards left (log/Square/cube transformation)\n",
    "\n",
    "Skewness > 0 --> Positive skewed or Right skewed or tail towards Right (log/SquareRoot/CubeRoot transformation)\n",
    "\n",
    "Good skewness score is between -0.5 to 0.5\n",
    "\n",
    "So, we can leave trip_count and demand_fulfilment_index as their skewness is not so bad.\n",
    "\n",
    "Other columns have positive skewness (right skewed i.e. tail to the right) "
   ]
  },
  {
   "cell_type": "code",
   "execution_count": 569,
   "metadata": {},
   "outputs": [
    {
     "data": {
      "image/png": "[encoded data removed]",
      "text/plain": [
       "<Figure size 432x288 with 1 Axes>"
      ]
     },
     "metadata": {
      "needs_background": "light"
     },
     "output_type": "display_data"
    },
    {
     "data": {
      "image/png": "[encoded data removed]",
      "text/plain": [
       "<Figure size 432x288 with 1 Axes>"
      ]
     },
     "metadata": {
      "needs_background": "light"
     },
     "output_type": "display_data"
    },
    {
     "data": {
      "image/png": "[encoded data removed]",
      "text/plain": [
       "<Figure size 432x288 with 1 Axes>"
      ]
     },
     "metadata": {
      "needs_background": "light"
     },
     "output_type": "display_data"
    },
    {
     "data": {
      "image/png": "[encoded data removed]",
      "text/plain": [
       "<Figure size 432x288 with 1 Axes>"
      ]
     },
     "metadata": {
      "needs_background": "light"
     },
     "output_type": "display_data"
    },
    {
     "data": {
      "image/png": "[encoded data removed]",
      "text/plain": [
       "<Figure size 432x288 with 1 Axes>"
      ]
     },
     "metadata": {
      "needs_background": "light"
     },
     "output_type": "display_data"
    },
    {
     "data": {
      "image/png": "[encoded data removed]",
      "text/plain": [
       "<Figure size 432x288 with 1 Axes>"
      ]
     },
     "metadata": {
      "needs_background": "light"
     },
     "output_type": "display_data"
    },
    {
     "data": {
      "image/png": "[encoded data removed]",
      "text/plain": [
       "<Figure size 432x288 with 1 Axes>"
      ]
     },
     "metadata": {
      "needs_background": "light"
     },
     "output_type": "display_data"
    },
    {
     "data": {
      "image/png": "[encoded data removed]",
      "text/plain": [
       "<Figure size 432x288 with 1 Axes>"
      ]
     },
     "metadata": {
      "needs_background": "light"
     },
     "output_type": "display_data"
    }
   ],
   "source": [
    "for column in cab_all_properties:\n",
    "    if column != \"cab_no\":\n",
    "        sns.distplot(cab_all_properties[column])\n",
    "        plt.show()"
   ]
  },
  {
   "cell_type": "markdown",
   "metadata": {},
   "source": [
    "Here we see that most of the features are highly skewed because of presence of outliers. We can apply log or sqrt or cube root transformation to handle the skewness of the positive skewed features.\n",
    "\n",
    "trip_count, demand_fulfilment_index (no action)\n",
    "\n",
    "mean_trip_distance_occupied, mean_trip_duration_occupied, mean_speed_occupied, mean_speed_unoccupied (log)\n",
    "\n",
    "mean_trip_distance_unoccupied (cuberoot)\n",
    "\n",
    "mean_trip_duration_unoccupied (sqrt)"
   ]
  },
  {
   "cell_type": "code",
   "execution_count": 570,
   "metadata": {},
   "outputs": [],
   "source": [
    "cab_all_properties_transformed = cab_all_properties.copy()\n",
    "\n",
    "cab_all_properties_transformed[\n",
    "    [\n",
    "        \"mean_trip_distance_occupied\",\n",
    "        \"mean_trip_duration_occupied\",\n",
    "        \"mean_speed_occupied\",\n",
    "        \"mean_speed_unoccupied\",\n",
    "    ]\n",
    "] = np.log(\n",
    "    cab_all_properties_transformed[\n",
    "        [\n",
    "            \"mean_trip_distance_occupied\",\n",
    "            \"mean_trip_duration_occupied\",\n",
    "            \"mean_speed_occupied\",\n",
    "            \"mean_speed_unoccupied\",\n",
    "        ]\n",
    "    ]\n",
    ")\n",
    "cab_all_properties_transformed[[\"mean_trip_distance_unoccupied\"]] = (\n",
    "    cab_all_properties_transformed[[\"mean_trip_distance_unoccupied\"]]\n",
    ") ** (1 / 3)\n",
    "cab_all_properties_transformed[[\"mean_trip_duration_unoccupied\"]] = np.sqrt(\n",
    "    cab_all_properties_transformed[[\"mean_trip_duration_unoccupied\"]]\n",
    ")"
   ]
  },
  {
   "cell_type": "code",
   "execution_count": 571,
   "metadata": {},
   "outputs": [
    {
     "data": {
      "text/plain": [
       "cab_no                          -0.003277\n",
       "trip_count                      -0.589665\n",
       "mean_trip_distance_occupied      0.844878\n",
       "mean_trip_duration_occupied      0.102163\n",
       "mean_speed_occupied              0.938271\n",
       "mean_trip_distance_unoccupied    0.528113\n",
       "mean_trip_duration_unoccupied    0.373552\n",
       "mean_speed_unoccupied            0.192533\n",
       "demand_fulfilment_index         -0.188288\n",
       "dtype: float64"
      ]
     },
     "execution_count": 571,
     "metadata": {},
     "output_type": "execute_result"
    }
   ],
   "source": [
    "cab_all_properties_transformed.skew()"
   ]
  },
  {
   "cell_type": "code",
   "execution_count": 573,
   "metadata": {},
   "outputs": [
    {
     "data": {
      "text/html": [
       "<div>\n",
       "<style scoped>\n",
       "    .dataframe tbody tr th:only-of-type {\n",
       "        vertical-align: middle;\n",
       "    }\n",
       "\n",
       "    .dataframe tbody tr th {\n",
       "        vertical-align: top;\n",
       "    }\n",
       "\n",
       "    .dataframe thead th {\n",
       "        text-align: right;\n",
       "    }\n",
       "</style>\n",
       "<table border=\"1\" class=\"dataframe\">\n",
       "  <thead>\n",
       "    <tr style=\"text-align: right;\">\n",
       "      <th></th>\n",
       "      <th>cab_no</th>\n",
       "      <th>trip_count</th>\n",
       "      <th>mean_trip_distance_occupied</th>\n",
       "      <th>mean_trip_duration_occupied</th>\n",
       "      <th>mean_speed_occupied</th>\n",
       "      <th>mean_trip_distance_unoccupied</th>\n",
       "      <th>mean_trip_duration_unoccupied</th>\n",
       "      <th>mean_speed_unoccupied</th>\n",
       "      <th>demand_fulfilment_index</th>\n",
       "    </tr>\n",
       "  </thead>\n",
       "  <tbody>\n",
       "    <tr>\n",
       "      <th>0</th>\n",
       "      <td>1</td>\n",
       "      <td>934</td>\n",
       "      <td>0.777585</td>\n",
       "      <td>2.300784</td>\n",
       "      <td>2.482078</td>\n",
       "      <td>1.051444</td>\n",
       "      <td>3.627230</td>\n",
       "      <td>1.875971</td>\n",
       "      <td>0.775161</td>\n",
       "    </tr>\n",
       "    <tr>\n",
       "      <th>1</th>\n",
       "      <td>2</td>\n",
       "      <td>24</td>\n",
       "      <td>0.573331</td>\n",
       "      <td>2.291356</td>\n",
       "      <td>2.356047</td>\n",
       "      <td>1.020680</td>\n",
       "      <td>5.087689</td>\n",
       "      <td>2.336584</td>\n",
       "      <td>0.708333</td>\n",
       "    </tr>\n",
       "  </tbody>\n",
       "</table>\n",
       "</div>"
      ],
      "text/plain": [
       "   cab_no  trip_count  mean_trip_distance_occupied  \\\n",
       "0       1         934                     0.777585   \n",
       "1       2          24                     0.573331   \n",
       "\n",
       "   mean_trip_duration_occupied  mean_speed_occupied  \\\n",
       "0                     2.300784             2.482078   \n",
       "1                     2.291356             2.356047   \n",
       "\n",
       "   mean_trip_distance_unoccupied  mean_trip_duration_unoccupied  \\\n",
       "0                       1.051444                       3.627230   \n",
       "1                       1.020680                       5.087689   \n",
       "\n",
       "   mean_speed_unoccupied  demand_fulfilment_index  \n",
       "0               1.875971                 0.775161  \n",
       "1               2.336584                 0.708333  "
      ]
     },
     "execution_count": 573,
     "metadata": {},
     "output_type": "execute_result"
    }
   ],
   "source": [
    "cab_all_properties_transformed.head(2)"
   ]
  },
  {
   "cell_type": "markdown",
   "metadata": {},
   "source": [
    "### 3.4.3 Standardization (scaling) the data\n",
    "\n",
    "This is done to bring all the features to same scale. Mean = 0 and SD = 1."
   ]
  },
  {
   "cell_type": "code",
   "execution_count": 574,
   "metadata": {},
   "outputs": [
    {
     "data": {
      "text/html": [
       "<div>\n",
       "<style scoped>\n",
       "    .dataframe tbody tr th:only-of-type {\n",
       "        vertical-align: middle;\n",
       "    }\n",
       "\n",
       "    .dataframe tbody tr th {\n",
       "        vertical-align: top;\n",
       "    }\n",
       "\n",
       "    .dataframe thead th {\n",
       "        text-align: right;\n",
       "    }\n",
       "</style>\n",
       "<table border=\"1\" class=\"dataframe\">\n",
       "  <thead>\n",
       "    <tr style=\"text-align: right;\">\n",
       "      <th></th>\n",
       "      <th>cab_no</th>\n",
       "      <th>trip_count</th>\n",
       "      <th>mean_trip_distance_occupied</th>\n",
       "      <th>mean_trip_duration_occupied</th>\n",
       "      <th>mean_speed_occupied</th>\n",
       "      <th>mean_trip_distance_unoccupied</th>\n",
       "      <th>mean_trip_duration_unoccupied</th>\n",
       "      <th>mean_speed_unoccupied</th>\n",
       "      <th>demand_fulfilment_index</th>\n",
       "    </tr>\n",
       "  </thead>\n",
       "  <tbody>\n",
       "    <tr>\n",
       "      <th>0</th>\n",
       "      <td>1</td>\n",
       "      <td>0.274259</td>\n",
       "      <td>-0.704456</td>\n",
       "      <td>-0.794121</td>\n",
       "      <td>-0.425440</td>\n",
       "      <td>-0.658571</td>\n",
       "      <td>-0.693893</td>\n",
       "      <td>-0.290663</td>\n",
       "      <td>-0.191833</td>\n",
       "    </tr>\n",
       "    <tr>\n",
       "      <th>1</th>\n",
       "      <td>2</td>\n",
       "      <td>-2.863736</td>\n",
       "      <td>-1.609992</td>\n",
       "      <td>-0.868989</td>\n",
       "      <td>-1.460991</td>\n",
       "      <td>-0.907974</td>\n",
       "      <td>2.222768</td>\n",
       "      <td>3.510790</td>\n",
       "      <td>-1.268958</td>\n",
       "    </tr>\n",
       "  </tbody>\n",
       "</table>\n",
       "</div>"
      ],
      "text/plain": [
       "   cab_no  trip_count  mean_trip_distance_occupied  \\\n",
       "0       1    0.274259                    -0.704456   \n",
       "1       2   -2.863736                    -1.609992   \n",
       "\n",
       "   mean_trip_duration_occupied  mean_speed_occupied  \\\n",
       "0                    -0.794121            -0.425440   \n",
       "1                    -0.868989            -1.460991   \n",
       "\n",
       "   mean_trip_distance_unoccupied  mean_trip_duration_unoccupied  \\\n",
       "0                      -0.658571                      -0.693893   \n",
       "1                      -0.907974                       2.222768   \n",
       "\n",
       "   mean_speed_unoccupied  demand_fulfilment_index  \n",
       "0              -0.290663                -0.191833  \n",
       "1               3.510790                -1.268958  "
      ]
     },
     "execution_count": 574,
     "metadata": {},
     "output_type": "execute_result"
    }
   ],
   "source": [
    "# Define the scaler\n",
    "scaler = StandardScaler()\n",
    "\n",
    "# Standardize the data\n",
    "cab_all_properties_transformed.loc[\n",
    "    :, cab_all_properties_transformed.columns != \"cab_no\"\n",
    "] = scaler.fit_transform(\n",
    "    cab_all_properties_transformed.loc[\n",
    "        :, cab_all_properties_transformed.columns != \"cab_no\"\n",
    "    ]\n",
    ")\n",
    "\n",
    "cab_all_properties_transformed.head(2)"
   ]
  },
  {
   "cell_type": "markdown",
   "metadata": {},
   "source": [
    "## 3.5 Machine learning modeling"
   ]
  },
  {
   "cell_type": "markdown",
   "metadata": {},
   "source": [
    "### 3.5.1 K-Means\n",
    "\n",
    "For K-Means algorithm, we need to provide the number of cluster beforehand. As we have no idea of effective numbers of clusters, we can decide that based on 'Elbow criterion'."
   ]
  },
  {
   "cell_type": "code",
   "execution_count": 593,
   "metadata": {},
   "outputs": [
    {
     "data": {
      "image/png": "[encoded data removed]",
      "text/plain": [
       "<Figure size 432x288 with 1 Axes>"
      ]
     },
     "metadata": {
      "needs_background": "light"
     },
     "output_type": "display_data"
    }
   ],
   "source": [
    "# Sort the data based on cab no\n",
    "cab_all_properties_transformed.sort_values(by=[\"cab_no\"], inplace=True)\n",
    "\n",
    "# Input data considered for clustering\n",
    "cluser_input = cab_all_properties_transformed[\n",
    "    [\n",
    "        \"trip_count\",\n",
    "        \"mean_speed_occupied\",\n",
    "        \"mean_trip_distance_unoccupied\",\n",
    "        \"demand_fulfilment_index\",\n",
    "    ]\n",
    "]\n",
    "\n",
    "# Create a list to capture the 'within-cluster sum-of-square-errors (SSE)' i.e. sum of squared distances from every data point to their cluster centre.\n",
    "sse = []\n",
    "\n",
    "# Try KMeans clustering with different number of clusters\n",
    "for k in range(1, 6):\n",
    "    kmeans = KMeans(n_clusters=k, random_state=1)\n",
    "    kmeans.fit(cluser_input)\n",
    "    sse.append(kmeans.inertia_)  # sum of squared distances to closest cluster center\n",
    "\n",
    "# Elbow curve to find suitable number of clusters\n",
    "plt.plot(range(1, 6), sse)\n",
    "plt.title(\"The Elbow Method\")\n",
    "plt.xlabel(\"no of clusters\")\n",
    "plt.ylabel(\"sse\")\n",
    "plt.show()"
   ]
  },
  {
   "cell_type": "markdown",
   "metadata": {},
   "source": [
    "It seems that the ideal number of clusters is 3, as we don't see lot of improvement in sse with cluster number 4 and 5."
   ]
  },
  {
   "cell_type": "code",
   "execution_count": 602,
   "metadata": {},
   "outputs": [],
   "source": [
    "# Build final model\n",
    "final_kmeans = KMeans(n_clusters=3, random_state=1)\n",
    "\n",
    "# Cluster labels for each taxi\n",
    "cluser_labels = final_kmeans.fit_predict(cluser_input)\n",
    "\n",
    "# Cluster centres\n",
    "cluser_centroids = final_kmeans.cluster_centers_"
   ]
  },
  {
   "cell_type": "markdown",
   "metadata": {},
   "source": [
    "Let's add the cluster labels to the taxi data (non transformed data)."
   ]
  },
  {
   "cell_type": "code",
   "execution_count": 607,
   "metadata": {},
   "outputs": [],
   "source": [
    "# First sort the data as per taxi number\n",
    "cab_all_properties.sort_values(by=[\"cab_no\"], inplace=True)\n",
    "\n",
    "# Assign the cluster label\n",
    "cab_all_properties[\"cluster_label\"] = cluser_labels"
   ]
  },
  {
   "cell_type": "code",
   "execution_count": 609,
   "metadata": {},
   "outputs": [
    {
     "data": {
      "text/html": [
       "<div>\n",
       "<style scoped>\n",
       "    .dataframe tbody tr th:only-of-type {\n",
       "        vertical-align: middle;\n",
       "    }\n",
       "\n",
       "    .dataframe tbody tr th {\n",
       "        vertical-align: top;\n",
       "    }\n",
       "\n",
       "    .dataframe thead th {\n",
       "        text-align: right;\n",
       "    }\n",
       "</style>\n",
       "<table border=\"1\" class=\"dataframe\">\n",
       "  <thead>\n",
       "    <tr style=\"text-align: right;\">\n",
       "      <th></th>\n",
       "      <th>cab_no</th>\n",
       "      <th>trip_count</th>\n",
       "      <th>mean_trip_distance_occupied</th>\n",
       "      <th>mean_trip_duration_occupied</th>\n",
       "      <th>mean_speed_occupied</th>\n",
       "      <th>mean_trip_distance_unoccupied</th>\n",
       "      <th>mean_trip_duration_unoccupied</th>\n",
       "      <th>mean_speed_unoccupied</th>\n",
       "      <th>demand_fulfilment_index</th>\n",
       "      <th>cluster_label</th>\n",
       "    </tr>\n",
       "  </thead>\n",
       "  <tbody>\n",
       "    <tr>\n",
       "      <th>0</th>\n",
       "      <td>1</td>\n",
       "      <td>934</td>\n",
       "      <td>2.176210</td>\n",
       "      <td>9.982002</td>\n",
       "      <td>11.966103</td>\n",
       "      <td>1.162409</td>\n",
       "      <td>13.156799</td>\n",
       "      <td>6.527152</td>\n",
       "      <td>0.775161</td>\n",
       "      <td>1</td>\n",
       "    </tr>\n",
       "    <tr>\n",
       "      <th>1</th>\n",
       "      <td>2</td>\n",
       "      <td>24</td>\n",
       "      <td>1.774167</td>\n",
       "      <td>9.888333</td>\n",
       "      <td>10.549167</td>\n",
       "      <td>1.063333</td>\n",
       "      <td>25.884583</td>\n",
       "      <td>10.345833</td>\n",
       "      <td>0.708333</td>\n",
       "      <td>0</td>\n",
       "    </tr>\n",
       "  </tbody>\n",
       "</table>\n",
       "</div>"
      ],
      "text/plain": [
       "   cab_no  trip_count  mean_trip_distance_occupied  \\\n",
       "0       1         934                     2.176210   \n",
       "1       2          24                     1.774167   \n",
       "\n",
       "   mean_trip_duration_occupied  mean_speed_occupied  \\\n",
       "0                     9.982002            11.966103   \n",
       "1                     9.888333            10.549167   \n",
       "\n",
       "   mean_trip_distance_unoccupied  mean_trip_duration_unoccupied  \\\n",
       "0                       1.162409                      13.156799   \n",
       "1                       1.063333                      25.884583   \n",
       "\n",
       "   mean_speed_unoccupied  demand_fulfilment_index  cluster_label  \n",
       "0               6.527152                 0.775161              1  \n",
       "1              10.345833                 0.708333              0  "
      ]
     },
     "execution_count": 609,
     "metadata": {},
     "output_type": "execute_result"
    }
   ],
   "source": [
    "cab_all_properties.head(2)"
   ]
  },
  {
   "cell_type": "markdown",
   "metadata": {},
   "source": [
    "### 3.5.2 Cluster profile\n",
    "\n",
    "After we cluster we have to term each cluster based on its characteristics."
   ]
  },
  {
   "cell_type": "code",
   "execution_count": 612,
   "metadata": {},
   "outputs": [
    {
     "data": {
      "text/html": [
       "<div>\n",
       "<style scoped>\n",
       "    .dataframe tbody tr th:only-of-type {\n",
       "        vertical-align: middle;\n",
       "    }\n",
       "\n",
       "    .dataframe tbody tr th {\n",
       "        vertical-align: top;\n",
       "    }\n",
       "\n",
       "    .dataframe thead th {\n",
       "        text-align: right;\n",
       "    }\n",
       "</style>\n",
       "<table border=\"1\" class=\"dataframe\">\n",
       "  <thead>\n",
       "    <tr style=\"text-align: right;\">\n",
       "      <th></th>\n",
       "      <th>cluster_label</th>\n",
       "      <th>cab_count</th>\n",
       "      <th>trip_count</th>\n",
       "      <th>mean_trip_distance_occupied</th>\n",
       "      <th>mean_trip_duration_occupied</th>\n",
       "      <th>mean_speed_occupied</th>\n",
       "      <th>mean_trip_distance_unoccupied</th>\n",
       "      <th>mean_trip_duration_unoccupied</th>\n",
       "      <th>mean_speed_unoccupied</th>\n",
       "      <th>demand_fulfilment_index</th>\n",
       "    </tr>\n",
       "  </thead>\n",
       "  <tbody>\n",
       "    <tr>\n",
       "      <th>0</th>\n",
       "      <td>0</td>\n",
       "      <td>54</td>\n",
       "      <td>299.018519</td>\n",
       "      <td>2.314802</td>\n",
       "      <td>11.253137</td>\n",
       "      <td>11.669555</td>\n",
       "      <td>1.224648</td>\n",
       "      <td>14.884290</td>\n",
       "      <td>6.630751</td>\n",
       "      <td>0.861023</td>\n",
       "    </tr>\n",
       "    <tr>\n",
       "      <th>1</th>\n",
       "      <td>1</td>\n",
       "      <td>395</td>\n",
       "      <td>982.017722</td>\n",
       "      <td>2.407011</td>\n",
       "      <td>10.702624</td>\n",
       "      <td>12.234896</td>\n",
       "      <td>1.341269</td>\n",
       "      <td>14.922200</td>\n",
       "      <td>6.735543</td>\n",
       "      <td>0.785569</td>\n",
       "    </tr>\n",
       "    <tr>\n",
       "      <th>2</th>\n",
       "      <td>2</td>\n",
       "      <td>87</td>\n",
       "      <td>620.114943</td>\n",
       "      <td>3.785242</td>\n",
       "      <td>12.938013</td>\n",
       "      <td>15.448821</td>\n",
       "      <td>2.427783</td>\n",
       "      <td>21.886852</td>\n",
       "      <td>7.269769</td>\n",
       "      <td>0.747934</td>\n",
       "    </tr>\n",
       "  </tbody>\n",
       "</table>\n",
       "</div>"
      ],
      "text/plain": [
       "   cluster_label  cab_count  trip_count  mean_trip_distance_occupied  \\\n",
       "0              0         54  299.018519                     2.314802   \n",
       "1              1        395  982.017722                     2.407011   \n",
       "2              2         87  620.114943                     3.785242   \n",
       "\n",
       "   mean_trip_duration_occupied  mean_speed_occupied  \\\n",
       "0                    11.253137            11.669555   \n",
       "1                    10.702624            12.234896   \n",
       "2                    12.938013            15.448821   \n",
       "\n",
       "   mean_trip_distance_unoccupied  mean_trip_duration_unoccupied  \\\n",
       "0                       1.224648                      14.884290   \n",
       "1                       1.341269                      14.922200   \n",
       "2                       2.427783                      21.886852   \n",
       "\n",
       "   mean_speed_unoccupied  demand_fulfilment_index  \n",
       "0               6.630751                 0.861023  \n",
       "1               6.735543                 0.785569  \n",
       "2               7.269769                 0.747934  "
      ]
     },
     "execution_count": 612,
     "metadata": {},
     "output_type": "execute_result"
    }
   ],
   "source": [
    "cluster_profile_data = cab_all_properties.groupby(\"cluster_label\").agg(\n",
    "    {\n",
    "        \"cab_no\": \"count\",\n",
    "        \"trip_count\": \"mean\",\n",
    "        \"mean_trip_distance_occupied\": \"mean\",\n",
    "        \"mean_trip_duration_occupied\": \"mean\",\n",
    "        \"mean_speed_occupied\": \"mean\",\n",
    "        \"mean_trip_distance_unoccupied\": \"mean\",\n",
    "        \"mean_trip_duration_unoccupied\": \"mean\",\n",
    "        \"mean_speed_unoccupied\": \"mean\",\n",
    "        \"demand_fulfilment_index\": \"mean\",\n",
    "    }\n",
    ")\n",
    "cluster_profile_data.reset_index(inplace=True)\n",
    "cluster_profile_data.rename(columns={\"cab_no\": \"cab_count\"}, inplace=True)\n",
    "cluster_profile_data.head()"
   ]
  },
  {
   "cell_type": "markdown",
   "metadata": {},
   "source": [
    "**Based on the above data, we can conclude below characteristics about the clusters**\n",
    "\n",
    "**1st cluster**\n",
    "    1. Less number of cabs in this group\n",
    "    2. Make less number of trips\n",
    "    3. Make small distance trips\n",
    "    4. Ride with less speed\n",
    "    5. Spend less distance and time looking for passengers\n",
    "    6. High demand fulfilment score\n",
    "    \n",
    "**2nd cluster**\n",
    "    1. Most number of cabs in this group\n",
    "    2. Make high number of trips\n",
    "    3. Normal coverage range and normal ride speed\n",
    "    4. Spend not too less, not too much distance and time looking for passengers\n",
    "    5. Average demand fulfilment score.    \n",
    "    \n",
    "**3rd cluster**\n",
    "    1. Less number of cabs in this group\n",
    "    2. Make not too number of trips\n",
    "    3. High coverage range and high ride speed. \n",
    "    4. Spend maximum distance and time looking for passengers\n",
    "    5. Low demand fulfilment score.       \n",
    "    \n",
    "    \n",
    "Based on these characteristics, we can name the clusters.\n",
    "\n",
    "**1st cluster** : Luxurious, safer and customer friendly cabs\n",
    "\n",
    "**2nd cluster** : Normal cabs with nothing extraordinary\n",
    "\n",
    "**3rd cluster** : Rash, inefficient and not customer friendly cabs"
   ]
  },
  {
   "cell_type": "markdown",
   "metadata": {},
   "source": [
    "# 4. Predictor for cab drivers, predicting the next place of a passenger\n",
    "\n",
    "**Business/Real World Problem**<br><br>\n",
    "For a given location in SF, our goal is to predict the number of pickups in that given location. Some location require more taxis at a particular time than other locations owing to the presence schools, hospitals, offices etc. The prediction result can be transferred to the taxi drivers via Smartphone app, and they can subsequently move to the locations where predicted pickups are high.\n",
    "\n",
    "<b>Objectives:</b> \n",
    "Our objective is to predict the number of pickups as accurately as possible for each region in a 10 min interval. We will break up the whole SF city into regions. Now, the 10 min interval is chosen because in SF, one can commute around 2 miles in approximately 10 minutes given the traffic is normal at that particular time.\n",
    "\n",
    "<b>Constraints:</b>\n",
    "* <b>Latency:</b> Given a location and current time of a taxi driver, as a taxi driver, he/she excepts to get the predicted pickups in his/her region and the adjoining regions in few seconds. Hence, there is a medium latency requirement.<br><br>\n",
    "\n",
    "* <b>Interpretability:</b> As long as taxi driver gets good prediction result, he/she is not be much interested in the interpretability of the result. He/she is not much interested in why he/she is getting this result. Hence, there is a no interpretability required.<br><br>\n",
    "\n",
    "* <b>Relative Errors:</b> Mean Absolute Percentage Error will be the relative error we will consider. Let say the predicted pickups for a particular location are 100, but actual pickups are 102, the percentage error will be 2% and Absolute error is 2. The taxi driver will be more interested in the percentage error than the absolute error. Let say in some region the predicted pickups are 250, and if taxi driver knows that the relative error is 10% then he/she will consider the predicted result to be in the range of 225 to 275, which is considerable.\n",
    "\n",
    "<b>Our goal is to reduce the percentage error is low as possible.</b> "
   ]
  },
  {
   "cell_type": "markdown",
   "metadata": {},
   "source": [
    "## 4.1 Feature engineering\n",
    "\n",
    "Here we will ceate new features from extisting features."
   ]
  },
  {
   "cell_type": "markdown",
   "metadata": {},
   "source": [
    "### 4.1.1 Create regions (using clustering technique) from pickup longitude and latitude\n",
    "\n",
    "Here we divide SF city into different areas where taxis can operate. We will find these areas by clustering nearest pickup locations of taxis."
   ]
  },
  {
   "cell_type": "markdown",
   "metadata": {},
   "source": [
    "For this use case, we will use the 'cab_data_rides_clean' that we prepared in the previous stages. From this dataset, we only need the rides where the taxis were occupied by passengers."
   ]
  },
  {
   "cell_type": "code",
   "execution_count": 743,
   "metadata": {},
   "outputs": [
    {
     "data": {
      "text/html": [
       "<div>\n",
       "<style scoped>\n",
       "    .dataframe tbody tr th:only-of-type {\n",
       "        vertical-align: middle;\n",
       "    }\n",
       "\n",
       "    .dataframe tbody tr th {\n",
       "        vertical-align: top;\n",
       "    }\n",
       "\n",
       "    .dataframe thead th {\n",
       "        text-align: right;\n",
       "    }\n",
       "</style>\n",
       "<table border=\"1\" class=\"dataframe\">\n",
       "  <thead>\n",
       "    <tr style=\"text-align: right;\">\n",
       "      <th></th>\n",
       "      <th>cab_no</th>\n",
       "      <th>startLatitude</th>\n",
       "      <th>endLatitude</th>\n",
       "      <th>startLongitude</th>\n",
       "      <th>endLongitude</th>\n",
       "      <th>startTime</th>\n",
       "      <th>endTime</th>\n",
       "      <th>occupancy</th>\n",
       "      <th>trip_distance_miles</th>\n",
       "      <th>trip_duration_minutes</th>\n",
       "      <th>speed_miles_per_hour</th>\n",
       "      <th>day_of_week</th>\n",
       "      <th>isWeekend</th>\n",
       "      <th>phase_of_day</th>\n",
       "    </tr>\n",
       "  </thead>\n",
       "  <tbody>\n",
       "    <tr>\n",
       "      <th>1</th>\n",
       "      <td>1</td>\n",
       "      <td>37.74977</td>\n",
       "      <td>37.75580</td>\n",
       "      <td>-122.39724</td>\n",
       "      <td>-122.41441</td>\n",
       "      <td>2008-05-17 14:51:10</td>\n",
       "      <td>2008-05-17 14:56:00</td>\n",
       "      <td>1</td>\n",
       "      <td>1.03</td>\n",
       "      <td>4.83</td>\n",
       "      <td>12.80</td>\n",
       "      <td>Saturday</td>\n",
       "      <td>1</td>\n",
       "      <td>Afternoon</td>\n",
       "    </tr>\n",
       "    <tr>\n",
       "      <th>3</th>\n",
       "      <td>1</td>\n",
       "      <td>37.75053</td>\n",
       "      <td>37.75177</td>\n",
       "      <td>-122.42086</td>\n",
       "      <td>-122.43095</td>\n",
       "      <td>2008-05-17 15:18:06</td>\n",
       "      <td>2008-05-17 15:21:50</td>\n",
       "      <td>1</td>\n",
       "      <td>0.56</td>\n",
       "      <td>3.73</td>\n",
       "      <td>9.01</td>\n",
       "      <td>Saturday</td>\n",
       "      <td>1</td>\n",
       "      <td>Afternoon</td>\n",
       "    </tr>\n",
       "  </tbody>\n",
       "</table>\n",
       "</div>"
      ],
      "text/plain": [
       "   cab_no  startLatitude  endLatitude  startLongitude  endLongitude  \\\n",
       "1       1       37.74977     37.75580      -122.39724    -122.41441   \n",
       "3       1       37.75053     37.75177      -122.42086    -122.43095   \n",
       "\n",
       "            startTime             endTime  occupancy  trip_distance_miles  \\\n",
       "1 2008-05-17 14:51:10 2008-05-17 14:56:00          1                 1.03   \n",
       "3 2008-05-17 15:18:06 2008-05-17 15:21:50          1                 0.56   \n",
       "\n",
       "   trip_duration_minutes  speed_miles_per_hour day_of_week  isWeekend  \\\n",
       "1                   4.83                 12.80    Saturday          1   \n",
       "3                   3.73                  9.01    Saturday          1   \n",
       "\n",
       "  phase_of_day  \n",
       "1    Afternoon  \n",
       "3    Afternoon  "
      ]
     },
     "execution_count": 743,
     "metadata": {},
     "output_type": "execute_result"
    }
   ],
   "source": [
    "cab_data_rides_clean_occupied = cab_data_rides_clean[\n",
    "    cab_data_rides_clean.occupancy == 1\n",
    "]\n",
    "cab_data_rides_clean_occupied.head(2)"
   ]
  },
  {
   "cell_type": "code",
   "execution_count": 744,
   "metadata": {},
   "outputs": [],
   "source": [
    "coord = cab_data_rides_clean_occupied[[\"startLatitude\", \"startLongitude\"]].values\n",
    "neighbors = []\n",
    "\n",
    "\n",
    "def min_distance(regionCenters, totalClusters):\n",
    "    good_points = 0\n",
    "    bad_points = 0\n",
    "    less_dist = []\n",
    "    more_dist = []\n",
    "    min_distance = 100000  # any big number can be given here\n",
    "    for i in range(totalClusters):\n",
    "        good_points = 0\n",
    "        bad_points = 0\n",
    "        for j in range(totalClusters):\n",
    "            if j != i:\n",
    "                distance = round(\n",
    "                    haversine(\n",
    "                        (regionCenters[i][0], regionCenters[i][1]),\n",
    "                        (regionCenters[j][0], regionCenters[j][1]),\n",
    "                        unit=Unit.MILES,\n",
    "                    ),\n",
    "                    2,\n",
    "                )\n",
    "                min_distance = min(\n",
    "                    min_distance, distance\n",
    "                )  # it will return minimum of \"min_distance, distance\".\n",
    "                if distance < 2:\n",
    "                    good_points += 1\n",
    "                else:\n",
    "                    bad_points += 1\n",
    "        less_dist.append(good_points)\n",
    "        more_dist.append(bad_points)\n",
    "    print(\"On choosing a cluster size of {}\".format(totalClusters))\n",
    "    print(\n",
    "        \"Avg. Number clusters within vicinity where inter cluster distance < 2 miles is {}\".format(\n",
    "            np.ceil(sum(less_dist) / len(less_dist))\n",
    "        )\n",
    "    )\n",
    "    print(\n",
    "        \"Avg. Number clusters outside of vicinity where inter cluster distance > 2 miles is {}\".format(\n",
    "            np.ceil(sum(more_dist) / len(more_dist))\n",
    "        )\n",
    "    )\n",
    "    print(\"Minimum distance between any two clusters = {}\".format(min_distance))\n",
    "    print(\"-\" * 10)\n",
    "\n",
    "\n",
    "def makingRegions(noOfRegions):\n",
    "    regions = MiniBatchKMeans(n_clusters=noOfRegions, batch_size=10000).fit(coord)\n",
    "    regionCenters = regions.cluster_centers_\n",
    "    totalClusters = len(regionCenters)\n",
    "    return regionCenters, totalClusters"
   ]
  },
  {
   "cell_type": "code",
   "execution_count": 745,
   "metadata": {},
   "outputs": [
    {
     "name": "stdout",
     "output_type": "stream",
     "text": [
      "On choosing a cluster size of 10\n",
      "Avg. Number clusters within vicinity where inter cluster distance < 2 miles is 2.0\n",
      "Avg. Number clusters outside of vicinity where inter cluster distance > 2 miles is 7.0\n",
      "Minimum distance between any two clusters = 0.87\n",
      "----------\n",
      "On choosing a cluster size of 20\n",
      "Avg. Number clusters within vicinity where inter cluster distance < 2 miles is 4.0\n",
      "Avg. Number clusters outside of vicinity where inter cluster distance > 2 miles is 16.0\n",
      "Minimum distance between any two clusters = 0.68\n",
      "----------\n",
      "On choosing a cluster size of 30\n",
      "Avg. Number clusters within vicinity where inter cluster distance < 2 miles is 9.0\n",
      "Avg. Number clusters outside of vicinity where inter cluster distance > 2 miles is 21.0\n",
      "Minimum distance between any two clusters = 0.22\n",
      "----------\n",
      "On choosing a cluster size of 40\n",
      "Avg. Number clusters within vicinity where inter cluster distance < 2 miles is 10.0\n",
      "Avg. Number clusters outside of vicinity where inter cluster distance > 2 miles is 30.0\n",
      "Minimum distance between any two clusters = 0.35\n",
      "----------\n",
      "On choosing a cluster size of 50\n",
      "Avg. Number clusters within vicinity where inter cluster distance < 2 miles is 11.0\n",
      "Avg. Number clusters outside of vicinity where inter cluster distance > 2 miles is 39.0\n",
      "Minimum distance between any two clusters = 0.25\n",
      "----------\n",
      "On choosing a cluster size of 60\n",
      "Avg. Number clusters within vicinity where inter cluster distance < 2 miles is 14.0\n",
      "Avg. Number clusters outside of vicinity where inter cluster distance > 2 miles is 46.0\n",
      "Minimum distance between any two clusters = 0.28\n",
      "----------\n",
      "On choosing a cluster size of 70\n",
      "Avg. Number clusters within vicinity where inter cluster distance < 2 miles is 21.0\n",
      "Avg. Number clusters outside of vicinity where inter cluster distance > 2 miles is 49.0\n",
      "Minimum distance between any two clusters = 0.18\n",
      "----------\n",
      "On choosing a cluster size of 80\n",
      "Avg. Number clusters within vicinity where inter cluster distance < 2 miles is 18.0\n",
      "Avg. Number clusters outside of vicinity where inter cluster distance > 2 miles is 62.0\n",
      "Minimum distance between any two clusters = 0.23\n",
      "----------\n",
      "On choosing a cluster size of 90\n",
      "Avg. Number clusters within vicinity where inter cluster distance < 2 miles is 31.0\n",
      "Avg. Number clusters outside of vicinity where inter cluster distance > 2 miles is 59.0\n",
      "Minimum distance between any two clusters = 0.05\n",
      "----------\n",
      "Time taken = 0:00:21.900433\n"
     ]
    }
   ],
   "source": [
    "startTime = datetime.now()\n",
    "for i in range(10, 100, 10):\n",
    "    regionCenters, totalClusters = makingRegions(i)\n",
    "    min_distance(regionCenters, totalClusters)\n",
    "print(\"Time taken = \" + str(datetime.now() - startTime))"
   ]
  },
  {
   "cell_type": "markdown",
   "metadata": {},
   "source": [
    "**Assumption:** We want the minimum distance between any two clusters to be less than 0.5miles and when number of clusters are 30 then this condition is almost meeting. Therefore, we are considering number of clusters to be 30."
   ]
  },
  {
   "cell_type": "code",
   "execution_count": 825,
   "metadata": {},
   "outputs": [],
   "source": [
    "cab_data_rides_clean_occupied_pred = cab_data_rides_clean_occupied.copy()\n",
    "no_of_clusters = 30\n",
    "\n",
    "coord = cab_data_rides_clean_occupied_pred[[\"startLatitude\", \"startLongitude\"]].values\n",
    "regions = MiniBatchKMeans(n_clusters=no_of_clusters, batch_size=10000).fit(coord)\n",
    "cab_data_rides_clean_occupied_pred[\"pickup_cluster\"] = regions.predict(\n",
    "    cab_data_rides_clean_occupied_pred[[\"startLatitude\", \"startLongitude\"]]\n",
    ")"
   ]
  },
  {
   "cell_type": "code",
   "execution_count": 826,
   "metadata": {},
   "outputs": [
    {
     "data": {
      "text/html": [
       "<div>\n",
       "<style scoped>\n",
       "    .dataframe tbody tr th:only-of-type {\n",
       "        vertical-align: middle;\n",
       "    }\n",
       "\n",
       "    .dataframe tbody tr th {\n",
       "        vertical-align: top;\n",
       "    }\n",
       "\n",
       "    .dataframe thead th {\n",
       "        text-align: right;\n",
       "    }\n",
       "</style>\n",
       "<table border=\"1\" class=\"dataframe\">\n",
       "  <thead>\n",
       "    <tr style=\"text-align: right;\">\n",
       "      <th></th>\n",
       "      <th>cab_no</th>\n",
       "      <th>startLatitude</th>\n",
       "      <th>endLatitude</th>\n",
       "      <th>startLongitude</th>\n",
       "      <th>endLongitude</th>\n",
       "      <th>startTime</th>\n",
       "      <th>endTime</th>\n",
       "      <th>occupancy</th>\n",
       "      <th>trip_distance_miles</th>\n",
       "      <th>trip_duration_minutes</th>\n",
       "      <th>speed_miles_per_hour</th>\n",
       "      <th>day_of_week</th>\n",
       "      <th>isWeekend</th>\n",
       "      <th>phase_of_day</th>\n",
       "      <th>pickup_cluster</th>\n",
       "    </tr>\n",
       "  </thead>\n",
       "  <tbody>\n",
       "    <tr>\n",
       "      <th>1</th>\n",
       "      <td>1</td>\n",
       "      <td>37.74977</td>\n",
       "      <td>37.75580</td>\n",
       "      <td>-122.39724</td>\n",
       "      <td>-122.41441</td>\n",
       "      <td>2008-05-17 14:51:10</td>\n",
       "      <td>2008-05-17 14:56:00</td>\n",
       "      <td>1</td>\n",
       "      <td>1.03</td>\n",
       "      <td>4.83</td>\n",
       "      <td>12.80</td>\n",
       "      <td>Saturday</td>\n",
       "      <td>1</td>\n",
       "      <td>Afternoon</td>\n",
       "      <td>14</td>\n",
       "    </tr>\n",
       "    <tr>\n",
       "      <th>3</th>\n",
       "      <td>1</td>\n",
       "      <td>37.75053</td>\n",
       "      <td>37.75177</td>\n",
       "      <td>-122.42086</td>\n",
       "      <td>-122.43095</td>\n",
       "      <td>2008-05-17 15:18:06</td>\n",
       "      <td>2008-05-17 15:21:50</td>\n",
       "      <td>1</td>\n",
       "      <td>0.56</td>\n",
       "      <td>3.73</td>\n",
       "      <td>9.01</td>\n",
       "      <td>Saturday</td>\n",
       "      <td>1</td>\n",
       "      <td>Afternoon</td>\n",
       "      <td>19</td>\n",
       "    </tr>\n",
       "  </tbody>\n",
       "</table>\n",
       "</div>"
      ],
      "text/plain": [
       "   cab_no  startLatitude  endLatitude  startLongitude  endLongitude  \\\n",
       "1       1       37.74977     37.75580      -122.39724    -122.41441   \n",
       "3       1       37.75053     37.75177      -122.42086    -122.43095   \n",
       "\n",
       "            startTime             endTime  occupancy  trip_distance_miles  \\\n",
       "1 2008-05-17 14:51:10 2008-05-17 14:56:00          1                 1.03   \n",
       "3 2008-05-17 15:18:06 2008-05-17 15:21:50          1                 0.56   \n",
       "\n",
       "   trip_duration_minutes  speed_miles_per_hour day_of_week  isWeekend  \\\n",
       "1                   4.83                 12.80    Saturday          1   \n",
       "3                   3.73                  9.01    Saturday          1   \n",
       "\n",
       "  phase_of_day  pickup_cluster  \n",
       "1    Afternoon              14  \n",
       "3    Afternoon              19  "
      ]
     },
     "execution_count": 826,
     "metadata": {},
     "output_type": "execute_result"
    }
   ],
   "source": [
    "cab_data_rides_clean_occupied_pred.head(2)"
   ]
  },
  {
   "cell_type": "code",
   "execution_count": 827,
   "metadata": {},
   "outputs": [
    {
     "data": {
      "image/png": "[encoded data removed]",
      "text/plain": [
       "<Figure size 432x288 with 1 Axes>"
      ]
     },
     "metadata": {
      "needs_background": "light"
     },
     "output_type": "display_data"
    }
   ],
   "source": [
    "latitude_range = (\n",
    "    cab_data_rides_clean_occupied_pred.startLatitude.min(),\n",
    "    cab_data_rides_clean_occupied_pred.startLatitude.max(),\n",
    ")\n",
    "Longitude_range = (\n",
    "    cab_data_rides_clean_occupied_pred.startLongitude.min(),\n",
    "    cab_data_rides_clean_occupied_pred.startLongitude.max(),\n",
    ")\n",
    "fig = plt.figure()\n",
    "ax = fig.add_axes([0, 0, 1.5, 1.5])\n",
    "ax.scatter(\n",
    "    x=cab_data_rides_clean_occupied_pred.startLongitude.values,\n",
    "    y=cab_data_rides_clean_occupied_pred.startLatitude.values,\n",
    "    c=cab_data_rides_clean_occupied_pred.pickup_cluster.values,\n",
    "    cmap=\"Paired\",\n",
    "    s=5,\n",
    ")\n",
    "ax.set_xlim(\n",
    "    cab_data_rides_clean_occupied_pred.startLongitude.min(),\n",
    "    cab_data_rides_clean_occupied_pred.startLongitude.max(),\n",
    ")\n",
    "ax.set_ylim(\n",
    "    cab_data_rides_clean_occupied_pred.startLatitude.min(),\n",
    "    cab_data_rides_clean_occupied_pred.startLatitude.max(),\n",
    ")\n",
    "ax.set_title(\"Regions in SF\")\n",
    "ax.set_xlabel(\"Longitude\")\n",
    "ax.set_ylabel(\"Latitude\")\n",
    "plt.show()"
   ]
  },
  {
   "cell_type": "markdown",
   "metadata": {},
   "source": [
    "### 4.1.2 Time binning\n",
    "\n",
    "Here we divide all taxi rides in different time bins of 10 mins."
   ]
  },
  {
   "cell_type": "markdown",
   "metadata": {},
   "source": [
    "Let's first create a new feature (pickup time in unix format) from the pick up time that is in datetime format."
   ]
  },
  {
   "cell_type": "code",
   "execution_count": 828,
   "metadata": {},
   "outputs": [],
   "source": [
    "all_data = cab_data_rides_clean_occupied_pred.copy()"
   ]
  },
  {
   "cell_type": "code",
   "execution_count": 829,
   "metadata": {},
   "outputs": [
    {
     "data": {
      "text/html": [
       "<div>\n",
       "<style scoped>\n",
       "    .dataframe tbody tr th:only-of-type {\n",
       "        vertical-align: middle;\n",
       "    }\n",
       "\n",
       "    .dataframe tbody tr th {\n",
       "        vertical-align: top;\n",
       "    }\n",
       "\n",
       "    .dataframe thead th {\n",
       "        text-align: right;\n",
       "    }\n",
       "</style>\n",
       "<table border=\"1\" class=\"dataframe\">\n",
       "  <thead>\n",
       "    <tr style=\"text-align: right;\">\n",
       "      <th></th>\n",
       "      <th>cab_no</th>\n",
       "      <th>startLatitude</th>\n",
       "      <th>endLatitude</th>\n",
       "      <th>startLongitude</th>\n",
       "      <th>endLongitude</th>\n",
       "      <th>startTime</th>\n",
       "      <th>endTime</th>\n",
       "      <th>occupancy</th>\n",
       "      <th>trip_distance_miles</th>\n",
       "      <th>trip_duration_minutes</th>\n",
       "      <th>speed_miles_per_hour</th>\n",
       "      <th>day_of_week</th>\n",
       "      <th>isWeekend</th>\n",
       "      <th>phase_of_day</th>\n",
       "      <th>pickup_cluster</th>\n",
       "      <th>pickup_time_unix</th>\n",
       "    </tr>\n",
       "  </thead>\n",
       "  <tbody>\n",
       "    <tr>\n",
       "      <th>1</th>\n",
       "      <td>1</td>\n",
       "      <td>37.74977</td>\n",
       "      <td>37.75580</td>\n",
       "      <td>-122.39724</td>\n",
       "      <td>-122.41441</td>\n",
       "      <td>2008-05-17 14:51:10</td>\n",
       "      <td>2008-05-17 14:56:00</td>\n",
       "      <td>1</td>\n",
       "      <td>1.03</td>\n",
       "      <td>4.83</td>\n",
       "      <td>12.80</td>\n",
       "      <td>Saturday</td>\n",
       "      <td>1</td>\n",
       "      <td>Afternoon</td>\n",
       "      <td>14</td>\n",
       "      <td>1211035870</td>\n",
       "    </tr>\n",
       "    <tr>\n",
       "      <th>3</th>\n",
       "      <td>1</td>\n",
       "      <td>37.75053</td>\n",
       "      <td>37.75177</td>\n",
       "      <td>-122.42086</td>\n",
       "      <td>-122.43095</td>\n",
       "      <td>2008-05-17 15:18:06</td>\n",
       "      <td>2008-05-17 15:21:50</td>\n",
       "      <td>1</td>\n",
       "      <td>0.56</td>\n",
       "      <td>3.73</td>\n",
       "      <td>9.01</td>\n",
       "      <td>Saturday</td>\n",
       "      <td>1</td>\n",
       "      <td>Afternoon</td>\n",
       "      <td>19</td>\n",
       "      <td>1211037486</td>\n",
       "    </tr>\n",
       "  </tbody>\n",
       "</table>\n",
       "</div>"
      ],
      "text/plain": [
       "   cab_no  startLatitude  endLatitude  startLongitude  endLongitude  \\\n",
       "1       1       37.74977     37.75580      -122.39724    -122.41441   \n",
       "3       1       37.75053     37.75177      -122.42086    -122.43095   \n",
       "\n",
       "            startTime             endTime  occupancy  trip_distance_miles  \\\n",
       "1 2008-05-17 14:51:10 2008-05-17 14:56:00          1                 1.03   \n",
       "3 2008-05-17 15:18:06 2008-05-17 15:21:50          1                 0.56   \n",
       "\n",
       "   trip_duration_minutes  speed_miles_per_hour day_of_week  isWeekend  \\\n",
       "1                   4.83                 12.80    Saturday          1   \n",
       "3                   3.73                  9.01    Saturday          1   \n",
       "\n",
       "  phase_of_day  pickup_cluster  pickup_time_unix  \n",
       "1    Afternoon              14        1211035870  \n",
       "3    Afternoon              19        1211037486  "
      ]
     },
     "execution_count": 829,
     "metadata": {},
     "output_type": "execute_result"
    }
   ],
   "source": [
    "def get_unixtime(data):\n",
    "    return (data.astype(np.int64) / 1e9).astype(np.int64)\n",
    "\n",
    "\n",
    "all_data[\"pickup_time_unix\"] = all_data[[\"startTime\"]].apply(get_unixtime)\n",
    "\n",
    "all_data.head(2)"
   ]
  },
  {
   "cell_type": "code",
   "execution_count": 830,
   "metadata": {},
   "outputs": [],
   "source": [
    "def pickup_10min_bins(dataframe):\n",
    "    pickupTime = dataframe[\"pickup_time_unix\"].values\n",
    "    unix_year = all_data.pickup_time_unix.min() - 1\n",
    "    time_10min_bin = [int((i - unix_year) / 600) for i in pickupTime]\n",
    "    dataframe[\"time_bin\"] = np.array(time_10min_bin)\n",
    "    return dataframe"
   ]
  },
  {
   "cell_type": "code",
   "execution_count": 831,
   "metadata": {},
   "outputs": [
    {
     "data": {
      "text/html": [
       "<div>\n",
       "<style scoped>\n",
       "    .dataframe tbody tr th:only-of-type {\n",
       "        vertical-align: middle;\n",
       "    }\n",
       "\n",
       "    .dataframe tbody tr th {\n",
       "        vertical-align: top;\n",
       "    }\n",
       "\n",
       "    .dataframe thead th {\n",
       "        text-align: right;\n",
       "    }\n",
       "</style>\n",
       "<table border=\"1\" class=\"dataframe\">\n",
       "  <thead>\n",
       "    <tr style=\"text-align: right;\">\n",
       "      <th></th>\n",
       "      <th>cab_no</th>\n",
       "      <th>startLatitude</th>\n",
       "      <th>endLatitude</th>\n",
       "      <th>startLongitude</th>\n",
       "      <th>endLongitude</th>\n",
       "      <th>startTime</th>\n",
       "      <th>endTime</th>\n",
       "      <th>occupancy</th>\n",
       "      <th>trip_distance_miles</th>\n",
       "      <th>trip_duration_minutes</th>\n",
       "      <th>speed_miles_per_hour</th>\n",
       "      <th>day_of_week</th>\n",
       "      <th>isWeekend</th>\n",
       "      <th>phase_of_day</th>\n",
       "      <th>pickup_cluster</th>\n",
       "      <th>pickup_time_unix</th>\n",
       "      <th>time_bin</th>\n",
       "    </tr>\n",
       "  </thead>\n",
       "  <tbody>\n",
       "    <tr>\n",
       "      <th>1</th>\n",
       "      <td>1</td>\n",
       "      <td>37.74977</td>\n",
       "      <td>37.75580</td>\n",
       "      <td>-122.39724</td>\n",
       "      <td>-122.41441</td>\n",
       "      <td>2008-05-17 14:51:10</td>\n",
       "      <td>2008-05-17 14:56:00</td>\n",
       "      <td>1</td>\n",
       "      <td>1.03</td>\n",
       "      <td>4.83</td>\n",
       "      <td>12.80</td>\n",
       "      <td>Saturday</td>\n",
       "      <td>1</td>\n",
       "      <td>Afternoon</td>\n",
       "      <td>14</td>\n",
       "      <td>1211035870</td>\n",
       "      <td>29</td>\n",
       "    </tr>\n",
       "    <tr>\n",
       "      <th>3</th>\n",
       "      <td>1</td>\n",
       "      <td>37.75053</td>\n",
       "      <td>37.75177</td>\n",
       "      <td>-122.42086</td>\n",
       "      <td>-122.43095</td>\n",
       "      <td>2008-05-17 15:18:06</td>\n",
       "      <td>2008-05-17 15:21:50</td>\n",
       "      <td>1</td>\n",
       "      <td>0.56</td>\n",
       "      <td>3.73</td>\n",
       "      <td>9.01</td>\n",
       "      <td>Saturday</td>\n",
       "      <td>1</td>\n",
       "      <td>Afternoon</td>\n",
       "      <td>19</td>\n",
       "      <td>1211037486</td>\n",
       "      <td>31</td>\n",
       "    </tr>\n",
       "  </tbody>\n",
       "</table>\n",
       "</div>"
      ],
      "text/plain": [
       "   cab_no  startLatitude  endLatitude  startLongitude  endLongitude  \\\n",
       "1       1       37.74977     37.75580      -122.39724    -122.41441   \n",
       "3       1       37.75053     37.75177      -122.42086    -122.43095   \n",
       "\n",
       "            startTime             endTime  occupancy  trip_distance_miles  \\\n",
       "1 2008-05-17 14:51:10 2008-05-17 14:56:00          1                 1.03   \n",
       "3 2008-05-17 15:18:06 2008-05-17 15:21:50          1                 0.56   \n",
       "\n",
       "   trip_duration_minutes  speed_miles_per_hour day_of_week  isWeekend  \\\n",
       "1                   4.83                 12.80    Saturday          1   \n",
       "3                   3.73                  9.01    Saturday          1   \n",
       "\n",
       "  phase_of_day  pickup_cluster  pickup_time_unix  time_bin  \n",
       "1    Afternoon              14        1211035870        29  \n",
       "3    Afternoon              19        1211037486        31  "
      ]
     },
     "execution_count": 831,
     "metadata": {},
     "output_type": "execute_result"
    }
   ],
   "source": [
    "all_data = pickup_10min_bins(all_data)\n",
    "all_data.head(2)"
   ]
  },
  {
   "cell_type": "code",
   "execution_count": 832,
   "metadata": {},
   "outputs": [
    {
     "data": {
      "text/html": [
       "<div>\n",
       "<style scoped>\n",
       "    .dataframe tbody tr th:only-of-type {\n",
       "        vertical-align: middle;\n",
       "    }\n",
       "\n",
       "    .dataframe tbody tr th {\n",
       "        vertical-align: top;\n",
       "    }\n",
       "\n",
       "    .dataframe thead th {\n",
       "        text-align: right;\n",
       "    }\n",
       "</style>\n",
       "<table border=\"1\" class=\"dataframe\">\n",
       "  <thead>\n",
       "    <tr style=\"text-align: right;\">\n",
       "      <th></th>\n",
       "      <th></th>\n",
       "      <th>trip_distance_miles</th>\n",
       "    </tr>\n",
       "    <tr>\n",
       "      <th>pickup_cluster</th>\n",
       "      <th>time_bin</th>\n",
       "      <th></th>\n",
       "    </tr>\n",
       "  </thead>\n",
       "  <tbody>\n",
       "    <tr>\n",
       "      <th rowspan=\"5\" valign=\"top\">0</th>\n",
       "      <th>0</th>\n",
       "      <td>6</td>\n",
       "    </tr>\n",
       "    <tr>\n",
       "      <th>1</th>\n",
       "      <td>1</td>\n",
       "    </tr>\n",
       "    <tr>\n",
       "      <th>3</th>\n",
       "      <td>1</td>\n",
       "    </tr>\n",
       "    <tr>\n",
       "      <th>4</th>\n",
       "      <td>1</td>\n",
       "    </tr>\n",
       "    <tr>\n",
       "      <th>5</th>\n",
       "      <td>3</td>\n",
       "    </tr>\n",
       "  </tbody>\n",
       "</table>\n",
       "</div>"
      ],
      "text/plain": [
       "                         trip_distance_miles\n",
       "pickup_cluster time_bin                     \n",
       "0              0                           6\n",
       "               1                           1\n",
       "               3                           1\n",
       "               4                           1\n",
       "               5                           3"
      ]
     },
     "execution_count": 832,
     "metadata": {},
     "output_type": "execute_result"
    }
   ],
   "source": [
    "all_data_timeBin_groupBy = (\n",
    "    all_data[[\"pickup_cluster\", \"time_bin\", \"trip_distance_miles\"]]\n",
    "    .groupby(by=[\"pickup_cluster\", \"time_bin\"])\n",
    "    .count()\n",
    ")\n",
    "all_data_timeBin_groupBy.head()"
   ]
  },
  {
   "cell_type": "code",
   "execution_count": 833,
   "metadata": {},
   "outputs": [
    {
     "name": "stdout",
     "output_type": "stream",
     "text": [
      "Number of unique 10 minute time bins in the data:  3439\n"
     ]
    }
   ],
   "source": [
    "time_bin_count = len(np.unique(all_data[\"time_bin\"]))\n",
    "print(\"Number of unique 10 minute time bins in the data: \", time_bin_count)"
   ]
  },
  {
   "cell_type": "markdown",
   "metadata": {},
   "source": [
    "### 4.1.3 Fill missing values for empty time bins\n",
    "\n",
    "There can be several time bins, where there was no taxi rides. Here, we will assign zero values for such time bins."
   ]
  },
  {
   "cell_type": "code",
   "execution_count": 834,
   "metadata": {},
   "outputs": [],
   "source": [
    "# this function returns the indices of all the unique time_bins where there is a pickup for all the clusters.\n",
    "def getUniqueBinsWithPickups(dataframe):\n",
    "    values = []\n",
    "    for i in range(no_of_clusters):\n",
    "        cluster_id = dataframe[dataframe[\"pickup_cluster\"] == i]\n",
    "        unique_clus_id = list(set(cluster_id[\"time_bin\"]))\n",
    "        unique_clus_id.sort()  # inplace sorting\n",
    "        values.append(unique_clus_id)\n",
    "    return values"
   ]
  },
  {
   "cell_type": "code",
   "execution_count": 835,
   "metadata": {},
   "outputs": [
    {
     "name": "stdout",
     "output_type": "stream",
     "text": [
      "For cluster ID 0, total number of time bins with no pickup in this clutser region is 257\n",
      "------------------------------------------------------------------------------------------\n",
      "For cluster ID 1, total number of time bins with no pickup in this clutser region is 775\n",
      "------------------------------------------------------------------------------------------\n",
      "For cluster ID 2, total number of time bins with no pickup in this clutser region is 236\n",
      "------------------------------------------------------------------------------------------\n",
      "For cluster ID 3, total number of time bins with no pickup in this clutser region is 248\n",
      "------------------------------------------------------------------------------------------\n",
      "For cluster ID 4, total number of time bins with no pickup in this clutser region is 1752\n",
      "------------------------------------------------------------------------------------------\n",
      "For cluster ID 5, total number of time bins with no pickup in this clutser region is 218\n",
      "------------------------------------------------------------------------------------------\n",
      "For cluster ID 6, total number of time bins with no pickup in this clutser region is 231\n",
      "------------------------------------------------------------------------------------------\n",
      "For cluster ID 7, total number of time bins with no pickup in this clutser region is 95\n",
      "------------------------------------------------------------------------------------------\n",
      "For cluster ID 8, total number of time bins with no pickup in this clutser region is 205\n",
      "------------------------------------------------------------------------------------------\n",
      "For cluster ID 9, total number of time bins with no pickup in this clutser region is 1375\n",
      "------------------------------------------------------------------------------------------\n",
      "For cluster ID 10, total number of time bins with no pickup in this clutser region is 631\n",
      "------------------------------------------------------------------------------------------\n",
      "For cluster ID 11, total number of time bins with no pickup in this clutser region is 79\n",
      "------------------------------------------------------------------------------------------\n",
      "For cluster ID 12, total number of time bins with no pickup in this clutser region is 383\n",
      "------------------------------------------------------------------------------------------\n",
      "For cluster ID 13, total number of time bins with no pickup in this clutser region is 614\n",
      "------------------------------------------------------------------------------------------\n",
      "For cluster ID 14, total number of time bins with no pickup in this clutser region is 533\n",
      "------------------------------------------------------------------------------------------\n",
      "For cluster ID 15, total number of time bins with no pickup in this clutser region is 181\n",
      "------------------------------------------------------------------------------------------\n",
      "For cluster ID 16, total number of time bins with no pickup in this clutser region is 339\n",
      "------------------------------------------------------------------------------------------\n",
      "For cluster ID 17, total number of time bins with no pickup in this clutser region is 2292\n",
      "------------------------------------------------------------------------------------------\n",
      "For cluster ID 18, total number of time bins with no pickup in this clutser region is 51\n",
      "------------------------------------------------------------------------------------------\n",
      "For cluster ID 19, total number of time bins with no pickup in this clutser region is 145\n",
      "------------------------------------------------------------------------------------------\n",
      "For cluster ID 20, total number of time bins with no pickup in this clutser region is 1627\n",
      "------------------------------------------------------------------------------------------\n",
      "For cluster ID 21, total number of time bins with no pickup in this clutser region is 338\n",
      "------------------------------------------------------------------------------------------\n",
      "For cluster ID 22, total number of time bins with no pickup in this clutser region is 317\n",
      "------------------------------------------------------------------------------------------\n",
      "For cluster ID 23, total number of time bins with no pickup in this clutser region is 1437\n",
      "------------------------------------------------------------------------------------------\n",
      "For cluster ID 24, total number of time bins with no pickup in this clutser region is 176\n",
      "------------------------------------------------------------------------------------------\n",
      "For cluster ID 25, total number of time bins with no pickup in this clutser region is 362\n",
      "------------------------------------------------------------------------------------------\n",
      "For cluster ID 26, total number of time bins with no pickup in this clutser region is 195\n",
      "------------------------------------------------------------------------------------------\n",
      "For cluster ID 27, total number of time bins with no pickup in this clutser region is 720\n",
      "------------------------------------------------------------------------------------------\n",
      "For cluster ID 28, total number of time bins with no pickup in this clutser region is 637\n",
      "------------------------------------------------------------------------------------------\n",
      "For cluster ID 29, total number of time bins with no pickup in this clutser region is 1964\n",
      "------------------------------------------------------------------------------------------\n"
     ]
    }
   ],
   "source": [
    "# we have to find out, how many time_bins are there where there is no pickup in any of the cluster region\n",
    "unique_binswithPickup_all_data = getUniqueBinsWithPickups(all_data)\n",
    "\n",
    "for i in range(no_of_clusters):\n",
    "    print(\n",
    "        \"For cluster ID {}, total number of time bins with no pickup in this clutser region is {}\".format(\n",
    "            i, (time_bin_count - len(unique_binswithPickup_all_data[i]))\n",
    "        )\n",
    "    )\n",
    "    print(\"-\" * 90)"
   ]
  },
  {
   "cell_type": "markdown",
   "metadata": {},
   "source": [
    "There are two ways to fill up these values:\n",
    "\n",
    "* Fill the missing value with 0's."
   ]
  },
  {
   "cell_type": "code",
   "execution_count": 836,
   "metadata": {},
   "outputs": [],
   "source": [
    "# Fill the missing value with 0's.\n",
    "# above function performs the operation in this way: if in any cluster if there is no pickup in any of the time bins, then\n",
    "# it simply appends 0 in that missing time_bin else it adds the original number of pickups in that time_bins.\n",
    "\n",
    "\n",
    "def fillMissingWithZero(numberOfPickups, correspondingTimeBin):\n",
    "    ind = 0\n",
    "    smoothed_regions = []\n",
    "    for c in range(0, no_of_clusters):\n",
    "        smoothed_bins = []\n",
    "        for t in range(time_bin_count):\n",
    "            if t in correspondingTimeBin[c]:\n",
    "                smoothed_bins.append(numberOfPickups[ind])\n",
    "                ind += 1\n",
    "            else:\n",
    "                smoothed_bins.append(0)\n",
    "        smoothed_regions.extend(smoothed_bins)\n",
    "    return smoothed_regions"
   ]
  },
  {
   "cell_type": "code",
   "execution_count": 837,
   "metadata": {},
   "outputs": [],
   "source": [
    "all_data_fillZero = fillMissingWithZero(\n",
    "    all_data_timeBin_groupBy[\"trip_distance_miles\"].values,\n",
    "    unique_binswithPickup_all_data,\n",
    ")"
   ]
  },
  {
   "cell_type": "code",
   "execution_count": 838,
   "metadata": {},
   "outputs": [
    {
     "name": "stdout",
     "output_type": "stream",
     "text": [
      "Number of values filled with zero in zero fill train data= 18550\n"
     ]
    }
   ],
   "source": [
    "def countZeros(num):\n",
    "    count = 0\n",
    "    for i in num:\n",
    "        if i == 0:\n",
    "            count += 1\n",
    "    return count\n",
    "\n",
    "\n",
    "print(\n",
    "    \"Number of values filled with zero in zero fill train data= \"\n",
    "    + str(countZeros(all_data_fillZero))\n",
    ")"
   ]
  },
  {
   "cell_type": "markdown",
   "metadata": {},
   "source": [
    "There are total 30 clusters. Each cluster has 3439 time bins. After smoothing or fillWithZero, each of 3439 time bin has a pickup. So, there should be a total of <b>3439*30 = 103170</b> pickup values present. Let's Check, is it correct?"
   ]
  },
  {
   "cell_type": "code",
   "execution_count": 839,
   "metadata": {},
   "outputs": [
    {
     "name": "stdout",
     "output_type": "stream",
     "text": [
      "Total number of pickup values =  103170\n"
     ]
    }
   ],
   "source": [
    "print(\"Total number of pickup values = \", len(all_data_fillZero))"
   ]
  },
  {
   "cell_type": "code",
   "execution_count": 840,
   "metadata": {},
   "outputs": [],
   "source": [
    "regionWisePickup_all_data = []\n",
    "\n",
    "for i in range(no_of_clusters):\n",
    "    regionWisePickup_all_data.append(\n",
    "        all_data_fillZero[time_bin_count * i : ((time_bin_count * i) + time_bin_count)]\n",
    "    )\n",
    "\n",
    "# \"regionWisePickup_all_data\" is a list of lists which contains 30 sub lists, where the index of each sub-list is the\n",
    "# corresponding cluster number and the element of each sub-list is the pickup value. So, we know that there are\n",
    "# 3439 time bins, hence each sub-list is of size 3439."
   ]
  },
  {
   "cell_type": "code",
   "execution_count": 841,
   "metadata": {},
   "outputs": [
    {
     "name": "stdout",
     "output_type": "stream",
     "text": [
      "30 3439\n"
     ]
    }
   ],
   "source": [
    "print(len(regionWisePickup_all_data), len(regionWisePickup_all_data[0]))"
   ]
  },
  {
   "cell_type": "markdown",
   "metadata": {},
   "source": [
    "## 4.2 Data transformation for modeling\n",
    "\n",
    "Before we move to modeling, we have to transform the available data in such a way that it fits the need of the ML models.\n",
    "It prepares data in cumulative form (time bin) which will be later split into test and train.\n",
    "\n",
    "There are total 30 clusters and each cluster has total 3439 time bins. So for 30 clusters there will be 3439*30 = 103170 pickup values."
   ]
  },
  {
   "cell_type": "code",
   "execution_count": 889,
   "metadata": {},
   "outputs": [],
   "source": [
    "# \"regionWisePickup_all_data\" is a list of lists which contains 30 sub lists, where the index of each sub-list is the\n",
    "# corresponding cluster number and the element of each sub-list is the pickup value. So, we know that there are 3439\n",
    "# time bins, hence, each sub-list is of size 3439.\n",
    "\n",
    "# \"regionWisePickup_all_data\" is a list of lists [[x1,x2,x3..4464], [x1,x2,x3..4464], [x1,x2,x3..4464], .. 30 lists]\n",
    "# Here, x1,x2,x3... are pickup values at time stamp 1,2,3... respectively\n",
    "\n",
    "# we take number of pickups that are happened in last 5 10min intervals\n",
    "number_of_time_stamps = 5\n",
    "\n",
    "# It will be used as true labels. Since we are taking previous 5 pickups as a training data (inut) for predicting\n",
    "# next pickup, here next pickup will be a true/ground truth pickup i.e. \"TruePickups\"\n",
    "TruePickups = []\n",
    "\n",
    "\n",
    "# latitude of cluster center for every cluster\n",
    "lat = []\n",
    "\n",
    "\n",
    "# longitude of cluster center for every cluster\n",
    "lon = []\n",
    "\n",
    "# sunday = 0, monday = 1, tue = 2, wed = 3, thur = 4, fri = 5, sat = 6\n",
    "day_of_week = []\n",
    "\n",
    "# feat is a numbpy array, of shape (103170, 5) --> (3439*30, 4)\n",
    "# each row corresponds to an entry in our data\n",
    "# for the first row we will have [f0,f1,f2,f3,f4] fi=number of pickups happened in i+1st 10min intravel(bin)\n",
    "# the second row will have [f1,f2,f3,f4,f5]\n",
    "# the third row will have [f2,f3,f4,f5,f6]\n",
    "# and so on...\n",
    "feat = []\n",
    "\n",
    "centerOfRegions = regions.cluster_centers_\n",
    "feat = [0] * number_of_time_stamps\n",
    "for i in range(no_of_clusters):\n",
    "    lat.append([centerOfRegions[i][0]] * (time_bin_count - number_of_time_stamps))\n",
    "    lon.append([centerOfRegions[i][1]] * (time_bin_count - number_of_time_stamps))\n",
    "\n",
    "    minUnixTime = all_data.pickup_time_unix.min()\n",
    "    day_of_week.append(\n",
    "        [\n",
    "            pd.to_datetime((minUnixTime + 600 * j), unit=\"s\").dayofweek\n",
    "            for j in range(0, (time_bin_count - number_of_time_stamps))\n",
    "        ]\n",
    "    )\n",
    "\n",
    "    feat = np.vstack(\n",
    "        (\n",
    "            feat,\n",
    "            [\n",
    "                regionWisePickup_all_data[i][k : k + number_of_time_stamps]\n",
    "                for k in range(0, (time_bin_count - number_of_time_stamps))\n",
    "            ],\n",
    "        )\n",
    "    )\n",
    "\n",
    "    # output contains pickup values of all the regions and of each time stamp, except first 5 time stamp pickups of each region.\n",
    "    TruePickups.append(regionWisePickup_all_data[i][number_of_time_stamps:])\n",
    "\n",
    "feat = feat[1:]"
   ]
  },
  {
   "cell_type": "code",
   "execution_count": 890,
   "metadata": {},
   "outputs": [
    {
     "data": {
      "text/plain": [
       "True"
      ]
     },
     "execution_count": 890,
     "metadata": {},
     "output_type": "execute_result"
    }
   ],
   "source": [
    "len(lat[0]) * len(lat) == len(lon[0]) * len(lon) == len(day_of_week[0]) * len(\n",
    "    day_of_week\n",
    ") == (time_bin_count - number_of_time_stamps) * no_of_clusters == len(feat) == len(\n",
    "    TruePickups[0]\n",
    ") * len(\n",
    "    TruePickups\n",
    ")"
   ]
  },
  {
   "cell_type": "code",
   "execution_count": 891,
   "metadata": {},
   "outputs": [
    {
     "data": {
      "text/plain": [
       "array([[6, 1, 0, 1, 1],\n",
       "       [1, 0, 1, 1, 3],\n",
       "       [0, 1, 1, 3, 0],\n",
       "       ...,\n",
       "       [0, 0, 0, 0, 0],\n",
       "       [0, 0, 0, 0, 0],\n",
       "       [0, 0, 0, 0, 0]], dtype=int64)"
      ]
     },
     "execution_count": 891,
     "metadata": {},
     "output_type": "execute_result"
    }
   ],
   "source": [
    "feat"
   ]
  },
  {
   "cell_type": "markdown",
   "metadata": {},
   "source": [
    "### 4.2.1 Adding Predictions of Weighted Moving Average Predictions as a feature in our data\n",
    "\n",
    "Here we will try to get the predictions using weighted Auto regressors (previous observatios) to be used as features in cumulative form.\n",
    "\n",
    "Upto now we computed 8 features for every data point that starts from 50th min of the day.\n",
    "    1. cluster center latitude\n",
    "    2. cluster center longitude\n",
    "    3. day of the week \n",
    "    4. f_t_1: number of pickups that are happened previous t-1st 10min interval\n",
    "    5. f_t_2: number of pickups that are happened previous t-2nd 10min interval\n",
    "    6. f_t_3: number of pickups that are happened previous t-3rd 10min interval\n",
    "    7. f_t_4: number of pickups that are happened previous t-4th 10min interval\n",
    "    8. f_t_5: number of pickups that are happened previous t-5th 10min interval\n",
    "\n",
    "The simple AR Model gives equal importance to all the values in the previous timebin data. However we know intuitively that the future is more likely to be similar to the latest values and less similar to the older values. Weighted importance converts this analogy into a mathematical relationship giving the highest weight while computing the averages to the latest previous value and decreasing weights to the subsequent older ones<br>\n",
    "\n",
    "Weighted AR using weighted Values: $Y_t = [N * Y_{t-1} + (N-1) * Y_{t-2} + (N-2) * Y_{T-3} + ...) / N * (N+1)/2$"
   ]
  },
  {
   "cell_type": "code",
   "execution_count": 892,
   "metadata": {},
   "outputs": [],
   "source": [
    "# \"predicted_pickup_values\": it is a temporary array that store weighted AR prediction values for each 10min intervl,\n",
    "# For each cluster it will get reset. For every cluster it contains 3439 values\n",
    "predicted_pickup_values = []\n",
    "\n",
    "# \"predicted_pickup_values_list\" is a list of lists [[x5,x6,x7..x4463], [x5,x6,x7..x4463], [x5,x6,x7..x4463], ... 40 lists]\n",
    "predicted_pickup_values_list = []\n",
    "\n",
    "# it will contain cuurent predicted_value. Default is given -1 which will be replaced later\n",
    "predicted_value = -1\n",
    "\n",
    "window_size = 2\n",
    "for i in range(no_of_clusters):\n",
    "    for j in range(time_bin_count):\n",
    "        if j == 0:\n",
    "            predicted_value = regionWisePickup_all_data[i][j]\n",
    "            predicted_pickup_values.append(0)\n",
    "        else:\n",
    "            if j >= window_size:\n",
    "                sumPickups = 0\n",
    "                sumOfWeights = 0\n",
    "                for k in range(window_size, 0, -1):\n",
    "                    sumPickups += k * (\n",
    "                        regionWisePickup_all_data[i][j - window_size + (k - 1)]\n",
    "                    )\n",
    "                    sumOfWeights += k\n",
    "                predicted_value = int(sumPickups / sumOfWeights)\n",
    "                predicted_pickup_values.append(predicted_value)\n",
    "            else:\n",
    "                sumPickups = 0\n",
    "                sumOfWeights = 0\n",
    "                for k in range(j, 0, -1):\n",
    "                    sumPickups += k * regionWisePickup_all_data[i][k - 1]\n",
    "                    sumOfWeights += k\n",
    "                predicted_value = int(sumPickups / sumOfWeights)\n",
    "                predicted_pickup_values.append(predicted_value)\n",
    "\n",
    "    predicted_pickup_values_list.append(predicted_pickup_values[5:])\n",
    "    predicted_pickup_values = []"
   ]
  },
  {
   "cell_type": "code",
   "execution_count": 893,
   "metadata": {},
   "outputs": [
    {
     "data": {
      "text/plain": [
       "True"
      ]
     },
     "execution_count": 893,
     "metadata": {},
     "output_type": "execute_result"
    }
   ],
   "source": [
    "len(predicted_pickup_values_list[0]) * len(predicted_pickup_values_list) == (\n",
    "    time_bin_count - number_of_time_stamps\n",
    ") * 30"
   ]
  },
  {
   "cell_type": "markdown",
   "metadata": {},
   "source": [
    "### 4.2.2 Train Test split\n",
    "\n",
    "Before we start predictions using ML models, we need to split our data such that in every region we have 80% data in train and 20% in test, ordered date-wise for every region."
   ]
  },
  {
   "cell_type": "code",
   "execution_count": 900,
   "metadata": {},
   "outputs": [
    {
     "name": "stdout",
     "output_type": "stream",
     "text": [
      "size of train data for one cluster: 2747\n",
      "size of total test data for one cluster: 686\n"
     ]
    }
   ],
   "source": [
    "train_size_each_cluster = int((time_bin_count - number_of_time_stamps) * 0.8)\n",
    "test_size_each_cluster = int((time_bin_count - number_of_time_stamps) * 0.2)\n",
    "\n",
    "print(\"size of train data for one cluster:\", train_size_each_cluster)\n",
    "print(\"size of total test data for one cluster:\", test_size_each_cluster)"
   ]
  },
  {
   "cell_type": "code",
   "execution_count": 902,
   "metadata": {},
   "outputs": [
    {
     "name": "stdout",
     "output_type": "stream",
     "text": [
      "size of total train data : 82410\n",
      "size of total test data : 20580\n"
     ]
    }
   ],
   "source": [
    "train_size = train_size_each_cluster * no_of_clusters\n",
    "test_size = test_size_each_cluster * no_of_clusters\n",
    "print(\"size of total train data :\", train_size)\n",
    "print(\"size of total test data :\", test_size)"
   ]
  },
  {
   "cell_type": "code",
   "execution_count": 911,
   "metadata": {},
   "outputs": [],
   "source": [
    "train_previousFive_pickups = [feat[i * 3434 : (3434 * i + 2747)] for i in range(30)]\n",
    "test_previousFive_pickups = [\n",
    "    feat[(i * 3434) + 2747 : (3434 * (i + 1))] for i in range(30)\n",
    "]"
   ]
  },
  {
   "cell_type": "code",
   "execution_count": 915,
   "metadata": {},
   "outputs": [],
   "source": [
    "train_previousFive_pickups = [\n",
    "    feat[\n",
    "        i\n",
    "        * (time_bin_count - number_of_time_stamps) : (\n",
    "            time_bin_count - number_of_time_stamps\n",
    "        )\n",
    "        * i\n",
    "        + train_size_each_cluster\n",
    "    ]\n",
    "    for i in range(no_of_clusters)\n",
    "]\n",
    "test_previousFive_pickups = [\n",
    "    feat[\n",
    "        i * (time_bin_count - number_of_time_stamps)\n",
    "        + train_size_each_cluster : (time_bin_count - number_of_time_stamps) * (i + 1)\n",
    "    ]\n",
    "    for i in range(no_of_clusters)\n",
    "]"
   ]
  },
  {
   "cell_type": "code",
   "execution_count": 920,
   "metadata": {},
   "outputs": [
    {
     "name": "stdout",
     "output_type": "stream",
     "text": [
      "Train Data: Total number of clusters = 30. Number of points in each cluster = 2747. Total number of training points = 82410\n",
      "Test Data: Total number of clusters = 30. Number of points in each cluster = 687. Total number of test points = 20610\n"
     ]
    }
   ],
   "source": [
    "print(\n",
    "    \"Train Data: Total number of clusters = {}. Number of points in each cluster = {}. Total number of training points = {}\".format(\n",
    "        len(train_previousFive_pickups),\n",
    "        len(train_previousFive_pickups[0]),\n",
    "        len(train_previousFive_pickups) * len(train_previousFive_pickups[0]),\n",
    "    )\n",
    ")\n",
    "print(\n",
    "    \"Test Data: Total number of clusters = {}. Number of points in each cluster = {}. Total number of test points = {}\".format(\n",
    "        len(test_previousFive_pickups),\n",
    "        len(test_previousFive_pickups[0]),\n",
    "        len(test_previousFive_pickups) * len(test_previousFive_pickups[0]),\n",
    "    )\n",
    ")"
   ]
  },
  {
   "cell_type": "code",
   "execution_count": 928,
   "metadata": {},
   "outputs": [],
   "source": [
    "# taking 80% data as train data from each cluster\n",
    "train_lat = [i[:2747] for i in lat]\n",
    "train_lon = [i[:2747] for i in lon]\n",
    "train_weekDay = [i[:2747] for i in day_of_week]\n",
    "train_weighted_avg = [i[:2747] for i in predicted_pickup_values_list]\n",
    "train_TruePickups = [i[:2747] for i in TruePickups]"
   ]
  },
  {
   "cell_type": "code",
   "execution_count": 929,
   "metadata": {},
   "outputs": [],
   "source": [
    "# taking 20% data as test data from each cluster\n",
    "test_lat = [i[2747:] for i in lat]\n",
    "test_lon = [i[2747:] for i in lon]\n",
    "test_weekDay = [i[2747:] for i in day_of_week]\n",
    "test_weighted_avg = [i[2747:] for i in predicted_pickup_values_list]\n",
    "test_TruePickups = [i[2747:] for i in TruePickups]"
   ]
  },
  {
   "cell_type": "code",
   "execution_count": 930,
   "metadata": {},
   "outputs": [],
   "source": [
    "# convert from lists of lists of list to lists of list\n",
    "train_pickups = []\n",
    "test_pickups = []\n",
    "for i in range(no_of_clusters):\n",
    "    train_pickups.extend(train_previousFive_pickups[i])\n",
    "    test_pickups.extend(test_previousFive_pickups[i])"
   ]
  },
  {
   "cell_type": "code",
   "execution_count": 935,
   "metadata": {},
   "outputs": [
    {
     "name": "stdout",
     "output_type": "stream",
     "text": [
      "Number of data points in train data = 82410. Number of columns till now = 5\n",
      "Number of data points in test data = 20610. Number of columns till now = 5\n"
     ]
    }
   ],
   "source": [
    "print(\n",
    "    \"Number of data points in train data = {}. Number of columns till now = {}\".format(\n",
    "        len(train_pickups), len(train_pickups[0])\n",
    "    )\n",
    ")\n",
    "print(\n",
    "    \"Number of data points in test data = {}. Number of columns till now = {}\".format(\n",
    "        len(test_pickups), len(test_pickups[0])\n",
    "    )\n",
    ")"
   ]
  },
  {
   "cell_type": "code",
   "execution_count": 937,
   "metadata": {},
   "outputs": [],
   "source": [
    "# converting lists of lists into single list i.e flatten\n",
    "# a  = [[1,2,3,4],[4,6,7,8]]\n",
    "# [1, 2, 3, 4, 4, 6, 7, 8]\n",
    "\n",
    "train_flat_lat = sum(train_lat, [])\n",
    "train_flat_lon = sum(train_lon, [])\n",
    "train_flat_weekDay = sum(train_weekDay, [])\n",
    "train_weighted_avg_flat = sum(train_weighted_avg, [])\n",
    "train_TruePickups_flat = sum(train_TruePickups, [])\n",
    "\n",
    "test_flat_lat = sum(test_lat, [])\n",
    "test_flat_lon = sum(test_lon, [])\n",
    "test_flat_weekDay = sum(test_weekDay, [])\n",
    "test_weighted_avg_flat = sum(test_weighted_avg, [])\n",
    "test_TruePickups_flat = sum(test_TruePickups, [])"
   ]
  },
  {
   "cell_type": "code",
   "execution_count": 943,
   "metadata": {},
   "outputs": [],
   "source": [
    "# train dataframe\n",
    "columns = [\"ft_5\", \"ft_4\", \"ft_3\", \"ft_2\", \"ft_1\"]\n",
    "Train_DF_X = pd.DataFrame(data=train_pickups, columns=columns)\n",
    "Train_DF_X[\"Latitude\"] = train_flat_lat\n",
    "Train_DF_X[\"Longitude\"] = train_flat_lon\n",
    "Train_DF_X[\"WeekDay\"] = train_flat_weekDay\n",
    "Train_DF_X[\"WeightedAvg\"] = train_weighted_avg_flat"
   ]
  },
  {
   "cell_type": "code",
   "execution_count": 944,
   "metadata": {},
   "outputs": [],
   "source": [
    "# test dataframe\n",
    "Test_DF_X = pd.DataFrame(data=test_pickups, columns=columns)\n",
    "Test_DF_X[\"Latitude\"] = test_flat_lat\n",
    "Test_DF_X[\"Longitude\"] = test_flat_lon\n",
    "Test_DF_X[\"WeekDay\"] = test_flat_weekDay\n",
    "Test_DF_X[\"WeightedAvg\"] = test_weighted_avg_flat"
   ]
  },
  {
   "cell_type": "code",
   "execution_count": 951,
   "metadata": {},
   "outputs": [
    {
     "name": "stdout",
     "output_type": "stream",
     "text": [
      "Shape of train X data =  (82410, 9)\n",
      "Shape of test X data =  (20610, 9)\n"
     ]
    }
   ],
   "source": [
    "print(\"Shape of train X data = \", Train_DF_X.shape)\n",
    "print(\"Shape of test X data = \", Test_DF_X.shape)"
   ]
  },
  {
   "cell_type": "code",
   "execution_count": 946,
   "metadata": {},
   "outputs": [
    {
     "data": {
      "text/html": [
       "<div>\n",
       "<style scoped>\n",
       "    .dataframe tbody tr th:only-of-type {\n",
       "        vertical-align: middle;\n",
       "    }\n",
       "\n",
       "    .dataframe tbody tr th {\n",
       "        vertical-align: top;\n",
       "    }\n",
       "\n",
       "    .dataframe thead th {\n",
       "        text-align: right;\n",
       "    }\n",
       "</style>\n",
       "<table border=\"1\" class=\"dataframe\">\n",
       "  <thead>\n",
       "    <tr style=\"text-align: right;\">\n",
       "      <th></th>\n",
       "      <th>ft_5</th>\n",
       "      <th>ft_4</th>\n",
       "      <th>ft_3</th>\n",
       "      <th>ft_2</th>\n",
       "      <th>ft_1</th>\n",
       "      <th>Latitude</th>\n",
       "      <th>Longitude</th>\n",
       "      <th>WeekDay</th>\n",
       "      <th>WeightedAvg</th>\n",
       "    </tr>\n",
       "  </thead>\n",
       "  <tbody>\n",
       "    <tr>\n",
       "      <th>0</th>\n",
       "      <td>6</td>\n",
       "      <td>1</td>\n",
       "      <td>0</td>\n",
       "      <td>1</td>\n",
       "      <td>1</td>\n",
       "      <td>37.793353</td>\n",
       "      <td>-122.39632</td>\n",
       "      <td>5</td>\n",
       "      <td>1</td>\n",
       "    </tr>\n",
       "    <tr>\n",
       "      <th>1</th>\n",
       "      <td>1</td>\n",
       "      <td>0</td>\n",
       "      <td>1</td>\n",
       "      <td>1</td>\n",
       "      <td>3</td>\n",
       "      <td>37.793353</td>\n",
       "      <td>-122.39632</td>\n",
       "      <td>5</td>\n",
       "      <td>2</td>\n",
       "    </tr>\n",
       "    <tr>\n",
       "      <th>2</th>\n",
       "      <td>0</td>\n",
       "      <td>1</td>\n",
       "      <td>1</td>\n",
       "      <td>3</td>\n",
       "      <td>0</td>\n",
       "      <td>37.793353</td>\n",
       "      <td>-122.39632</td>\n",
       "      <td>5</td>\n",
       "      <td>1</td>\n",
       "    </tr>\n",
       "    <tr>\n",
       "      <th>3</th>\n",
       "      <td>1</td>\n",
       "      <td>1</td>\n",
       "      <td>3</td>\n",
       "      <td>0</td>\n",
       "      <td>2</td>\n",
       "      <td>37.793353</td>\n",
       "      <td>-122.39632</td>\n",
       "      <td>5</td>\n",
       "      <td>1</td>\n",
       "    </tr>\n",
       "    <tr>\n",
       "      <th>4</th>\n",
       "      <td>1</td>\n",
       "      <td>3</td>\n",
       "      <td>0</td>\n",
       "      <td>2</td>\n",
       "      <td>0</td>\n",
       "      <td>37.793353</td>\n",
       "      <td>-122.39632</td>\n",
       "      <td>5</td>\n",
       "      <td>0</td>\n",
       "    </tr>\n",
       "  </tbody>\n",
       "</table>\n",
       "</div>"
      ],
      "text/plain": [
       "   ft_5  ft_4  ft_3  ft_2  ft_1   Latitude  Longitude  WeekDay  WeightedAvg\n",
       "0     6     1     0     1     1  37.793353 -122.39632        5            1\n",
       "1     1     0     1     1     3  37.793353 -122.39632        5            2\n",
       "2     0     1     1     3     0  37.793353 -122.39632        5            1\n",
       "3     1     1     3     0     2  37.793353 -122.39632        5            1\n",
       "4     1     3     0     2     0  37.793353 -122.39632        5            0"
      ]
     },
     "execution_count": 946,
     "metadata": {},
     "output_type": "execute_result"
    }
   ],
   "source": [
    "Train_DF_X.head()"
   ]
  },
  {
   "cell_type": "code",
   "execution_count": 947,
   "metadata": {},
   "outputs": [
    {
     "data": {
      "text/html": [
       "<div>\n",
       "<style scoped>\n",
       "    .dataframe tbody tr th:only-of-type {\n",
       "        vertical-align: middle;\n",
       "    }\n",
       "\n",
       "    .dataframe tbody tr th {\n",
       "        vertical-align: top;\n",
       "    }\n",
       "\n",
       "    .dataframe thead th {\n",
       "        text-align: right;\n",
       "    }\n",
       "</style>\n",
       "<table border=\"1\" class=\"dataframe\">\n",
       "  <thead>\n",
       "    <tr style=\"text-align: right;\">\n",
       "      <th></th>\n",
       "      <th>ft_5</th>\n",
       "      <th>ft_4</th>\n",
       "      <th>ft_3</th>\n",
       "      <th>ft_2</th>\n",
       "      <th>ft_1</th>\n",
       "      <th>Latitude</th>\n",
       "      <th>Longitude</th>\n",
       "      <th>WeekDay</th>\n",
       "      <th>WeightedAvg</th>\n",
       "    </tr>\n",
       "  </thead>\n",
       "  <tbody>\n",
       "    <tr>\n",
       "      <th>0</th>\n",
       "      <td>1</td>\n",
       "      <td>0</td>\n",
       "      <td>3</td>\n",
       "      <td>0</td>\n",
       "      <td>2</td>\n",
       "      <td>37.793353</td>\n",
       "      <td>-122.39632</td>\n",
       "      <td>3</td>\n",
       "      <td>1</td>\n",
       "    </tr>\n",
       "    <tr>\n",
       "      <th>1</th>\n",
       "      <td>0</td>\n",
       "      <td>3</td>\n",
       "      <td>0</td>\n",
       "      <td>2</td>\n",
       "      <td>1</td>\n",
       "      <td>37.793353</td>\n",
       "      <td>-122.39632</td>\n",
       "      <td>3</td>\n",
       "      <td>1</td>\n",
       "    </tr>\n",
       "    <tr>\n",
       "      <th>2</th>\n",
       "      <td>3</td>\n",
       "      <td>0</td>\n",
       "      <td>2</td>\n",
       "      <td>1</td>\n",
       "      <td>3</td>\n",
       "      <td>37.793353</td>\n",
       "      <td>-122.39632</td>\n",
       "      <td>3</td>\n",
       "      <td>2</td>\n",
       "    </tr>\n",
       "    <tr>\n",
       "      <th>3</th>\n",
       "      <td>0</td>\n",
       "      <td>2</td>\n",
       "      <td>1</td>\n",
       "      <td>3</td>\n",
       "      <td>1</td>\n",
       "      <td>37.793353</td>\n",
       "      <td>-122.39632</td>\n",
       "      <td>3</td>\n",
       "      <td>1</td>\n",
       "    </tr>\n",
       "    <tr>\n",
       "      <th>4</th>\n",
       "      <td>2</td>\n",
       "      <td>1</td>\n",
       "      <td>3</td>\n",
       "      <td>1</td>\n",
       "      <td>0</td>\n",
       "      <td>37.793353</td>\n",
       "      <td>-122.39632</td>\n",
       "      <td>3</td>\n",
       "      <td>0</td>\n",
       "    </tr>\n",
       "  </tbody>\n",
       "</table>\n",
       "</div>"
      ],
      "text/plain": [
       "   ft_5  ft_4  ft_3  ft_2  ft_1   Latitude  Longitude  WeekDay  WeightedAvg\n",
       "0     1     0     3     0     2  37.793353 -122.39632        3            1\n",
       "1     0     3     0     2     1  37.793353 -122.39632        3            1\n",
       "2     3     0     2     1     3  37.793353 -122.39632        3            2\n",
       "3     0     2     1     3     1  37.793353 -122.39632        3            1\n",
       "4     2     1     3     1     0  37.793353 -122.39632        3            0"
      ]
     },
     "execution_count": 947,
     "metadata": {},
     "output_type": "execute_result"
    }
   ],
   "source": [
    "Test_DF_X.head()"
   ]
  },
  {
   "cell_type": "code",
   "execution_count": 954,
   "metadata": {},
   "outputs": [
    {
     "name": "stdout",
     "output_type": "stream",
     "text": [
      "Shape of train Y data =  82410\n",
      "Shape of test Y data =  20610\n"
     ]
    }
   ],
   "source": [
    "Train_DF_Y = train_TruePickups_flat\n",
    "Test_DF_Y = test_TruePickups_flat\n",
    "\n",
    "print(\"Shape of train Y data = \", len(Train_DF_Y))\n",
    "print(\"Shape of test Y data = \", len(Test_DF_Y))"
   ]
  },
  {
   "cell_type": "markdown",
   "metadata": {},
   "source": [
    "## 4.3 Modeling\n",
    "\n",
    "Now we get into modelling in order to forecast the pickup volume in different timebins in our data."
   ]
  },
  {
   "cell_type": "markdown",
   "metadata": {},
   "source": [
    "### 4.3.1 Linear Regression"
   ]
  },
  {
   "cell_type": "code",
   "execution_count": 955,
   "metadata": {},
   "outputs": [],
   "source": [
    "def lin_regression(train_data, train_true, test_data, test_true):\n",
    "\n",
    "    # standardizing the data\n",
    "    train_std = StandardScaler().fit_transform(train_data)\n",
    "    test_std = StandardScaler().fit_transform(test_data)\n",
    "\n",
    "    # hyper-paramater tuning\n",
    "    clf = SGDRegressor(loss=\"squared_loss\", penalty=\"l2\")\n",
    "    values = [\n",
    "        10 ** -14,\n",
    "        10 ** -12,\n",
    "        10 ** -10,\n",
    "        10 ** -8,\n",
    "        10 ** -6,\n",
    "        10 ** -4,\n",
    "        10 ** -2,\n",
    "        10 ** 0,\n",
    "        10 ** 2,\n",
    "        10 ** 4,\n",
    "        10 ** 6,\n",
    "    ]\n",
    "    hyper_parameter = {\"alpha\": values}\n",
    "    best_parameter = GridSearchCV(\n",
    "        clf, hyper_parameter, scoring=\"neg_mean_absolute_error\", cv=3\n",
    "    )\n",
    "    best_parameter.fit(train_std, train_true)\n",
    "    alpha = best_parameter.best_params_[\"alpha\"]\n",
    "\n",
    "    # applying linear regression with best hyper-parameter\n",
    "    clf = SGDRegressor(loss=\"squared_loss\", penalty=\"l2\", alpha=alpha)\n",
    "    clf.fit(train_std, train_true)\n",
    "    train_pred = clf.predict(train_std)\n",
    "    train_MAPE = mean_absolute_error(train_true, train_pred) / (\n",
    "        sum(train_true) / len(train_true)\n",
    "    )\n",
    "    train_MSE = mean_squared_error(train_true, train_pred)\n",
    "    test_pred = clf.predict(test_std)\n",
    "    test_MAPE = mean_absolute_error(test_true, test_pred) / (\n",
    "        sum(test_true) / len(test_true)\n",
    "    )\n",
    "    test_MSE = mean_squared_error(test_true, test_pred)\n",
    "\n",
    "    return train_MAPE, train_MSE, test_MAPE, test_MSE"
   ]
  },
  {
   "cell_type": "code",
   "execution_count": 969,
   "metadata": {},
   "outputs": [],
   "source": [
    "trainMAPE_lr, trainMSE_lr, testMAPE_lr, testMSE_lr = lin_regression(\n",
    "    Train_DF_X, Train_DF_Y, Test_DF_X, Test_DF_Y\n",
    ")"
   ]
  },
  {
   "cell_type": "code",
   "execution_count": 986,
   "metadata": {},
   "outputs": [
    {
     "name": "stdout",
     "output_type": "stream",
     "text": [
      "trainMAPE_lr:  0.4343871172782907 , trainMSE_lr:  7.578117314192454 , testMAPE_lr:  0.428710008818996 , testMSE_lr:  8.542663942432107\n"
     ]
    }
   ],
   "source": [
    "print(\"trainMAPE_lr: \", trainMAPE_lr, \", trainMSE_lr: \", trainMSE_lr, \", testMAPE_lr: \", testMAPE_lr, \", testMSE_lr: \", testMSE_lr)"
   ]
  },
  {
   "cell_type": "markdown",
   "metadata": {},
   "source": [
    "### 4.3.2 Random forest regressor"
   ]
  },
  {
   "cell_type": "code",
   "execution_count": 956,
   "metadata": {},
   "outputs": [],
   "source": [
    "def randomFor(train_data, train_true, test_data, test_true):\n",
    "\n",
    "    # hyper-paramater tuning\n",
    "    values = [10, 40, 80, 150, 600, 800]\n",
    "    clf = RandomForestRegressor(n_jobs=-1)\n",
    "    hyper_parameter = {\"n_estimators\": values}\n",
    "    best_parameter = GridSearchCV(\n",
    "        clf, hyper_parameter, scoring=\"neg_mean_absolute_error\", cv=3\n",
    "    )\n",
    "    best_parameter.fit(train_data, train_true)\n",
    "    estimators = best_parameter.best_params_[\"n_estimators\"]\n",
    "\n",
    "    # applying random forest with best hyper-parameter\n",
    "    clf = RandomForestRegressor(n_estimators=estimators, n_jobs=-1)\n",
    "    clf.fit(train_data, train_true)\n",
    "    train_pred = clf.predict(train_data)\n",
    "    train_MAPE = mean_absolute_error(train_true, train_pred) / (\n",
    "        sum(train_true) / len(train_true)\n",
    "    )\n",
    "    train_MSE = mean_squared_error(train_true, train_pred)\n",
    "    test_pred = clf.predict(test_data)\n",
    "    test_MAPE = mean_absolute_error(test_true, test_pred) / (\n",
    "        sum(test_true) / len(test_true)\n",
    "    )\n",
    "    test_MSE = mean_squared_error(test_true, test_pred)\n",
    "\n",
    "    return train_MAPE, train_MSE, test_MAPE, test_MSE"
   ]
  },
  {
   "cell_type": "code",
   "execution_count": 970,
   "metadata": {},
   "outputs": [],
   "source": [
    "trainMAPE_rf, trainMSE_rf, testMAPE_rf, testMSE_rf = randomFor(\n",
    "    Train_DF_X, Train_DF_Y, Test_DF_X, Test_DF_Y\n",
    ")"
   ]
  },
  {
   "cell_type": "code",
   "execution_count": 985,
   "metadata": {},
   "outputs": [
    {
     "name": "stdout",
     "output_type": "stream",
     "text": [
      "trainMAPE_rf:  0.17645423173973357 , trainMSE_rf:  1.2181400730979595 , testMAPE_rf:  0.43708586443667524 , testMSE_rf:  8.594722137969955\n"
     ]
    }
   ],
   "source": [
    "print(\"trainMAPE_rf: \", trainMAPE_rf, \", trainMSE_rf: \", trainMSE_rf, \", testMAPE_rf: \", testMAPE_rf, \", testMSE_rf: \", testMSE_rf)"
   ]
  },
  {
   "cell_type": "markdown",
   "metadata": {},
   "source": [
    "### 4.3.3 XGBoost Regressor"
   ]
  },
  {
   "cell_type": "code",
   "execution_count": 957,
   "metadata": {},
   "outputs": [],
   "source": [
    "def xgboost_reg(train_data, train_true, test_data, test_true):\n",
    "    # hyper-parameter tuning\n",
    "    hyper_parameter = {\"max_depth\": [1, 2, 3, 4], \"n_estimators\": [40, 80, 150, 600]}\n",
    "    clf = xgb.XGBRegressor()\n",
    "    best_parameter = GridSearchCV(\n",
    "        clf, hyper_parameter, scoring=\"neg_mean_absolute_error\", cv=3\n",
    "    )\n",
    "    best_parameter.fit(train_data, train_true)\n",
    "    estimators = best_parameter.best_params_[\"n_estimators\"]\n",
    "    depth = best_parameter.best_params_[\"max_depth\"]\n",
    "\n",
    "    # applying xgboost regressor with best hyper-parameter\n",
    "    clf = xgb.XGBRegressor(max_depth=depth, n_estimators=estimators)\n",
    "    clf.fit(train_data, train_true)\n",
    "    train_pred = clf.predict(train_data)\n",
    "    train_MAPE = mean_absolute_error(train_true, train_pred) / (\n",
    "        sum(train_true) / len(train_true)\n",
    "    )\n",
    "    train_MSE = mean_squared_error(train_true, train_pred)\n",
    "    test_pred = clf.predict(test_data)\n",
    "    test_MAPE = mean_absolute_error(test_true, test_pred) / (\n",
    "        sum(test_true) / len(test_true)\n",
    "    )\n",
    "    test_MSE = mean_squared_error(test_true, test_pred)\n",
    "\n",
    "    return train_MAPE, train_MSE, test_MAPE, test_MSE"
   ]
  },
  {
   "cell_type": "code",
   "execution_count": 972,
   "metadata": {},
   "outputs": [],
   "source": [
    "trainMAPE_xgb, trainMSE_xgb, testMAPE_xgb, testMSE_xgb = xgboost_reg(\n",
    "    Train_DF_X, Train_DF_Y, Test_DF_X, Test_DF_Y\n",
    ")"
   ]
  },
  {
   "cell_type": "code",
   "execution_count": 984,
   "metadata": {},
   "outputs": [
    {
     "name": "stdout",
     "output_type": "stream",
     "text": [
      "trainMAPE_xgb:  0.4280273262170355 , trainMSE_xgb:  7.2813673865380295 , testMAPE_xgb:  0.4235691068429361 , testMSE_xgb:  8.128460658053351\n"
     ]
    }
   ],
   "source": [
    "print(\"trainMAPE_xgb: \", trainMAPE_xgb, \", trainMSE_xgb: \", trainMSE_xgb, \", testMAPE_xgb: \", testMAPE_xgb, \", testMSE_xgb: \", testMSE_xgb)"
   ]
  },
  {
   "cell_type": "markdown",
   "metadata": {},
   "source": [
    "### 4.3.4 Model comparisor"
   ]
  },
  {
   "cell_type": "code",
   "execution_count": 973,
   "metadata": {},
   "outputs": [],
   "source": [
    "error_table_regressions = pd.DataFrame(\n",
    "    columns=[\"Model\", \"TrainMAPE(%)\", \"TrainMSE\", \"TestMAPE(%)\", \"TestMSE\"]\n",
    ")\n",
    "\n",
    "error_table_regressions = error_table_regressions.append(\n",
    "    pd.DataFrame(\n",
    "        [\n",
    "            [\n",
    "                \"Linear Regression\",\n",
    "                trainMAPE_lr * 100,\n",
    "                trainMSE_lr,\n",
    "                testMAPE_lr * 100,\n",
    "                testMSE_lr,\n",
    "            ]\n",
    "        ],\n",
    "        columns=[\"Model\", \"TrainMAPE(%)\", \"TrainMSE\", \"TestMAPE(%)\", \"TestMSE\"],\n",
    "    )\n",
    ")\n",
    "error_table_regressions = error_table_regressions.append(\n",
    "    pd.DataFrame(\n",
    "        [\n",
    "            [\n",
    "                \"Random Forest Regressor\",\n",
    "                trainMAPE_rf * 100,\n",
    "                trainMSE_rf,\n",
    "                testMAPE_rf * 100,\n",
    "                testMSE_rf,\n",
    "            ]\n",
    "        ],\n",
    "        columns=[\"Model\", \"TrainMAPE(%)\", \"TrainMSE\", \"TestMAPE(%)\", \"TestMSE\"],\n",
    "    )\n",
    ")\n",
    "error_table_regressions = error_table_regressions.append(\n",
    "    pd.DataFrame(\n",
    "        [\n",
    "            [\n",
    "                \"XGBoost Regressor\",\n",
    "                trainMAPE_xgb * 100,\n",
    "                trainMSE_xgb,\n",
    "                testMAPE_xgb * 100,\n",
    "                testMSE_xgb,\n",
    "            ]\n",
    "        ],\n",
    "        columns=[\"Model\", \"TrainMAPE(%)\", \"TrainMSE\", \"TestMAPE(%)\", \"TestMSE\"],\n",
    "    )\n",
    ")\n",
    "error_table_regressions.reset_index(drop=True, inplace=True)"
   ]
  },
  {
   "cell_type": "code",
   "execution_count": 974,
   "metadata": {},
   "outputs": [],
   "source": [
    "Final_Table_MAPE = pd.DataFrame(columns=[\"Model\", \"Mean_Absolute_Per_Error(%)\"])\n",
    "\n",
    "Final_Table_MAPE = Final_Table_MAPE.append(\n",
    "    pd.DataFrame(\n",
    "        [[\"Linear Regression\", testMAPE_lr * 100]],\n",
    "        columns=[\"Model\", \"Mean_Absolute_Per_Error(%)\"],\n",
    "    )\n",
    ")\n",
    "Final_Table_MAPE = Final_Table_MAPE.append(\n",
    "    pd.DataFrame(\n",
    "        [[\"Random Forest Regressor\", testMAPE_rf * 100]],\n",
    "        columns=[\"Model\", \"Mean_Absolute_Per_Error(%)\"],\n",
    "    )\n",
    ")\n",
    "Final_Table_MAPE = Final_Table_MAPE.append(\n",
    "    pd.DataFrame(\n",
    "        [[\"XGBoost Regressor\", testMAPE_xgb * 100]],\n",
    "        columns=[\"Model\", \"Mean_Absolute_Per_Error(%)\"],\n",
    "    )\n",
    ")\n",
    "\n",
    "Final_Table_MAPE.reset_index(drop=True, inplace=True)"
   ]
  },
  {
   "cell_type": "code",
   "execution_count": 994,
   "metadata": {},
   "outputs": [],
   "source": [
    "Final_Table_RMSE = pd.DataFrame(columns=[\"Model\", \"Train_Root_Mean_Square_Error\", \"Test_Root_Mean_Square_Error\"])\n",
    "\n",
    "Final_Table_RMSE = Final_Table_RMSE.append(\n",
    "    pd.DataFrame(\n",
    "        [[\"Linear Regression\", np.sqrt(trainMSE_lr), np.sqrt(testMSE_lr)]],\n",
    "        columns=[\"Model\", \"Train_Root_Mean_Square_Error\", \"Test_Root_Mean_Square_Error\"],\n",
    "    )\n",
    ")\n",
    "Final_Table_RMSE = Final_Table_RMSE.append(\n",
    "    pd.DataFrame(\n",
    "        [[\"Random Forest Regressor\", np.sqrt(trainMSE_rf), np.sqrt(testMSE_rf)]],\n",
    "        columns=[\"Model\", \"Train_Root_Mean_Square_Error\", \"Test_Root_Mean_Square_Error\"],\n",
    "    )\n",
    ")\n",
    "Final_Table_RMSE = Final_Table_RMSE.append(\n",
    "    pd.DataFrame(\n",
    "        [[\"XGBoost Regressor\", np.sqrt(trainMSE_xgb), np.sqrt(testMSE_xgb)]],\n",
    "        columns=[\"Model\", \"Train_Root_Mean_Square_Error\", \"Test_Root_Mean_Square_Error\"],\n",
    "    )\n",
    ")\n",
    "\n",
    "Final_Table_RMSE.reset_index(drop=True, inplace=True)"
   ]
  },
  {
   "cell_type": "code",
   "execution_count": 995,
   "metadata": {},
   "outputs": [
    {
     "data": {
      "text/html": [
       "<div>\n",
       "<style scoped>\n",
       "    .dataframe tbody tr th:only-of-type {\n",
       "        vertical-align: middle;\n",
       "    }\n",
       "\n",
       "    .dataframe tbody tr th {\n",
       "        vertical-align: top;\n",
       "    }\n",
       "\n",
       "    .dataframe thead th {\n",
       "        text-align: right;\n",
       "    }\n",
       "</style>\n",
       "<table border=\"1\" class=\"dataframe\">\n",
       "  <thead>\n",
       "    <tr style=\"text-align: right;\">\n",
       "      <th></th>\n",
       "      <th>Model</th>\n",
       "      <th>Train_Root_Mean_Square_Error</th>\n",
       "      <th>Test_Root_Mean_Square_Error</th>\n",
       "    </tr>\n",
       "  </thead>\n",
       "  <tbody>\n",
       "    <tr>\n",
       "      <th>0</th>\n",
       "      <td>Linear Regression</td>\n",
       "      <td>2.752838</td>\n",
       "      <td>2.922784</td>\n",
       "    </tr>\n",
       "    <tr>\n",
       "      <th>1</th>\n",
       "      <td>Random Forest Regressor</td>\n",
       "      <td>1.103694</td>\n",
       "      <td>2.931676</td>\n",
       "    </tr>\n",
       "    <tr>\n",
       "      <th>2</th>\n",
       "      <td>XGBoost Regressor</td>\n",
       "      <td>2.698401</td>\n",
       "      <td>2.851046</td>\n",
       "    </tr>\n",
       "  </tbody>\n",
       "</table>\n",
       "</div>"
      ],
      "text/plain": [
       "                     Model  Train_Root_Mean_Square_Error  \\\n",
       "0        Linear Regression                      2.752838   \n",
       "1  Random Forest Regressor                      1.103694   \n",
       "2        XGBoost Regressor                      2.698401   \n",
       "\n",
       "   Test_Root_Mean_Square_Error  \n",
       "0                     2.922784  \n",
       "1                     2.931676  \n",
       "2                     2.851046  "
      ]
     },
     "execution_count": 995,
     "metadata": {},
     "output_type": "execute_result"
    }
   ],
   "source": [
    "Final_Table_RMSE"
   ]
  },
  {
   "cell_type": "code",
   "execution_count": 1001,
   "metadata": {},
   "outputs": [
    {
     "data": {
      "text/plain": [
       "[2.752838047214629, 1.10369383123127, 2.698400894333166]"
      ]
     },
     "execution_count": 1001,
     "metadata": {},
     "output_type": "execute_result"
    }
   ],
   "source": [
    "Final_Table_RMSE.Train_Root_Mean_Square_Error.values.tolist()"
   ]
  },
  {
   "cell_type": "code",
   "execution_count": 1005,
   "metadata": {},
   "outputs": [
    {
     "data": {
      "application/javascript": [
       "/* Put everything inside the global mpl namespace */\n",
       "window.mpl = {};\n",
       "\n",
       "\n",
       "mpl.get_websocket_type = function() {\n",
       "    if (typeof(WebSocket) !== 'undefined') {\n",
       "        return WebSocket;\n",
       "    } else if (typeof(MozWebSocket) !== 'undefined') {\n",
       "        return MozWebSocket;\n",
       "    } else {\n",
       "        alert('Your browser does not have WebSocket support. ' +\n",
       "              'Please try Chrome, Safari or Firefox ≥ 6. ' +\n",
       "              'Firefox 4 and 5 are also supported but you ' +\n",
       "              'have to enable WebSockets in about:config.');\n",
       "    };\n",
       "}\n",
       "\n",
       "mpl.figure = function(figure_id, websocket, ondownload, parent_element) {\n",
       "    this.id = figure_id;\n",
       "\n",
       "    this.ws = websocket;\n",
       "\n",
       "    this.supports_binary = (this.ws.binaryType != undefined);\n",
       "\n",
       "    if (!this.supports_binary) {\n",
       "        var warnings = document.getElementById(\"mpl-warnings\");\n",
       "        if (warnings) {\n",
       "            warnings.style.display = 'block';\n",
       "            warnings.textContent = (\n",
       "                \"This browser does not support binary websocket messages. \" +\n",
       "                    \"Performance may be slow.\");\n",
       "        }\n",
       "    }\n",
       "\n",
       "    this.imageObj = new Image();\n",
       "\n",
       "    this.context = undefined;\n",
       "    this.message = undefined;\n",
       "    this.canvas = undefined;\n",
       "    this.rubberband_canvas = undefined;\n",
       "    this.rubberband_context = undefined;\n",
       "    this.format_dropdown = undefined;\n",
       "\n",
       "    this.image_mode = 'full';\n",
       "\n",
       "    this.root = $('<div/>');\n",
       "    this._root_extra_style(this.root)\n",
       "    this.root.attr('style', 'display: inline-block');\n",
       "\n",
       "    $(parent_element).append(this.root);\n",
       "\n",
       "    this._init_header(this);\n",
       "    this._init_canvas(this);\n",
       "    this._init_toolbar(this);\n",
       "\n",
       "    var fig = this;\n",
       "\n",
       "    this.waiting = false;\n",
       "\n",
       "    this.ws.onopen =  function () {\n",
       "            fig.send_message(\"supports_binary\", {value: fig.supports_binary});\n",
       "            fig.send_message(\"send_image_mode\", {});\n",
       "            if (mpl.ratio != 1) {\n",
       "                fig.send_message(\"set_dpi_ratio\", {'dpi_ratio': mpl.ratio});\n",
       "            }\n",
       "            fig.send_message(\"refresh\", {});\n",
       "        }\n",
       "\n",
       "    this.imageObj.onload = function() {\n",
       "            if (fig.image_mode == 'full') {\n",
       "                // Full images could contain transparency (where diff images\n",
       "                // almost always do), so we need to clear the canvas so that\n",
       "                // there is no ghosting.\n",
       "                fig.context.clearRect(0, 0, fig.canvas.width, fig.canvas.height);\n",
       "            }\n",
       "            fig.context.drawImage(fig.imageObj, 0, 0);\n",
       "        };\n",
       "\n",
       "    this.imageObj.onunload = function() {\n",
       "        fig.ws.close();\n",
       "    }\n",
       "\n",
       "    this.ws.onmessage = this._make_on_message_function(this);\n",
       "\n",
       "    this.ondownload = ondownload;\n",
       "}\n",
       "\n",
       "mpl.figure.prototype._init_header = function() {\n",
       "    var titlebar = $(\n",
       "        '<div class=\"ui-dialog-titlebar ui-widget-header ui-corner-all ' +\n",
       "        'ui-helper-clearfix\"/>');\n",
       "    var titletext = $(\n",
       "        '<div class=\"ui-dialog-title\" style=\"width: 100%; ' +\n",
       "        'text-align: center; padding: 3px;\"/>');\n",
       "    titlebar.append(titletext)\n",
       "    this.root.append(titlebar);\n",
       "    this.header = titletext[0];\n",
       "}\n",
       "\n",
       "\n",
       "\n",
       "mpl.figure.prototype._canvas_extra_style = function(canvas_div) {\n",
       "\n",
       "}\n",
       "\n",
       "\n",
       "mpl.figure.prototype._root_extra_style = function(canvas_div) {\n",
       "\n",
       "}\n",
       "\n",
       "mpl.figure.prototype._init_canvas = function() {\n",
       "    var fig = this;\n",
       "\n",
       "    var canvas_div = $('<div/>');\n",
       "\n",
       "    canvas_div.attr('style', 'position: relative; clear: both; outline: 0');\n",
       "\n",
       "    function canvas_keyboard_event(event) {\n",
       "        return fig.key_event(event, event['data']);\n",
       "    }\n",
       "\n",
       "    canvas_div.keydown('key_press', canvas_keyboard_event);\n",
       "    canvas_div.keyup('key_release', canvas_keyboard_event);\n",
       "    this.canvas_div = canvas_div\n",
       "    this._canvas_extra_style(canvas_div)\n",
       "    this.root.append(canvas_div);\n",
       "\n",
       "    var canvas = $('<canvas/>');\n",
       "    canvas.addClass('mpl-canvas');\n",
       "    canvas.attr('style', \"left: 0; top: 0; z-index: 0; outline: 0\")\n",
       "\n",
       "    this.canvas = canvas[0];\n",
       "    this.context = canvas[0].getContext(\"2d\");\n",
       "\n",
       "    var backingStore = this.context.backingStorePixelRatio ||\n",
       "\tthis.context.webkitBackingStorePixelRatio ||\n",
       "\tthis.context.mozBackingStorePixelRatio ||\n",
       "\tthis.context.msBackingStorePixelRatio ||\n",
       "\tthis.context.oBackingStorePixelRatio ||\n",
       "\tthis.context.backingStorePixelRatio || 1;\n",
       "\n",
       "    mpl.ratio = (window.devicePixelRatio || 1) / backingStore;\n",
       "\n",
       "    var rubberband = $('<canvas/>');\n",
       "    rubberband.attr('style', \"position: absolute; left: 0; top: 0; z-index: 1;\")\n",
       "\n",
       "    var pass_mouse_events = true;\n",
       "\n",
       "    canvas_div.resizable({\n",
       "        start: function(event, ui) {\n",
       "            pass_mouse_events = false;\n",
       "        },\n",
       "        resize: function(event, ui) {\n",
       "            fig.request_resize(ui.size.width, ui.size.height);\n",
       "        },\n",
       "        stop: function(event, ui) {\n",
       "            pass_mouse_events = true;\n",
       "            fig.request_resize(ui.size.width, ui.size.height);\n",
       "        },\n",
       "    });\n",
       "\n",
       "    function mouse_event_fn(event) {\n",
       "        if (pass_mouse_events)\n",
       "            return fig.mouse_event(event, event['data']);\n",
       "    }\n",
       "\n",
       "    rubberband.mousedown('button_press', mouse_event_fn);\n",
       "    rubberband.mouseup('button_release', mouse_event_fn);\n",
       "    // Throttle sequential mouse events to 1 every 20ms.\n",
       "    rubberband.mousemove('motion_notify', mouse_event_fn);\n",
       "\n",
       "    rubberband.mouseenter('figure_enter', mouse_event_fn);\n",
       "    rubberband.mouseleave('figure_leave', mouse_event_fn);\n",
       "\n",
       "    canvas_div.on(\"wheel\", function (event) {\n",
       "        event = event.originalEvent;\n",
       "        event['data'] = 'scroll'\n",
       "        if (event.deltaY < 0) {\n",
       "            event.step = 1;\n",
       "        } else {\n",
       "            event.step = -1;\n",
       "        }\n",
       "        mouse_event_fn(event);\n",
       "    });\n",
       "\n",
       "    canvas_div.append(canvas);\n",
       "    canvas_div.append(rubberband);\n",
       "\n",
       "    this.rubberband = rubberband;\n",
       "    this.rubberband_canvas = rubberband[0];\n",
       "    this.rubberband_context = rubberband[0].getContext(\"2d\");\n",
       "    this.rubberband_context.strokeStyle = \"#000000\";\n",
       "\n",
       "    this._resize_canvas = function(width, height) {\n",
       "        // Keep the size of the canvas, canvas container, and rubber band\n",
       "        // canvas in synch.\n",
       "        canvas_div.css('width', width)\n",
       "        canvas_div.css('height', height)\n",
       "\n",
       "        canvas.attr('width', width * mpl.ratio);\n",
       "        canvas.attr('height', height * mpl.ratio);\n",
       "        canvas.attr('style', 'width: ' + width + 'px; height: ' + height + 'px;');\n",
       "\n",
       "        rubberband.attr('width', width);\n",
       "        rubberband.attr('height', height);\n",
       "    }\n",
       "\n",
       "    // Set the figure to an initial 600x600px, this will subsequently be updated\n",
       "    // upon first draw.\n",
       "    this._resize_canvas(600, 600);\n",
       "\n",
       "    // Disable right mouse context menu.\n",
       "    $(this.rubberband_canvas).bind(\"contextmenu\",function(e){\n",
       "        return false;\n",
       "    });\n",
       "\n",
       "    function set_focus () {\n",
       "        canvas.focus();\n",
       "        canvas_div.focus();\n",
       "    }\n",
       "\n",
       "    window.setTimeout(set_focus, 100);\n",
       "}\n",
       "\n",
       "mpl.figure.prototype._init_toolbar = function() {\n",
       "    var fig = this;\n",
       "\n",
       "    var nav_element = $('<div/>');\n",
       "    nav_element.attr('style', 'width: 100%');\n",
       "    this.root.append(nav_element);\n",
       "\n",
       "    // Define a callback function for later on.\n",
       "    function toolbar_event(event) {\n",
       "        return fig.toolbar_button_onclick(event['data']);\n",
       "    }\n",
       "    function toolbar_mouse_event(event) {\n",
       "        return fig.toolbar_button_onmouseover(event['data']);\n",
       "    }\n",
       "\n",
       "    for(var toolbar_ind in mpl.toolbar_items) {\n",
       "        var name = mpl.toolbar_items[toolbar_ind][0];\n",
       "        var tooltip = mpl.toolbar_items[toolbar_ind][1];\n",
       "        var image = mpl.toolbar_items[toolbar_ind][2];\n",
       "        var method_name = mpl.toolbar_items[toolbar_ind][3];\n",
       "\n",
       "        if (!name) {\n",
       "            // put a spacer in here.\n",
       "            continue;\n",
       "        }\n",
       "        var button = $('<button/>');\n",
       "        button.addClass('ui-button ui-widget ui-state-default ui-corner-all ' +\n",
       "                        'ui-button-icon-only');\n",
       "        button.attr('role', 'button');\n",
       "        button.attr('aria-disabled', 'false');\n",
       "        button.click(method_name, toolbar_event);\n",
       "        button.mouseover(tooltip, toolbar_mouse_event);\n",
       "\n",
       "        var icon_img = $('<span/>');\n",
       "        icon_img.addClass('ui-button-icon-primary ui-icon');\n",
       "        icon_img.addClass(image);\n",
       "        icon_img.addClass('ui-corner-all');\n",
       "\n",
       "        var tooltip_span = $('<span/>');\n",
       "        tooltip_span.addClass('ui-button-text');\n",
       "        tooltip_span.html(tooltip);\n",
       "\n",
       "        button.append(icon_img);\n",
       "        button.append(tooltip_span);\n",
       "\n",
       "        nav_element.append(button);\n",
       "    }\n",
       "\n",
       "    var fmt_picker_span = $('<span/>');\n",
       "\n",
       "    var fmt_picker = $('<select/>');\n",
       "    fmt_picker.addClass('mpl-toolbar-option ui-widget ui-widget-content');\n",
       "    fmt_picker_span.append(fmt_picker);\n",
       "    nav_element.append(fmt_picker_span);\n",
       "    this.format_dropdown = fmt_picker[0];\n",
       "\n",
       "    for (var ind in mpl.extensions) {\n",
       "        var fmt = mpl.extensions[ind];\n",
       "        var option = $(\n",
       "            '<option/>', {selected: fmt === mpl.default_extension}).html(fmt);\n",
       "        fmt_picker.append(option);\n",
       "    }\n",
       "\n",
       "    // Add hover states to the ui-buttons\n",
       "    $( \".ui-button\" ).hover(\n",
       "        function() { $(this).addClass(\"ui-state-hover\");},\n",
       "        function() { $(this).removeClass(\"ui-state-hover\");}\n",
       "    );\n",
       "\n",
       "    var status_bar = $('<span class=\"mpl-message\"/>');\n",
       "    nav_element.append(status_bar);\n",
       "    this.message = status_bar[0];\n",
       "}\n",
       "\n",
       "mpl.figure.prototype.request_resize = function(x_pixels, y_pixels) {\n",
       "    // Request matplotlib to resize the figure. Matplotlib will then trigger a resize in the client,\n",
       "    // which will in turn request a refresh of the image.\n",
       "    this.send_message('resize', {'width': x_pixels, 'height': y_pixels});\n",
       "}\n",
       "\n",
       "mpl.figure.prototype.send_message = function(type, properties) {\n",
       "    properties['type'] = type;\n",
       "    properties['figure_id'] = this.id;\n",
       "    this.ws.send(JSON.stringify(properties));\n",
       "}\n",
       "\n",
       "mpl.figure.prototype.send_draw_message = function() {\n",
       "    if (!this.waiting) {\n",
       "        this.waiting = true;\n",
       "        this.ws.send(JSON.stringify({type: \"draw\", figure_id: this.id}));\n",
       "    }\n",
       "}\n",
       "\n",
       "\n",
       "mpl.figure.prototype.handle_save = function(fig, msg) {\n",
       "    var format_dropdown = fig.format_dropdown;\n",
       "    var format = format_dropdown.options[format_dropdown.selectedIndex].value;\n",
       "    fig.ondownload(fig, format);\n",
       "}\n",
       "\n",
       "\n",
       "mpl.figure.prototype.handle_resize = function(fig, msg) {\n",
       "    var size = msg['size'];\n",
       "    if (size[0] != fig.canvas.width || size[1] != fig.canvas.height) {\n",
       "        fig._resize_canvas(size[0], size[1]);\n",
       "        fig.send_message(\"refresh\", {});\n",
       "    };\n",
       "}\n",
       "\n",
       "mpl.figure.prototype.handle_rubberband = function(fig, msg) {\n",
       "    var x0 = msg['x0'] / mpl.ratio;\n",
       "    var y0 = (fig.canvas.height - msg['y0']) / mpl.ratio;\n",
       "    var x1 = msg['x1'] / mpl.ratio;\n",
       "    var y1 = (fig.canvas.height - msg['y1']) / mpl.ratio;\n",
       "    x0 = Math.floor(x0) + 0.5;\n",
       "    y0 = Math.floor(y0) + 0.5;\n",
       "    x1 = Math.floor(x1) + 0.5;\n",
       "    y1 = Math.floor(y1) + 0.5;\n",
       "    var min_x = Math.min(x0, x1);\n",
       "    var min_y = Math.min(y0, y1);\n",
       "    var width = Math.abs(x1 - x0);\n",
       "    var height = Math.abs(y1 - y0);\n",
       "\n",
       "    fig.rubberband_context.clearRect(\n",
       "        0, 0, fig.canvas.width, fig.canvas.height);\n",
       "\n",
       "    fig.rubberband_context.strokeRect(min_x, min_y, width, height);\n",
       "}\n",
       "\n",
       "mpl.figure.prototype.handle_figure_label = function(fig, msg) {\n",
       "    // Updates the figure title.\n",
       "    fig.header.textContent = msg['label'];\n",
       "}\n",
       "\n",
       "mpl.figure.prototype.handle_cursor = function(fig, msg) {\n",
       "    var cursor = msg['cursor'];\n",
       "    switch(cursor)\n",
       "    {\n",
       "    case 0:\n",
       "        cursor = 'pointer';\n",
       "        break;\n",
       "    case 1:\n",
       "        cursor = 'default';\n",
       "        break;\n",
       "    case 2:\n",
       "        cursor = 'crosshair';\n",
       "        break;\n",
       "    case 3:\n",
       "        cursor = 'move';\n",
       "        break;\n",
       "    }\n",
       "    fig.rubberband_canvas.style.cursor = cursor;\n",
       "}\n",
       "\n",
       "mpl.figure.prototype.handle_message = function(fig, msg) {\n",
       "    fig.message.textContent = msg['message'];\n",
       "}\n",
       "\n",
       "mpl.figure.prototype.handle_draw = function(fig, msg) {\n",
       "    // Request the server to send over a new figure.\n",
       "    fig.send_draw_message();\n",
       "}\n",
       "\n",
       "mpl.figure.prototype.handle_image_mode = function(fig, msg) {\n",
       "    fig.image_mode = msg['mode'];\n",
       "}\n",
       "\n",
       "mpl.figure.prototype.updated_canvas_event = function() {\n",
       "    // Called whenever the canvas gets updated.\n",
       "    this.send_message(\"ack\", {});\n",
       "}\n",
       "\n",
       "// A function to construct a web socket function for onmessage handling.\n",
       "// Called in the figure constructor.\n",
       "mpl.figure.prototype._make_on_message_function = function(fig) {\n",
       "    return function socket_on_message(evt) {\n",
       "        if (evt.data instanceof Blob) {\n",
       "            /* FIXME: We get \"Resource interpreted as Image but\n",
       "             * transferred with MIME type text/plain:\" errors on\n",
       "             * Chrome.  But how to set the MIME type?  It doesn't seem\n",
       "             * to be part of the websocket stream */\n",
       "            evt.data.type = \"image/png\";\n",
       "\n",
       "            /* Free the memory for the previous frames */\n",
       "            if (fig.imageObj.src) {\n",
       "                (window.URL || window.webkitURL).revokeObjectURL(\n",
       "                    fig.imageObj.src);\n",
       "            }\n",
       "\n",
       "            fig.imageObj.src = (window.URL || window.webkitURL).createObjectURL(\n",
       "                evt.data);\n",
       "            fig.updated_canvas_event();\n",
       "            fig.waiting = false;\n",
       "            return;\n",
       "        }\n",
       "        else if (typeof evt.data === 'string' && evt.data.slice(0, 21) == \"data:image/png;base64\") {\n",
       "            fig.imageObj.src = evt.data;\n",
       "            fig.updated_canvas_event();\n",
       "            fig.waiting = false;\n",
       "            return;\n",
       "        }\n",
       "\n",
       "        var msg = JSON.parse(evt.data);\n",
       "        var msg_type = msg['type'];\n",
       "\n",
       "        // Call the  \"handle_{type}\" callback, which takes\n",
       "        // the figure and JSON message as its only arguments.\n",
       "        try {\n",
       "            var callback = fig[\"handle_\" + msg_type];\n",
       "        } catch (e) {\n",
       "            console.log(\"No handler for the '\" + msg_type + \"' message type: \", msg);\n",
       "            return;\n",
       "        }\n",
       "\n",
       "        if (callback) {\n",
       "            try {\n",
       "                // console.log(\"Handling '\" + msg_type + \"' message: \", msg);\n",
       "                callback(fig, msg);\n",
       "            } catch (e) {\n",
       "                console.log(\"Exception inside the 'handler_\" + msg_type + \"' callback:\", e, e.stack, msg);\n",
       "            }\n",
       "        }\n",
       "    };\n",
       "}\n",
       "\n",
       "// from http://stackoverflow.com/questions/1114465/getting-mouse-location-in-canvas\n",
       "mpl.findpos = function(e) {\n",
       "    //this section is from http://www.quirksmode.org/js/events_properties.html\n",
       "    var targ;\n",
       "    if (!e)\n",
       "        e = window.event;\n",
       "    if (e.target)\n",
       "        targ = e.target;\n",
       "    else if (e.srcElement)\n",
       "        targ = e.srcElement;\n",
       "    if (targ.nodeType == 3) // defeat Safari bug\n",
       "        targ = targ.parentNode;\n",
       "\n",
       "    // jQuery normalizes the pageX and pageY\n",
       "    // pageX,Y are the mouse positions relative to the document\n",
       "    // offset() returns the position of the element relative to the document\n",
       "    var x = e.pageX - $(targ).offset().left;\n",
       "    var y = e.pageY - $(targ).offset().top;\n",
       "\n",
       "    return {\"x\": x, \"y\": y};\n",
       "};\n",
       "\n",
       "/*\n",
       " * return a copy of an object with only non-object keys\n",
       " * we need this to avoid circular references\n",
       " * http://stackoverflow.com/a/24161582/3208463\n",
       " */\n",
       "function simpleKeys (original) {\n",
       "  return Object.keys(original).reduce(function (obj, key) {\n",
       "    if (typeof original[key] !== 'object')\n",
       "        obj[key] = original[key]\n",
       "    return obj;\n",
       "  }, {});\n",
       "}\n",
       "\n",
       "mpl.figure.prototype.mouse_event = function(event, name) {\n",
       "    var canvas_pos = mpl.findpos(event)\n",
       "\n",
       "    if (name === 'button_press')\n",
       "    {\n",
       "        this.canvas.focus();\n",
       "        this.canvas_div.focus();\n",
       "    }\n",
       "\n",
       "    var x = canvas_pos.x * mpl.ratio;\n",
       "    var y = canvas_pos.y * mpl.ratio;\n",
       "\n",
       "    this.send_message(name, {x: x, y: y, button: event.button,\n",
       "                             step: event.step,\n",
       "                             guiEvent: simpleKeys(event)});\n",
       "\n",
       "    /* This prevents the web browser from automatically changing to\n",
       "     * the text insertion cursor when the button is pressed.  We want\n",
       "     * to control all of the cursor setting manually through the\n",
       "     * 'cursor' event from matplotlib */\n",
       "    event.preventDefault();\n",
       "    return false;\n",
       "}\n",
       "\n",
       "mpl.figure.prototype._key_event_extra = function(event, name) {\n",
       "    // Handle any extra behaviour associated with a key event\n",
       "}\n",
       "\n",
       "mpl.figure.prototype.key_event = function(event, name) {\n",
       "\n",
       "    // Prevent repeat events\n",
       "    if (name == 'key_press')\n",
       "    {\n",
       "        if (event.which === this._key)\n",
       "            return;\n",
       "        else\n",
       "            this._key = event.which;\n",
       "    }\n",
       "    if (name == 'key_release')\n",
       "        this._key = null;\n",
       "\n",
       "    var value = '';\n",
       "    if (event.ctrlKey && event.which != 17)\n",
       "        value += \"ctrl+\";\n",
       "    if (event.altKey && event.which != 18)\n",
       "        value += \"alt+\";\n",
       "    if (event.shiftKey && event.which != 16)\n",
       "        value += \"shift+\";\n",
       "\n",
       "    value += 'k';\n",
       "    value += event.which.toString();\n",
       "\n",
       "    this._key_event_extra(event, name);\n",
       "\n",
       "    this.send_message(name, {key: value,\n",
       "                             guiEvent: simpleKeys(event)});\n",
       "    return false;\n",
       "}\n",
       "\n",
       "mpl.figure.prototype.toolbar_button_onclick = function(name) {\n",
       "    if (name == 'download') {\n",
       "        this.handle_save(this, null);\n",
       "    } else {\n",
       "        this.send_message(\"toolbar_button\", {name: name});\n",
       "    }\n",
       "};\n",
       "\n",
       "mpl.figure.prototype.toolbar_button_onmouseover = function(tooltip) {\n",
       "    this.message.textContent = tooltip;\n",
       "};\n",
       "mpl.toolbar_items = [[\"Home\", \"Reset original view\", \"fa fa-home icon-home\", \"home\"], [\"Back\", \"Back to previous view\", \"fa fa-arrow-left icon-arrow-left\", \"back\"], [\"Forward\", \"Forward to next view\", \"fa fa-arrow-right icon-arrow-right\", \"forward\"], [\"\", \"\", \"\", \"\"], [\"Pan\", \"Pan axes with left mouse, zoom with right\", \"fa fa-arrows icon-move\", \"pan\"], [\"Zoom\", \"Zoom to rectangle\", \"fa fa-square-o icon-check-empty\", \"zoom\"], [\"\", \"\", \"\", \"\"], [\"Download\", \"Download plot\", \"fa fa-floppy-o icon-save\", \"download\"]];\n",
       "\n",
       "mpl.extensions = [\"eps\", \"jpeg\", \"pdf\", \"png\", \"ps\", \"raw\", \"svg\", \"tif\"];\n",
       "\n",
       "mpl.default_extension = \"png\";var comm_websocket_adapter = function(comm) {\n",
       "    // Create a \"websocket\"-like object which calls the given IPython comm\n",
       "    // object with the appropriate methods. Currently this is a non binary\n",
       "    // socket, so there is still some room for performance tuning.\n",
       "    var ws = {};\n",
       "\n",
       "    ws.close = function() {\n",
       "        comm.close()\n",
       "    };\n",
       "    ws.send = function(m) {\n",
       "        //console.log('sending', m);\n",
       "        comm.send(m);\n",
       "    };\n",
       "    // Register the callback with on_msg.\n",
       "    comm.on_msg(function(msg) {\n",
       "        //console.log('receiving', msg['content']['data'], msg);\n",
       "        // Pass the mpl event to the overridden (by mpl) onmessage function.\n",
       "        ws.onmessage(msg['content']['data'])\n",
       "    });\n",
       "    return ws;\n",
       "}\n",
       "\n",
       "mpl.mpl_figure_comm = function(comm, msg) {\n",
       "    // This is the function which gets called when the mpl process\n",
       "    // starts-up an IPython Comm through the \"matplotlib\" channel.\n",
       "\n",
       "    var id = msg.content.data.id;\n",
       "    // Get hold of the div created by the display call when the Comm\n",
       "    // socket was opened in Python.\n",
       "    var element = $(\"#\" + id);\n",
       "    var ws_proxy = comm_websocket_adapter(comm)\n",
       "\n",
       "    function ondownload(figure, format) {\n",
       "        window.open(figure.imageObj.src);\n",
       "    }\n",
       "\n",
       "    var fig = new mpl.figure(id, ws_proxy,\n",
       "                           ondownload,\n",
       "                           element.get(0));\n",
       "\n",
       "    // Call onopen now - mpl needs it, as it is assuming we've passed it a real\n",
       "    // web socket which is closed, not our websocket->open comm proxy.\n",
       "    ws_proxy.onopen();\n",
       "\n",
       "    fig.parent_element = element.get(0);\n",
       "    fig.cell_info = mpl.find_output_cell(\"<div id='\" + id + \"'></div>\");\n",
       "    if (!fig.cell_info) {\n",
       "        console.error(\"Failed to find cell for figure\", id, fig);\n",
       "        return;\n",
       "    }\n",
       "\n",
       "    var output_index = fig.cell_info[2]\n",
       "    var cell = fig.cell_info[0];\n",
       "\n",
       "};\n",
       "\n",
       "mpl.figure.prototype.handle_close = function(fig, msg) {\n",
       "    var width = fig.canvas.width/mpl.ratio\n",
       "    fig.root.unbind('remove')\n",
       "\n",
       "    // Update the output cell to use the data from the current canvas.\n",
       "    fig.push_to_output();\n",
       "    var dataURL = fig.canvas.toDataURL();\n",
       "    // Re-enable the keyboard manager in IPython - without this line, in FF,\n",
       "    // the notebook keyboard shortcuts fail.\n",
       "    IPython.keyboard_manager.enable()\n",
       "    $(fig.parent_element).html('<img src=\"' + dataURL + '\" width=\"' + width + '\">');\n",
       "    fig.close_ws(fig, msg);\n",
       "}\n",
       "\n",
       "mpl.figure.prototype.close_ws = function(fig, msg){\n",
       "    fig.send_message('closing', msg);\n",
       "    // fig.ws.close()\n",
       "}\n",
       "\n",
       "mpl.figure.prototype.push_to_output = function(remove_interactive) {\n",
       "    // Turn the data on the canvas into data in the output cell.\n",
       "    var width = this.canvas.width/mpl.ratio\n",
       "    var dataURL = this.canvas.toDataURL();\n",
       "    this.cell_info[1]['text/html'] = '<img src=\"' + dataURL + '\" width=\"' + width + '\">';\n",
       "}\n",
       "\n",
       "mpl.figure.prototype.updated_canvas_event = function() {\n",
       "    // Tell IPython that the notebook contents must change.\n",
       "    IPython.notebook.set_dirty(true);\n",
       "    this.send_message(\"ack\", {});\n",
       "    var fig = this;\n",
       "    // Wait a second, then push the new image to the DOM so\n",
       "    // that it is saved nicely (might be nice to debounce this).\n",
       "    setTimeout(function () { fig.push_to_output() }, 1000);\n",
       "}\n",
       "\n",
       "mpl.figure.prototype._init_toolbar = function() {\n",
       "    var fig = this;\n",
       "\n",
       "    var nav_element = $('<div/>');\n",
       "    nav_element.attr('style', 'width: 100%');\n",
       "    this.root.append(nav_element);\n",
       "\n",
       "    // Define a callback function for later on.\n",
       "    function toolbar_event(event) {\n",
       "        return fig.toolbar_button_onclick(event['data']);\n",
       "    }\n",
       "    function toolbar_mouse_event(event) {\n",
       "        return fig.toolbar_button_onmouseover(event['data']);\n",
       "    }\n",
       "\n",
       "    for(var toolbar_ind in mpl.toolbar_items){\n",
       "        var name = mpl.toolbar_items[toolbar_ind][0];\n",
       "        var tooltip = mpl.toolbar_items[toolbar_ind][1];\n",
       "        var image = mpl.toolbar_items[toolbar_ind][2];\n",
       "        var method_name = mpl.toolbar_items[toolbar_ind][3];\n",
       "\n",
       "        if (!name) { continue; };\n",
       "\n",
       "        var button = $('<button class=\"btn btn-default\" href=\"#\" title=\"' + name + '\"><i class=\"fa ' + image + ' fa-lg\"></i></button>');\n",
       "        button.click(method_name, toolbar_event);\n",
       "        button.mouseover(tooltip, toolbar_mouse_event);\n",
       "        nav_element.append(button);\n",
       "    }\n",
       "\n",
       "    // Add the status bar.\n",
       "    var status_bar = $('<span class=\"mpl-message\" style=\"text-align:right; float: right;\"/>');\n",
       "    nav_element.append(status_bar);\n",
       "    this.message = status_bar[0];\n",
       "\n",
       "    // Add the close button to the window.\n",
       "    var buttongrp = $('<div class=\"btn-group inline pull-right\"></div>');\n",
       "    var button = $('<button class=\"btn btn-mini btn-primary\" href=\"#\" title=\"Stop Interaction\"><i class=\"fa fa-power-off icon-remove icon-large\"></i></button>');\n",
       "    button.click(function (evt) { fig.handle_close(fig, {}); } );\n",
       "    button.mouseover('Stop Interaction', toolbar_mouse_event);\n",
       "    buttongrp.append(button);\n",
       "    var titlebar = this.root.find($('.ui-dialog-titlebar'));\n",
       "    titlebar.prepend(buttongrp);\n",
       "}\n",
       "\n",
       "mpl.figure.prototype._root_extra_style = function(el){\n",
       "    var fig = this\n",
       "    el.on(\"remove\", function(){\n",
       "\tfig.close_ws(fig, {});\n",
       "    });\n",
       "}\n",
       "\n",
       "mpl.figure.prototype._canvas_extra_style = function(el){\n",
       "    // this is important to make the div 'focusable\n",
       "    el.attr('tabindex', 0)\n",
       "    // reach out to IPython and tell the keyboard manager to turn it's self\n",
       "    // off when our div gets focus\n",
       "\n",
       "    // location in version 3\n",
       "    if (IPython.notebook.keyboard_manager) {\n",
       "        IPython.notebook.keyboard_manager.register_events(el);\n",
       "    }\n",
       "    else {\n",
       "        // location in version 2\n",
       "        IPython.keyboard_manager.register_events(el);\n",
       "    }\n",
       "\n",
       "}\n",
       "\n",
       "mpl.figure.prototype._key_event_extra = function(event, name) {\n",
       "    var manager = IPython.notebook.keyboard_manager;\n",
       "    if (!manager)\n",
       "        manager = IPython.keyboard_manager;\n",
       "\n",
       "    // Check for shift+enter\n",
       "    if (event.shiftKey && event.which == 13) {\n",
       "        this.canvas_div.blur();\n",
       "        event.shiftKey = false;\n",
       "        // Send a \"J\" for go to next cell\n",
       "        event.which = 74;\n",
       "        event.keyCode = 74;\n",
       "        manager.command_mode();\n",
       "        manager.handle_keydown(event);\n",
       "    }\n",
       "}\n",
       "\n",
       "mpl.figure.prototype.handle_save = function(fig, msg) {\n",
       "    fig.ondownload(fig, null);\n",
       "}\n",
       "\n",
       "\n",
       "mpl.find_output_cell = function(html_output) {\n",
       "    // Return the cell and output element which can be found *uniquely* in the notebook.\n",
       "    // Note - this is a bit hacky, but it is done because the \"notebook_saving.Notebook\"\n",
       "    // IPython event is triggered only after the cells have been serialised, which for\n",
       "    // our purposes (turning an active figure into a static one), is too late.\n",
       "    var cells = IPython.notebook.get_cells();\n",
       "    var ncells = cells.length;\n",
       "    for (var i=0; i<ncells; i++) {\n",
       "        var cell = cells[i];\n",
       "        if (cell.cell_type === 'code'){\n",
       "            for (var j=0; j<cell.output_area.outputs.length; j++) {\n",
       "                var data = cell.output_area.outputs[j];\n",
       "                if (data.data) {\n",
       "                    // IPython >= 3 moved mimebundle to data attribute of output\n",
       "                    data = data.data;\n",
       "                }\n",
       "                if (data['text/html'] == html_output) {\n",
       "                    return [cell, data, j];\n",
       "                }\n",
       "            }\n",
       "        }\n",
       "    }\n",
       "}\n",
       "\n",
       "// Register the function which deals with the matplotlib target/channel.\n",
       "// The kernel may be null if the page has been refreshed.\n",
       "if (IPython.notebook.kernel != null) {\n",
       "    IPython.notebook.kernel.comm_manager.register_target('matplotlib', mpl.mpl_figure_comm);\n",
       "}\n"
      ],
      "text/plain": [
       "<IPython.core.display.Javascript object>"
      ]
     },
     "metadata": {},
     "output_type": "display_data"
    },
    {
     "data": {
      "text/html": [
       "<img src=\"data:image/png;base64,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\" width=\"1200\">"
      ],
      "text/plain": [
       "<IPython.core.display.HTML object>"
      ]
     },
     "metadata": {},
     "output_type": "display_data"
    }
   ],
   "source": [
    "plt.figure(figsize=(12,7))\n",
    "\n",
    "# set width of bar\n",
    "barWidth = 0.25\n",
    " \n",
    "# Set position of bar on X axis\n",
    "r1 = np.arange(len(Final_Table_RMSE.Train_Root_Mean_Square_Error.values.tolist()))\n",
    "r2 = [x + barWidth for x in r1]\n",
    " \n",
    "# Make the plot\n",
    "plt.bar(r1, Final_Table_RMSE.Train_Root_Mean_Square_Error.values.tolist(), color=\"red\", width=barWidth, label='Train RMSE')\n",
    "plt.bar(r2, Final_Table_RMSE.Test_Root_Mean_Square_Error.values.tolist(), color=\"green\", width=barWidth, label='Test RMSE')\n",
    " \n",
    "# Add xticks on the middle of the group bars\n",
    "plt.xlabel('Models', fontweight='bold')\n",
    "plt.ylabel('RMSE', fontweight='bold')\n",
    "plt.title(\"Model evaluation\", fontweight='bold')\n",
    "plt.xticks([r + barWidth for r in range(len(Final_Table_RMSE.Train_Root_Mean_Square_Error.values.tolist()))], [\"LR\", \"RFR\", \"XGBR\"])\n",
    " \n",
    "# Create legend & Show graphic\n",
    "plt.legend(loc = \"upper right\")\n",
    "plt.show()"
   ]
  },
  {
   "cell_type": "markdown",
   "metadata": {},
   "source": [
    "# Assumptions:\n",
    "1. Removed lines with error while loading text file data to dataframe.\n",
    "2. The distance of the trip is straight line.\n",
    "3. Assume that the coordinates are correct and lie within SF area.\n",
    "4. Maximum allowed trip duration is 4 hours i.e. 240 mins\n",
    "5. Maximum allowed speed in SF is 100 miles/hour\n",
    "6. Circular rides are possible (same start longitude-latitude and end langitude-latitudes)\n",
    "7. The goal of the segmentation process.\n",
    "\n",
    "5. The minimum inter-cluster distance (while finding region from longitude and latitude) is 0.5 miles."
   ]
  }
 ],
 "metadata": {
  "kernelspec": {
   "display_name": "Python 3",
   "language": "python",
   "name": "python3"
  },
  "language_info": {
   "codemirror_mode": {
    "name": "ipython",
    "version": 3
   },
   "file_extension": ".py",
   "mimetype": "text/x-python",
   "name": "python",
   "nbconvert_exporter": "python",
   "pygments_lexer": "ipython3",
   "version": "3.7.3"
  }
 },
 "nbformat": 4,
 "nbformat_minor": 2
}
